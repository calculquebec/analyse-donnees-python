{
 "cells": [
  {
   "cell_type": "markdown",
   "metadata": {},
   "source": [
    "# Analyse de données et visualisation en Python"
   ]
  },
  {
   "cell_type": "markdown",
   "metadata": {},
   "source": [
    "## À propos\n",
    "\n",
    "Cet atelier est une adaptation du tutoriel\n",
    "[Data Carpentry - Data Analysis and Visualization in Python for Ecologists](https://datacarpentry.org/python-ecology-lesson/).\n",
    "\n",
    "Note : les *notebooks* IPython du présent atelier et les données associées sont [publiés sur GitHub](https://github.com/calculquebec/analyse-donnees-python)."
   ]
  },
  {
   "cell_type": "markdown",
   "metadata": {},
   "source": [
    "### Table des matières\n",
    "**Jour 1** (3 heures)\n",
    "* [Démarrer avec des données](01-donnees.ipynb)\n",
    "* [Sélectionner des rangées et des colonnes](02-selection.ipynb)\n",
    "* [Combiner des DataFrames avec Pandas](03-combiner.ipynb)\n",
    "\n",
    "**Jour 2** (3 heures)\n",
    "* [Automatisation du traitement des données](04-automatisation.ipynb)\n",
    "* [Créer des graphiques avec Plotnine](05-plotnine.ipynb)\n",
    "* [Matplotlib et Pandas](06-matplotlib.ipynb)\n",
    "\n",
    "**Extras** (si le temps le permet)\n",
    "* [Accéder à des bases de données SQLite via Pandas](extras/sqlite.ipynb)"
   ]
  },
  {
   "cell_type": "markdown",
   "metadata": {},
   "source": [
    "### Les données utilisées\n",
    "\n",
    "Pour le présent atelier, nous utiliserons un sous-ensemble des données du\n",
    "[*Portal Project Teaching Database*](https://figshare.com/articles/Portal_Project_Teaching_Database/1314459).\n",
    "En effet, notre fichier [`data/surveys.csv`](data/surveys.csv)\n",
    "est une version simplifiée du\n",
    "[fichier original](https://ndownloader.figshare.com/files/2292172).\n",
    "Les premières lignes du fichier CSV ressemblent donc à ceci :\n",
    "\n",
    "```\n",
    "record_id,month,day,year,plot_id,species_id,sex,hindfoot_length,weight\n",
    "1,7,16,1977,2,NL,M,32,\n",
    "2,7,16,1977,3,NL,M,33,\n",
    "3,7,16,1977,2,DM,F,37,\n",
    "4,7,16,1977,7,DM,M,36,\n",
    "5,7,16,1977,3,DM,M,35,\n",
    "6,7,16,1977,1,PF,M,14,\n",
    "7,7,16,1977,2,PE,F,,\n",
    "8,7,16,1977,1,DM,M,37,\n",
    "9,7,16,1977,1,DM,F,34,\n",
    "```"
   ]
  },
  {
   "cell_type": "markdown",
   "metadata": {},
   "source": [
    " Colonne          | Description\n",
    "----------------- | -----------\n",
    "`record_id`       | Identifiant unique de l'enregistrement\n",
    "`month`           | Mois de l'enregistrement\n",
    "`day`             | Jour de l'enregistrement\n",
    "`year`            | Année de l'enregistrement\n",
    "`plot_id`         | Identifiant du site\n",
    "`species_id`      | Identifiant de l'espèce, encodé avec deux lettres\n",
    "`sex`             | Sexe de l'animal (\"F\", \"M\")\n",
    "`hindfoot_length` | Longueur de l'arrière-pied (mm)\n",
    "`weight`          | Poids de l'animal (g)"
   ]
  },
  {
   "cell_type": "markdown",
   "metadata": {},
   "source": [
    "Avec ce fichier de données, nous allons étudier les caractéristiques de\n",
    "différentes espèces animales vues dans différents sites de la zone de recherche.\n",
    "Chaque enregistrement dans ce fichier CSV contient l'information d'un seul animal observé.\n",
    "\n",
    "Référence : Ernst *et al*,\n",
    "[Long-term monitoring and experimental manipulation of a Chihuahuan Desert ecosystem near Portal, Arizona, USA](https://esapubs.org/archive/ecol/E090/118/)"
   ]
  },
  {
   "cell_type": "markdown",
   "metadata": {},
   "source": [
    "### Comment utiliser l'interface Jupyter\n",
    "Lorsqu'une cellule est en mode d'édition :\n",
    "\n",
    "  Raccourci | Description\n",
    "----------- | -----------\n",
    "MAJ+Entrée  | Exécuter une cellule et aller à la suivante\n",
    "Tab         | Indenter le code ou autocomplétion\n",
    "Échap       | Aller en mode commande\n",
    "\n",
    "Lorsqu'une cellule est en mode commande :\n",
    "\n",
    "  Raccourci | Description\n",
    "----------- | -----------\n",
    "MAJ+Entrée  | Exécuter une cellule et aller à la suivante\n",
    "Double-clic | Aller en mode édition\n",
    "Entrée      | Aller en mode édition\n",
    "\n",
    "  Raccourci | Description\n",
    "----------- | -----------\n",
    "A           | Insérer une cellule en haut\n",
    "B           | Insérer une cellule en bas\n",
    "C           | Copier la cellule\n",
    "V           | Coller la cellule en bas\n",
    "D D         | Supprimer la cellule\n",
    "M           | Changer la cellule en code Markdown\n",
    "Y           | Changer la cellule en code Python\n",
    "\n",
    "Pour réinitialiser toutes les cellules :\n",
    "* Aller dans le menu du haut et sélectionner Kernel -> Restart & Clear Output"
   ]
  },
  {
   "cell_type": "code",
   "execution_count": null,
   "metadata": {},
   "outputs": [],
   "source": [
    "1 + 2  # Faites Maj+Entrée pour exécuter cette cellule"
   ]
  },
  {
   "cell_type": "markdown",
   "metadata": {},
   "source": [
    "### Références\n",
    "Modules Python :\n",
    "* [`pandas`](https://pandas.pydata.org/docs/reference/index.html)\n",
    "* [`plotnine`](https://plotnine.readthedocs.io/en/stable/) :\n",
    "  * [Galerie (exemples)](https://plotnine.readthedocs.io/en/stable/gallery.html)\n",
    "  * Constructeurs d'éléments géométriques [`geom_*()`](https://plotnine.readthedocs.io/en/stable/api.html#geoms)\n",
    "  * Constructeurs de thèmes [`theme*()`](https://plotnine.readthedocs.io/en/stable/api.html#themes)\n",
    "  * Constructeurs de facettes [`facet_*()`](https://plotnine.readthedocs.io/en/stable/api.html#facets)\n",
    "* [`bokeh`](https://docs.bokeh.org/en/latest/) et\n",
    "[`plotly`](https://plotly.com/python/) pour des graphes interactifs en page Web\n",
    "\n",
    "Outils d'édition de codes Python :\n",
    "* Via [JupyterLab](https://docs.computecanada.ca/wiki/Jupyter#JupyterLab) sur les grappes de calcul\n",
    "* Via un [Jupyter Notebook](https://docs.computecanada.ca/wiki/JupyterNotebook/fr), lancé localement\n",
    "* L'éditeur [Spyder](https://www.spyder-ide.org)\n",
    "* [Visual Studio Code](https://code.visualstudio.com)\n",
    "\n",
    "Formation :\n",
    "* Les prochains ateliers à [Calcul Québec](https://www.eventbrite.ca/o/calcul-quebec-8295332683)\n",
    "  et [Calcul Canada](https://www.computecanada.ca/research-portal/technical-support/training/)\n",
    "* Tutoriels en ligne [Software Carpentry](https://software-carpentry.org/lessons/)\n",
    "  et [Data Carpentry](https://datacarpentry.org/lessons/) :\n",
    "  * [Introduction à la ligne de commande Bash](https://swcarpentry.github.io/shell-novice/)\n",
    "  * [Introduction à la programmation en Python](https://swcarpentry.github.io/python-novice-inflammation/)\n",
    "  * [Nettoyage des données avec OpenRefine](https://datacarpentry.org/OpenRefine-ecology-lesson/)\n",
    "  * [Gestion de données avec SQL](https://datacarpentry.org/sql-ecology-lesson/)\n",
    "  * [Analyse de données et visualisation en R](https://datacarpentry.org/R-ecology-lesson/)"
   ]
  },
  {
   "cell_type": "code",
   "execution_count": null,
   "metadata": {},
   "outputs": [],
   "source": []
  }
 ],
 "metadata": {
  "kernelspec": {
   "display_name": "Python 3 (ipykernel)",
   "language": "python",
   "name": "python3"
  },
  "language_info": {
   "codemirror_mode": {
    "name": "ipython",
    "version": 3
   },
   "file_extension": ".py",
   "mimetype": "text/x-python",
   "name": "python",
   "nbconvert_exporter": "python",
   "pygments_lexer": "ipython3",
   "version": "3.8.10"
  }
 },
 "nbformat": 4,
 "nbformat_minor": 4
}
