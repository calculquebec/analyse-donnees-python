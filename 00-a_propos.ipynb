{
 "cells": [
  {
   "cell_type": "markdown",
   "metadata": {},
   "source": [
    "# Analyse de données et visualisation en Python"
   ]
  },
  {
   "cell_type": "markdown",
   "metadata": {},
   "source": [
    "## À propos\n",
    "\n",
    "Cet atelier est une adaptation du tutoriel\n",
    "[Data Carpentry - Data Analysis and Visualization in Python for Ecologists](https://datacarpentry.org/python-ecology-lesson/).\n",
    "\n",
    "Les notebooks IPython et les données associées sont [disponibles sur GitHub](https://github.com/calculquebec/analyse-donnees-python)."
   ]
  },
  {
   "cell_type": "markdown",
   "metadata": {},
   "source": [
    "### Les données utilisées\n",
    "\n",
    "Pour le présent atelier, nous utiliserons un sous-ensemble des données du [*Portal Project Teaching Database*](https://figshare.com/articles/Portal_Project_Teaching_Database/1314459).\n",
    "* Entre autres, le fichier `data/surveys.csv` est une version simplifiée du [fichier original](https://ndownloader.figshare.com/files/2292172).\n",
    "* **Référence** : Ernst *et al*, [Long-term monitoring and experimental manipulation of a Chihuahuan Desert ecosystem near Portal, Arizona, USA](https://esapubs.org/archive/ecol/E090/118/)\n",
    "\n",
    "Avec ce fichier de données, nous allons étudier les caractéristiques de\n",
    "différentes espèces animales vues dans différents sites de la zone de recherche.\n",
    "Chaque enregistrement dans ce fichier CSV contient l'information d'un seul animal observé.\n",
    "Voici les différentes informations recueillies qui correspondent aux colonnes d'une table de données :\n",
    "\n",
    " Colonne          | Description\n",
    "----------------- | -----------\n",
    "`record_id`       | Identifiant unique de l'enregistrement\n",
    "`month`           | Mois de l'enregistrement\n",
    "`day`             | Jour de l'enregistrement\n",
    "`year`            | Année de l'enregistrement\n",
    "`plot_id`         | Identifiant du site\n",
    "`species_id`      | Identifiant de l'espèce, encodé avec deux lettres\n",
    "`sex`             | Sexe de l'animal (\"F\", \"M\")\n",
    "`hindfoot_length` | Longueur de l'arrière-pied (mm)\n",
    "`weight`          | Poids de l'animal (g)"
   ]
  },
  {
   "cell_type": "markdown",
   "metadata": {},
   "source": [
    "Les premières lignes du fichier CSV ressemblent donc à ceci :\n",
    "\n",
    "```\n",
    "record_id,month,day,year,plot_id,species_id,sex,hindfoot_length,weight\n",
    "1,7,16,1977,2,NL,M,32,\n",
    "2,7,16,1977,3,NL,M,33,\n",
    "3,7,16,1977,2,DM,F,37,\n",
    "4,7,16,1977,7,DM,M,36,\n",
    "5,7,16,1977,3,DM,M,35,\n",
    "6,7,16,1977,1,PF,M,14,\n",
    "7,7,16,1977,2,PE,F,,\n",
    "8,7,16,1977,1,DM,M,37,\n",
    "9,7,16,1977,1,DM,F,34,\n",
    "```"
   ]
  },
  {
   "cell_type": "markdown",
   "metadata": {},
   "source": [
    "## Liens utiles\n",
    "* Module Python [`pandas`](https://pandas.pydata.org/docs/reference/index.html)\n",
    "  * Fonction [`melt()`](https://pandas.pydata.org/docs/reference/api/pandas.melt.html)\n",
    "* Module Python [`plotnine`](https://plotnine.readthedocs.io/en/stable/) :\n",
    "  * [Galerie (exemples)](https://plotnine.readthedocs.io/en/stable/gallery.html)\n",
    "  * Constructeurs d'éléments géométriques [`geom_*()`](https://plotnine.readthedocs.io/en/stable/api.html#geoms)\n",
    "  * Constructeurs de thèmes [`theme*()`](https://plotnine.readthedocs.io/en/stable/api.html#themes)\n",
    "  * Constructeurs de facettes [`facet_*()`](https://plotnine.readthedocs.io/en/stable/api.html#facets)\n",
    "* Module Python [`plotly`](https://plotly.com/python/) pour des graphes interactifs\n",
    "* Outils d'édition de code Python :\n",
    "  * Via [JupyterLab](https://docs.computecanada.ca/wiki/JupyterLab) sur les grappes de calcul\n",
    "  * Via un [Jupyter Notebook](https://docs.computecanada.ca/wiki/JupyterNotebook/fr), lancé localement\n",
    "  * L'éditeur [Spyder](https://www.spyder-ide.org)\n",
    "  * [Visual Studio Code](https://code.visualstudio.com)\n",
    "* Les prochains ateliers à [Calcul Québec](https://www.eventbrite.ca/o/calcul-quebec-8295332683)\n",
    "  et [Calcul Canada](https://www.computecanada.ca/research-portal/technical-support/training/)\n",
    "* Tutoriels en ligne [Software Carpentry](https://software-carpentry.org/lessons/)\n",
    "  et [Data Carpentry](https://datacarpentry.org/lessons/) :\n",
    "  * [Introduction à la ligne de commande Bash](https://swcarpentry.github.io/shell-novice/)\n",
    "  * [Introduction à la programmation en Python](https://swcarpentry.github.io/python-novice-inflammation/)\n",
    "  * [Nettoyage des données avec OpenRefine](https://datacarpentry.org/OpenRefine-ecology-lesson/)\n",
    "  * [Gestion de données avec SQL](https://datacarpentry.org/sql-ecology-lesson/)\n",
    "  * [Analyse de données et visualisation en R](https://datacarpentry.org/R-ecology-lesson/)\n"
   ]
  },
  {
   "cell_type": "code",
   "execution_count": null,
   "metadata": {},
   "outputs": [],
   "source": []
  }
 ],
 "metadata": {
  "kernelspec": {
   "display_name": "Python 3",
   "language": "python",
   "name": "python3"
  },
  "language_info": {
   "codemirror_mode": {
    "name": "ipython",
    "version": 3
   },
   "file_extension": ".py",
   "mimetype": "text/x-python",
   "name": "python",
   "nbconvert_exporter": "python",
   "pygments_lexer": "ipython3",
   "version": "3.7.4"
  }
 },
 "nbformat": 4,
 "nbformat_minor": 2
}
