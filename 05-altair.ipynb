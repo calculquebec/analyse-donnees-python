{
 "cells": [
  {
   "cell_type": "markdown",
   "metadata": {},
   "source": [
    "# Analyse et visualisation de données avec Python\n",
    "## Créer des graphiques avec Altair\n",
    "Questions\n",
    "* Comment faire davantage de visualisation en Python?\n",
    "* Comment faire des graphiques modernes et interactifs?\n",
    "* Qu'est-ce que la \"grammaire des graphiques\"?\n",
    "\n",
    "Objectifs\n",
    "* Créer un objet `alt.Chart`.\n",
    "* Créer différents types de graphiques.\n",
    "* Modifier l'apparence du graphique:\n",
    "  * Configurer les couleurs.\n",
    "  * Éditer le titre et le nom des axes.\n",
    "* Diviser une figure en facettes.\n",
    "* Sauvegarder une figure en image et en version interactive."
   ]
  },
  {
   "cell_type": "code",
   "execution_count": null,
   "metadata": {},
   "outputs": [],
   "source": [
    "import numpy as np\n",
    "import pandas as pd\n",
    "\n",
    "# Charger et nettoyer les données\n",
    "surveys_complet = pd.read_csv('data/surveys.csv')\n",
    "surveys_complet = surveys_complet.dropna()\n",
    "surveys_complet"
   ]
  },
  {
   "cell_type": "markdown",
   "metadata": {},
   "source": [
    "## Pourquoi `altair`? Pourquoi pas `matplotlib`?\n",
    "\n",
    "Bien que `matplotlib` soit une bibliothèque de visualisation\n",
    "largement répandue et relativement flexible, la programmation\n",
    "des graphiques ne suit pas une *grammaire* spécifique.\n",
    "\n",
    "Ainsi, pour ce chapitre, nous avons fait le choix\n",
    "de vous présenter la bibliothèque `altair` qui\n",
    "[facilite la création de graphiques hautement informatifs](https://altair-viz.github.io/index.html)\n",
    "tout en s'intégrant bien avec Pandas. Le fonctionnement de\n",
    "`altair` se base sur la grammaire des graphiques interactifs\n",
    "de [Vega-Lite](https://vega.github.io/vega-lite/),\n",
    "ce qui rend la programmation à la fois élégante et puissante.\n",
    "\n",
    "Nous verrons différents concepts de visualisation qui peuvent être\n",
    "reproduits plus ou moins facilement avec d'autres bibliothèques\n",
    "telles que `matplotlib`, `plotnine`, `plotly` et `seaborn`."
   ]
  },
  {
   "cell_type": "code",
   "execution_count": null,
   "metadata": {},
   "outputs": [],
   "source": [
    "import altair as alt"
   ]
  },
  {
   "cell_type": "markdown",
   "metadata": {},
   "source": [
    "Étant donné que les graphiques générés par Altair ne sont pas que des\n",
    "images statiques, l'information générée est parfois très lourde et\n",
    "elle s'accumule dans le notebook s'il y a plusieurs graphiques.\n",
    "Néanmoins, pour contourner la limite de 5000 rangées dans le DataFrame\n",
    "de données, on peut désactiver cette limite, à nos risques."
   ]
  },
  {
   "cell_type": "code",
   "execution_count": null,
   "metadata": {},
   "outputs": [],
   "source": [
    "alt.data_transformers.disable_max_rows()"
   ]
  },
  {
   "cell_type": "markdown",
   "metadata": {},
   "source": [
    "## Générer des graphiques avec `altair`\n",
    "Les graphiques `altair` sont construits étape par étape à partir\n",
    "d'un objet de type `Chart`:\n",
    "* **Création du graphique** - La première méthode obligatoire débute\n",
    "  par `mark_`. Par exemple, `mark_point()`.\n",
    "  À ce stade, c'est normal que tout soit concentré en un point."
   ]
  },
  {
   "cell_type": "code",
   "execution_count": null,
   "metadata": {},
   "outputs": [],
   "source": [
    "# Création de l'objet Chart et choix du type de graphique\n",
    "alt.Chart(surveys_complet).mark_point()"
   ]
  },
  {
   "cell_type": "markdown",
   "metadata": {},
   "source": [
    "* **Encodage des canaux** - La prochaine étape consiste à\n",
    "  [encoder](https://altair-viz.github.io/user_guide/encodings/)\n",
    "  des canaux liant certaines variables du DataFrame à divers éléments\n",
    "  du graphiques. Les principaux paramètres de `encode()` sont :\n",
    "  `x`, `y`, `color`, `shape` et `size`."
   ]
  },
  {
   "cell_type": "code",
   "execution_count": null,
   "metadata": {},
   "outputs": [],
   "source": [
    "# Définition des axes ; les points prennent leur position\n",
    "alt.Chart(surveys_complet).mark_point().encode(\n",
    "    x=alt.X('hindfoot_length'),\n",
    "    y=alt.Y('weight'),\n",
    ")"
   ]
  },
  {
   "cell_type": "markdown",
   "metadata": {},
   "source": [
    "* **Navigation interactive** - On peut ensuite rendre le graphique\n",
    "  interactif, ce qui permet de naviguer dans le graphique à l'aide\n",
    "  de la souris."
   ]
  },
  {
   "cell_type": "code",
   "execution_count": null,
   "metadata": {},
   "outputs": [],
   "source": [
    "# Permettre les interactions avec la souris\n",
    "alt.Chart(surveys_complet).mark_point().encode(\n",
    "    x=alt.X('hindfoot_length'),\n",
    "    y=alt.Y('weight'),\n",
    ").interactive()"
   ]
  },
  {
   "cell_type": "code",
   "execution_count": null,
   "metadata": {},
   "outputs": [],
   "source": [
    "# Ajouter du bruit aux longueurs et aux poids\n",
    "N = len(surveys_complet)\n",
    "surveys_complet['longueur_bruitee'] = (\n",
    "    surveys_complet['hindfoot_length'] + np.random.uniform(-0.5, 0.5, N)\n",
    ")\n",
    "surveys_complet['poids_bruite'] = (\n",
    "    surveys_complet['weight'] + np.random.uniform(-0.5, 0.5, N)\n",
    ")\n",
    "surveys_complet.columns"
   ]
  },
  {
   "cell_type": "markdown",
   "metadata": {},
   "source": [
    "* **Affichage interactif des valeurs** - Encoder le canal `tooltip`\n",
    "  avec une liste de variables à afficher au passage de la souris."
   ]
  },
  {
   "cell_type": "code",
   "execution_count": null,
   "metadata": {},
   "outputs": [],
   "source": [
    "# Permettre de voir les valeurs associées aux points\n",
    "graphique = alt.Chart(surveys_complet).mark_point().encode(\n",
    "    x=alt.X('longueur_bruitee'),\n",
    "    y=alt.Y('poids_bruite'),\n",
    "    tooltip=['plot_id', 'species_id', 'hindfoot_length', 'weight'],\n",
    ")\n",
    "graphique"
   ]
  },
  {
   "cell_type": "markdown",
   "metadata": {},
   "source": [
    "* **Sauvegarde du graphique** - C'est possible de le sauvegarder dans le format de notre choix."
   ]
  },
  {
   "cell_type": "code",
   "execution_count": null,
   "metadata": {},
   "outputs": [],
   "source": [
    "graphique.save(\"poids_longueur.html\")"
   ]
  },
  {
   "cell_type": "code",
   "execution_count": null,
   "metadata": {},
   "outputs": [],
   "source": [
    "try:\n",
    "    graphique.save(\"poids_longueur.png\")\n",
    "except BaseException as err:\n",
    "    print('Erreur:', err)\n",
    "    print('-> Il vaut mieux utiliser le bouton (•••)')"
   ]
  },
  {
   "cell_type": "markdown",
   "metadata": {},
   "source": [
    "### Exercice - Créer un histogramme\n",
    "À partir du DataFrame `surveys_complet`, faites afficher le\n",
    "décompte du nombre d'enregistrements pour chaque `plot_id`. Instructions :\n",
    "* Utilisez\n",
    "  [`mark_bar()`](https://altair-viz.github.io/gallery/simple_bar_chart.html)\n",
    "  pour générer\n",
    "  [l'histogramme](https://altair-viz.github.io/gallery/simple_histogram.html)\n",
    "* Sur l'axe horizontal, spécifiez la variable `'plot_id'` et le\n",
    "  [type `'ordinal'`](https://altair-viz.github.io/user_guide/encodings/#encoding-data-types)\n",
    "* Sur l'axe vertical, spécifiez `'count()'` comme variable pour que\n",
    "  Altair fasse automatiquement le décompte, ce qui évite de passer\n",
    "  par la méthode `groupby()` du DataFrame"
   ]
  },
  {
   "cell_type": "code",
   "execution_count": null,
   "metadata": {},
   "outputs": [],
   "source": [
    "surveys_complet\n",
    "    ('plot_id').type('ordinal'),\n",
    "    ('count()'),\n"
   ]
  },
  {
   "cell_type": "markdown",
   "metadata": {
    "tags": []
   },
   "source": [
    "## Construire un graphique par étapes\n",
    "Rappel : les éléments de base de tout graphique Altair sont\n",
    "le `Chart()` avec le DataFrame, un type de graphique `mark_*()`\n",
    "et des variables utilisées dans `encode()`.\n",
    "\n",
    "* Ensuite, on commence à modifier le graphique pour en extraire\n",
    "  davantage d'information. Par exemple, avec de la transparence :"
   ]
  },
  {
   "cell_type": "code",
   "execution_count": null,
   "metadata": {},
   "outputs": [],
   "source": [
    "alt.Chart(surveys_complet).mark_point().encode(\n",
    "    x=alt.X('longueur_bruitee'),\n",
    "    y=alt.Y('poids_bruite'),\n",
    ").configure_mark(\n",
    "    opacity=0.05,\n",
    ")"
   ]
  },
  {
   "cell_type": "markdown",
   "metadata": {},
   "source": [
    "* Pour avoir une couleur différente pour chaque type d'espèce,\n",
    "  il faut lier la variable `species_id` au canal `color` :"
   ]
  },
  {
   "cell_type": "code",
   "execution_count": null,
   "metadata": {},
   "outputs": [],
   "source": [
    "alt.Chart(surveys_complet).mark_point().encode(\n",
    "    x=alt.X('longueur_bruitee'),\n",
    "    y=alt.Y('poids_bruite'),\n",
    "    color=alt.Color('species_id'),\n",
    ").configure_mark(\n",
    "    opacity=0.05,\n",
    ")"
   ]
  },
  {
   "cell_type": "markdown",
   "metadata": {},
   "source": [
    "* Étant donné la similarité de certaines couleurs, on peut ensuite\n",
    "  activer les `tooltip` avec les identifiants de `species_id` :"
   ]
  },
  {
   "cell_type": "code",
   "execution_count": null,
   "metadata": {},
   "outputs": [],
   "source": [
    "alt.Chart(surveys_complet).mark_point().encode(\n",
    "    x=alt.X('longueur_bruitee'),\n",
    "    y=alt.Y('poids_bruite'),\n",
    "    color=alt.Color('species_id'),\n",
    "    tooltip=['species_id'],\n",
    ").configure_mark(\n",
    "    opacity=0.05,\n",
    ")"
   ]
  },
  {
   "cell_type": "markdown",
   "metadata": {},
   "source": [
    "* Utiliser une échelle verticale semi-log :"
   ]
  },
  {
   "cell_type": "code",
   "execution_count": null,
   "metadata": {},
   "outputs": [],
   "source": [
    "alt.Chart(surveys_complet).mark_point().encode(\n",
    "    x=alt.X('longueur_bruitee'),\n",
    "    y=alt.Y('poids_bruite').scale(type='log', base=2),\n",
    "    color=alt.Color('species_id'),\n",
    "    tooltip=['species_id'],\n",
    ").configure_mark(\n",
    "    opacity=0.05,\n",
    ").properties(\n",
    "    height=384,\n",
    ")"
   ]
  },
  {
   "cell_type": "markdown",
   "metadata": {},
   "source": [
    "* Modifier le nom des axes :"
   ]
  },
  {
   "cell_type": "code",
   "execution_count": null,
   "metadata": {},
   "outputs": [],
   "source": [
    "alt.Chart(surveys_complet).mark_point().encode(\n",
    "    x=alt.X('longueur_bruitee').title('Longueur de patte (mm)'),\n",
    "    y=alt.Y('poids_bruite').scale(type='log', base=2).title('Poids (g)'),\n",
    "    color=alt.Color('species_id'),\n",
    "    tooltip=['species_id'],\n",
    ").configure_mark(\n",
    "    opacity=0.05,\n",
    ").properties(\n",
    "    height=384,\n",
    "    title='Poids selon la longueur de patte',\n",
    ")"
   ]
  },
  {
   "cell_type": "markdown",
   "metadata": {},
   "source": [
    "### Exercice - Enrichir l'histogramme\n",
    "Adaptez l'histogramme de l'exercice précédent en associant la variable\n",
    "`sex` à une échelle de couleurs spécifique :\n",
    "* L'encodage du canal `color` doit donc se faire avec la variable\n",
    "  `'sex'`. La méthode `.scale()` permet ensuite d'associer les valeurs\n",
    "  de domaine `'F'` et `'M'` aux couleurs `'orange'` et `'green'`.\n",
    "  Voir [un exemple ici](https://altair-viz.github.io/user_guide/customization.html#color-domain-and-range)\n",
    "* Activez le canal `tooltip` avec `'count()'` pour avoir le décompte\n",
    "  par sexe"
   ]
  },
  {
   "cell_type": "code",
   "execution_count": null,
   "metadata": {},
   "outputs": [],
   "source": [
    "alt.Chart(surveys_complet).mark_bar().encode(\n",
    "    x=alt.X('plot_id').type('ordinal'),\n",
    "    y=alt.Y('count()'),\n",
    "    color=alt.().scale(\n",
    "        =['F', 'M'],\n",
    "        =['orange', 'green'],\n",
    "    ),\n",
    "    ['count()'],\n",
    ")"
   ]
  },
  {
   "cell_type": "markdown",
   "metadata": {},
   "source": [
    "## Visualiser des données selon le temps\n",
    "* Nombre d'enregistrements par type d'espèce pour chaque année :"
   ]
  },
  {
   "cell_type": "code",
   "execution_count": null,
   "metadata": {},
   "outputs": [],
   "source": [
    "alt.Chart(surveys_complet).mark_line().encode(\n",
    "    x=alt.X('year').type('ordinal'),\n",
    "    y=alt.Y('count()').scale(type='log', base=2),\n",
    "    color=alt.Color('species_id'),\n",
    ")"
   ]
  },
  {
   "cell_type": "markdown",
   "metadata": {},
   "source": [
    "* Poids médian par type d'espèce pour chaque mois :"
   ]
  },
  {
   "cell_type": "code",
   "execution_count": null,
   "metadata": {},
   "outputs": [],
   "source": [
    "alt.Chart(surveys_complet).mark_line().encode(\n",
    "    x=alt.X('month').type('ordinal'),\n",
    "    y=alt.Y('weight').aggregate('median'),\n",
    "    color=alt.Color('species_id'),\n",
    "    tooltip=['species_id'],\n",
    ")"
   ]
  },
  {
   "cell_type": "markdown",
   "metadata": {},
   "source": [
    "### Exercice - Visualisation selon le temps\n",
    "`1`. Utilisez la fonction `pd.to_datetime()` pour générer une colonne\n",
    "     de dates à partir des colonnes `year`, `month` et `day`."
   ]
  },
  {
   "cell_type": "code",
   "execution_count": null,
   "metadata": {},
   "outputs": [],
   "source": [
    "# Décennie 1990 - pour éviter avril et septembre 2000\n",
    "dec_1990 = surveys_complet[\n",
    "    surveys_complet['year'] // 10 == 199].copy()\n",
    "\n",
    "dec_1990['date'] = ['year', 'month', 'day']\n",
    "dec_1990['date']  # Affichage de la colonne date"
   ]
  },
  {
   "cell_type": "markdown",
   "metadata": {},
   "source": [
    "`2`. Affichez le poids médian de chaque espèce selon la `date`."
   ]
  },
  {
   "cell_type": "code",
   "execution_count": null,
   "metadata": {},
   "outputs": [],
   "source": [
    "alt.Chart().mark_line().encode(\n",
    "    x=alt.X(),\n",
    "    y=alt.Y('weight').('median'),\n",
    "    color=alt.Color('species_id'),\n",
    "    tooltip=['species_id', 'date'],\n",
    ")"
   ]
  },
  {
   "cell_type": "markdown",
   "metadata": {},
   "source": [
    "## Création de facettes\n",
    "`altair` a une technique spéciale appelée *création de facettes*\n",
    "permettant de diviser un graphique en plusieurs sous-graphiques\n",
    "selon les valeurs d'une variable.\n",
    "\n",
    "* Avec les différentes valeurs de `sex` :"
   ]
  },
  {
   "cell_type": "code",
   "execution_count": null,
   "metadata": {},
   "outputs": [],
   "source": [
    "alt.Chart(surveys_complet).mark_point().encode(\n",
    "    x=alt.X('longueur_bruitee'),\n",
    "    y=alt.Y('poids_bruite').scale(type='log', base=2),\n",
    "    color=alt.Color('species_id'),\n",
    "    facet=alt.Facet('sex'),\n",
    "    tooltip=['species_id'],\n",
    ").configure_mark(\n",
    "    opacity=0.05,\n",
    ").properties(\n",
    "    width=240,\n",
    "    height=384,\n",
    ")"
   ]
  },
  {
   "cell_type": "markdown",
   "metadata": {},
   "source": [
    "* Avec les nombreuses valeurs de `plot_id` :"
   ]
  },
  {
   "cell_type": "code",
   "execution_count": null,
   "metadata": {},
   "outputs": [],
   "source": [
    "alt.Chart(surveys_complet).mark_point().encode(\n",
    "    x=alt.X('longueur_bruitee'),\n",
    "    y=alt.Y('poids_bruite').scale(type='log', base=2),\n",
    "    color=alt.Color('species_id'),\n",
    "    facet=alt.Facet('plot_id').columns(5),\n",
    "    tooltip=['species_id'],\n",
    ").configure_mark(\n",
    "    opacity=0.05,\n",
    ").properties(\n",
    "    width=90,\n",
    "    height=60,\n",
    ")"
   ]
  },
  {
   "cell_type": "markdown",
   "metadata": {},
   "source": [
    "* Pour créer une grille de facettes telle qu'une variable change de\n",
    "  valeur d'une rangée à l'autre et qu'une seconde variable change\n",
    "  d'une colonne à l'autre, on utilisera les canaux `row` et `column` :"
   ]
  },
  {
   "cell_type": "code",
   "execution_count": null,
   "metadata": {},
   "outputs": [],
   "source": [
    "# Garder uniquement quelques années\n",
    "surveys2000 = surveys_complet[surveys_complet['year'].isin([2000, 2001, 2002])]\n",
    "\n",
    "alt.Chart(surveys2000).mark_point().encode(\n",
    "    x=alt.X('longueur_bruitee'),\n",
    "    y=alt.Y('poids_bruite').scale(type='log', base=2),\n",
    "    color=alt.Color('species_id'),\n",
    "    row=alt.Row('sex'),\n",
    "    column=alt.Column('year'),\n",
    "    tooltip=['species_id'],\n",
    ").configure_mark(\n",
    "    opacity=0.05,\n",
    ").properties(\n",
    "    width=128,\n",
    "    height=128,\n",
    ")"
   ]
  },
  {
   "cell_type": "markdown",
   "metadata": {},
   "source": [
    "### Exercice - Facettes\n",
    "* Créez deux facettes selon le `sex`\n",
    "* Chaque facette aura :\n",
    "  * Les années en axe des x\n",
    "  * Le poids moyen en axe des y\n",
    "  * Une courbe de couleur par espèce"
   ]
  },
  {
   "cell_type": "code",
   "execution_count": null,
   "metadata": {},
   "outputs": [],
   "source": [
    "alt.Chart(surveys_complet).().encode(\n",
    "    x=alt.X('year').type,\n",
    "    y=alt.Y('weight').aggregate,\n",
    "    color=,\n",
    "    ,\n",
    ").properties(\n",
    "    width=256,\n",
    ")"
   ]
  },
  {
   "cell_type": "markdown",
   "metadata": {},
   "source": [
    "## Visualiser des distributions\n",
    "* Tout d'abord, un box-plot peut être utilisé :"
   ]
  },
  {
   "cell_type": "code",
   "execution_count": null,
   "metadata": {},
   "outputs": [],
   "source": [
    "alt.Chart(surveys_complet).mark_boxplot().encode(\n",
    "    x=alt.X('species_id').title(\"Identifiant d'espèce\"),\n",
    "    y=alt.Y('poids_bruite').scale(type='log', base=2).title('Poids (g)'),\n",
    "    color=alt.Color('species_id').legend(None),\n",
    ")"
   ]
  },
  {
   "cell_type": "markdown",
   "metadata": {},
   "source": [
    "* Des facettes étroites peuvent être utilisées pour afficher\n",
    "  plusieurs nuages de points :"
   ]
  },
  {
   "cell_type": "code",
   "execution_count": null,
   "metadata": {},
   "outputs": [],
   "source": [
    "alt.Chart(surveys_complet).transform_calculate(\n",
    "    bruit='random()-0.5'  # Position horizontale dans la facette\n",
    ").mark_circle(size=4).encode(\n",
    "    x=alt.X('bruit').type('quantitative').axis(None).title(None),\n",
    "    y=alt.Y('poids_bruite').scale(type='log', base=2).title('Poids (g)'),\n",
    "    color=alt.Color('species_id').legend(None),\n",
    "    column=alt.Column('species_id').title('Poids selon les espèces'),\n",
    ").configure_mark(\n",
    "    opacity=0.25,  # Transparence des mark_circle()\n",
    ").configure_facet(\n",
    "    spacing=0,     # Supprimer la marge entre les facettes\n",
    ").configure_view(\n",
    "    stroke=None,   # Enlever la boîte autour des facettes\n",
    ").properties(\n",
    "    width=18,      # Largeur des facettes\n",
    ")"
   ]
  },
  {
   "cell_type": "markdown",
   "metadata": {},
   "source": [
    "### Exercice - Distributions\n",
    "Pour cet exercice, on cherche à avoir les vrais noms d'espèce sur\n",
    "l'axe horizontal d'un box-plot.\n",
    "\n",
    "`1`. Recalculez la jonction de gauche entre `surveys_complet` et\n",
    "     le détail des espèces dans `species.csv`."
   ]
  },
  {
   "cell_type": "code",
   "execution_count": null,
   "metadata": {},
   "outputs": [],
   "source": [
    "species_df = pd.read_csv('data/species.csv')\n",
    "\n",
    "jonc_gauche = pd.(\n",
    "    left=, right=,\n",
    "    on=, how=)\n",
    "\n",
    "jonc_gauche.columns"
   ]
  },
  {
   "cell_type": "markdown",
   "metadata": {},
   "source": [
    "`2`. Créez le box-plot:\n",
    "* Le nom des espèces sur l'axe horizontal, avec l'étiquette \"Espèce\"\n",
    "* Le poids bruité dans l'axe vertical, selon une échelle logarithmique\n",
    "  en base 2 et avec l'étiquette \"Poids (g)\"\n",
    "* Une couleur selon l'identifiant d'espèce\n",
    "* Un titre pour le graphique"
   ]
  },
  {
   "cell_type": "code",
   "execution_count": null,
   "metadata": {},
   "outputs": [],
   "source": [
    "alt.Chart().encode(\n",
    "    x=alt.X().(\"Espèce\"),\n",
    "    y=alt.Y('poids_bruite').scale(type='log', base=2).('Poids (g)'),\n",
    "    color=alt.Color().legend(None),\n",
    ").(\n",
    "    ='Distribution des poids par espèce',\n",
    ")"
   ]
  },
  {
   "cell_type": "markdown",
   "metadata": {},
   "source": [
    "## Résumé technique\n",
    "* **Module Altair**\n",
    "  * `import altair as alt`\n",
    "  * Désactiver limite : `alt.data_transformers.disable_max_rows()`\n",
    "* **Création d'un graphique vierge**\n",
    "  * `graphique = alt.Chart(df)`\n",
    "* **Choix du type de marqueurs** à afficher\n",
    "  * `graphique.mark_point()`\n",
    "  * `graphique.mark_bar()`\n",
    "  * `graphique.mark_line()`\n",
    "  * `graphique.mark_boxplot()`\n",
    "  * `graphique.mark_circle(size=N)`\n",
    "  * `graphique.mark_area(orient='horizontal')`\n",
    "* **Assigner des variables** à des canaux du graphique\n",
    "  * `graphique.encode(...)`\n",
    "  * Différents canaux :\n",
    "    * `x=alt.X('varX')` et `y=alt.Y('varY')`\n",
    "      * `.type('type')`, avec les\n",
    "        [différents types](https://altair-viz.github.io/user_guide/encodings/index.html#encoding-data-types) :\n",
    "        * Quantités continues : `'quantitative'`, `'var:Q'`\n",
    "        * Quantités discrètes triées : `'ordinal'`, `'var:O'`\n",
    "        * Catégories discrètes : `'nominal'`, `'var:N'`\n",
    "        * Dates et heures : `'temporal'`, `'var:T'`\n",
    "      * `.aggregate('stat')`,\n",
    "        avec les statistiques `'mean'`, `'median'`, etc.\n",
    "      * `.scale(type='log', base=2)`\n",
    "      * `.title('Nom axe X ou Y')`\n",
    "    * `color=alt.Color('varCouleur')`\n",
    "      * `.legend(None)`\n",
    "      * `.scale(domain=[...], range=['#114499', ...])`\n",
    "    * `facet=alt.Facet('varFacet')`\n",
    "      * `.columns(N)`\n",
    "    * `row=alt.Row('varRangées')`\n",
    "    * `column=alt.Column('varColonne')`\n",
    "    * `tooltip=['varX', 'varY', 'varCouleur', ...]`\n",
    "* **Autres propriétés du graphique**\n",
    "  * `graphique.interactive()`\n",
    "  * `graphique.configure_mark(opacity=0.05)`\n",
    "  * `graphique.properties(...)`\n",
    "    * `width=400`\n",
    "    * `height=300`\n",
    "    * `title='Titre'`\n",
    "  * `graphique.configure_facet(spacing=0)`\n",
    "  * `graphique.configure_view(stroke=None, width=20)`\n",
    "* **Sauvegarde**\n",
    "  * `graphique.save(\"graphique.html\")`\n",
    "  * `graphique.save(\"graphique.png\")`"
   ]
  },
  {
   "cell_type": "code",
   "execution_count": null,
   "metadata": {},
   "outputs": [],
   "source": []
  }
 ],
 "metadata": {
  "anaconda-cloud": {},
  "kernelspec": {
   "display_name": "Python 3 (ipykernel)",
   "language": "python",
   "name": "python3"
  },
  "language_info": {
   "codemirror_mode": {
    "name": "ipython",
    "version": 3
   },
   "file_extension": ".py",
   "mimetype": "text/x-python",
   "name": "python",
   "nbconvert_exporter": "python",
   "pygments_lexer": "ipython3",
   "version": "3.11.7"
  }
 },
 "nbformat": 4,
 "nbformat_minor": 4
}
