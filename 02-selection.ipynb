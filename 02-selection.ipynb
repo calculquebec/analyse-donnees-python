{
 "cells": [
  {
   "cell_type": "markdown",
   "metadata": {},
   "source": [
    "# Analyse et visualisation de données avec Python\n",
    "## Sélectionner des rangées et des colonnes\n",
    "Questions\n",
    "* Comment accéder à des données spécifiques dans un dataframe?\n",
    "* Comment gérer les valeurs nulles?\n",
    "* Comment sauvegarder un dataframe?\n",
    "\n",
    "Objectives\n",
    "* Utiliser les tranches pour sélectionner un intervalle de données.\n",
    "* Utiliser les étiquettes de rangées et les noms de colonnes pour délimiter une tranche.\n",
    "* Réassigner des valeurs à une sélection dans un dataframe.\n",
    "* Créer une copie d'un dataframe.\n",
    "* Effectuer une sélection en utilisant un critère contenant un opérateur : `=`, `!=`, `>`, `<`, `>=`, `<=`.\n",
    "* Manipuler les données avec des masques de valeurs booléennes.\n",
    "* Transformer ou éliminer les valeurs nulles.\n",
    "* Écrire les données manipulées dans un fichier CSV."
   ]
  },
  {
   "cell_type": "markdown",
   "metadata": {},
   "source": [
    "## Charger nos données"
   ]
  },
  {
   "cell_type": "code",
   "execution_count": null,
   "metadata": {},
   "outputs": [],
   "source": [
    "# Charger le module pandas\n",
    "import pandas as pd\n",
    "\n",
    "# Charger les données\n",
    "surveys_df = pd.read_csv(\"../data/surveys.csv\")"
   ]
  },
  {
   "cell_type": "markdown",
   "metadata": {},
   "source": [
    "## *Indexing* et *Slicing* dans Python\n",
    "### Sélectionner des données en utilisant des noms de colonne"
   ]
  },
  {
   "cell_type": "code",
   "execution_count": null,
   "metadata": {},
   "outputs": [],
   "source": [
    "surveys_df###"
   ]
  },
  {
   "cell_type": "code",
   "execution_count": null,
   "metadata": {},
   "outputs": [],
   "source": [
    "surveys_### = surveys_df['species_id']\n",
    "surveys_species.###"
   ]
  },
  {
   "cell_type": "code",
   "execution_count": null,
   "metadata": {},
   "outputs": [],
   "source": [
    "# Sélectionner deux colonnes à l'aide d'une liste\n",
    "surveys_df[###'species_id', 'plot_id'###]"
   ]
  },
  {
   "cell_type": "markdown",
   "metadata": {},
   "source": [
    "### Faire une sélection selon des rangées et des colonnes\n",
    "On peut sélectionner un sous-ensemble de rangées et de colonnes avec l'attribut `loc` : c'est principalement basé sur les index de rangée et de colonne."
   ]
  },
  {
   "cell_type": "code",
   "execution_count": null,
   "metadata": {},
   "outputs": [],
   "source": [
    "# Qu'est-ce que cela donne?\n",
    "# surveys_df.loc[0, ['species_id', 'plot_id', 'weight']]"
   ]
  },
  {
   "cell_type": "code",
   "execution_count": null,
   "metadata": {},
   "outputs": [],
   "source": [
    "# Sélectionner toutes les colonnes pour les rangées 0 et 10\n",
    "surveys_df.loc[###, ###]"
   ]
  },
  {
   "cell_type": "code",
   "execution_count": null,
   "metadata": {},
   "outputs": [],
   "source": [
    "# Qu'arrive-t-il si on exécute le code ci-dessous?\n",
    "# surveys_df.loc[[0, 10, 35549], :]"
   ]
  },
  {
   "cell_type": "markdown",
   "metadata": {},
   "source": [
    "### Exercice - Un intervalle\n",
    "Qu'est-ce qui arrive si on exécute :"
   ]
  },
  {
   "cell_type": "code",
   "execution_count": null,
   "metadata": {},
   "outputs": [],
   "source": [
    "# surveys_df.loc[0:4, 1:4] # 'month':'plot_id'"
   ]
  },
  {
   "cell_type": "markdown",
   "metadata": {},
   "source": [
    "## Sélection par des critères"
   ]
  },
  {
   "cell_type": "code",
   "execution_count": null,
   "metadata": {},
   "outputs": [],
   "source": [
    "surveys_df###surveys_df['year'] ### ######"
   ]
  },
  {
   "cell_type": "code",
   "execution_count": null,
   "metadata": {},
   "outputs": [],
   "source": [
    "surveys_df[surveys_df['year'] ### ###]"
   ]
  },
  {
   "cell_type": "code",
   "execution_count": null,
   "metadata": {},
   "outputs": [],
   "source": [
    "surveys_df[(surveys_df['year'] >= 2001### ### (surveys_df['weight'] <= 8###]"
   ]
  },
  {
   "cell_type": "markdown",
   "metadata": {
    "collapsed": true
   },
   "source": [
    "Voici quelques opérateurs de comparaison que vous pouvez essayer :\n",
    "\n",
    "* Égal : `==`\n",
    "* Pas égal : `!=`\n",
    "* Plus grand que, plus petit que : `>` or `<`\n",
    "* Plus grand ou égal à : `>=`\n",
    "* Plus petit ou égal à : `<=`"
   ]
  },
  {
   "cell_type": "markdown",
   "metadata": {},
   "source": [
    "### Exercices - Sélections par la présence\n",
    "`1`. Vous pouvez utiliser la méthode `isin()` pour aller chercher les enregistrements dont les valeurs d'une colonne correspondent à l'une des valeurs fournies dans une liste. Par exemple :\n",
    "```\n",
    "surveys_df[surveys_df['column_name'].isin([value1, value2, ...])]\n",
    "```\n",
    "Utilisez la méthode `isin()` pour trouver tous les différents sites (`plot_id`) ayant certaines espèces (`AS`, `CQ`, `OX` et `UL`) dans le DataFrame."
   ]
  },
  {
   "cell_type": "code",
   "execution_count": null,
   "metadata": {},
   "outputs": [],
   "source": [
    "surveys_df[surveys_df['species_id'].###(###)]['plot_id'].###"
   ]
  },
  {
   "cell_type": "markdown",
   "metadata": {},
   "source": [
    "`2`. Créez une sélection contenant seulement les enregistrements ayant une valeur de `sex` (soit `F` ou `M`) et ayant poids supérieur à 0. Créez un graphique de barres empilées (ou *stacked bar-plot*) montrant la moyenne des poids selon le site (`plot_id`), mais avec les résultats des femelles et des mâles superposés."
   ]
  },
  {
   "cell_type": "code",
   "execution_count": null,
   "metadata": {},
   "outputs": [],
   "source": [
    "# Sélection des enregistrements et des colonnes nécessaires\n",
    "selection = surveys_df[(surveys_df['sex'].###([\"F\", \"M\"])) & \n",
    "                       (surveys_df['weight'] ###)][[###]]\n",
    "selection.head()"
   ]
  },
  {
   "cell_type": "code",
   "execution_count": null,
   "metadata": {},
   "outputs": [],
   "source": [
    "# Grouper selon les sites et les sexes, calculer les moyennes\n",
    "selection = selection.groupby(['plot_id', 'sex']).###().unstack()\n",
    "selection.head()"
   ]
  },
  {
   "cell_type": "code",
   "execution_count": null,
   "metadata": {},
   "outputs": [],
   "source": [
    "# Simplification du nom des colonnes dans la légende\n",
    "selection.columns = selection.columns.droplevel()\n",
    "selection.head()"
   ]
  },
  {
   "cell_type": "code",
   "execution_count": null,
   "metadata": {},
   "outputs": [],
   "source": [
    "# Créer le stacked bar plot\n",
    "selection.plot(kind='###', ###=True)"
   ]
  },
  {
   "cell_type": "markdown",
   "metadata": {},
   "source": [
    "`3`. Le symbole `~` peut être utilisé pour retourner l'opposé d'une sélection. C'est l'équivalent de **n'est pas**. Écrivez une requête sélectionnant tous les enregistrements ne contenant ni `F`, ni `M`."
   ]
  },
  {
   "cell_type": "code",
   "execution_count": null,
   "metadata": {},
   "outputs": [],
   "source": [
    "surveys_df[###surveys_df['sex'].###([\"F\", \"M\"])]"
   ]
  },
  {
   "cell_type": "markdown",
   "metadata": {},
   "source": [
    "## Sélection et nettoyage des valeurs non définies"
   ]
  },
  {
   "cell_type": "code",
   "execution_count": null,
   "metadata": {},
   "outputs": [],
   "source": [
    "pd.###(surveys_df)"
   ]
  },
  {
   "cell_type": "code",
   "execution_count": null,
   "metadata": {},
   "outputs": [],
   "source": [
    "# Pour sélectionner les enregistrements ayant au moins une valeur NaN\n",
    "surveys_df[pd.###(surveys_df).###(axis=1)]"
   ]
  },
  {
   "cell_type": "code",
   "execution_count": null,
   "metadata": {},
   "outputs": [],
   "source": [
    "# Qu'est-ce que le code suivant va retourner?\n",
    "une_selection = surveys_df[pd.###(surveys_df['weight'])]\n",
    "une_selection.groupby('species_id')['record_id'].###()"
   ]
  },
  {
   "cell_type": "markdown",
   "metadata": {},
   "source": [
    "### Recréer des données manquantes"
   ]
  },
  {
   "cell_type": "code",
   "execution_count": null,
   "metadata": {},
   "outputs": [],
   "source": [
    "# Le \"avant\"\n",
    "print(surveys_df['###']###, surveys_df['weight']###)"
   ]
  },
  {
   "cell_type": "code",
   "execution_count": null,
   "metadata": {},
   "outputs": [],
   "source": [
    "# Créer une copie pour ne pas modifier l'objet original\n",
    "copie_surveys = surveys_df.###()"
   ]
  },
  {
   "cell_type": "code",
   "execution_count": null,
   "metadata": {},
   "outputs": [],
   "source": [
    "# Pour une valeur moyenne stable\n",
    "### = copie_surveys['weight'].mean()\n",
    "copie_surveys['###'] = copie_surveys['weight']###(moyennePoids)"
   ]
  },
  {
   "cell_type": "code",
   "execution_count": null,
   "metadata": {},
   "outputs": [],
   "source": [
    "# Le \"après\"\n",
    "print(###_surveys['weight']###, copie_surveys['weight']###)"
   ]
  },
  {
   "cell_type": "markdown",
   "metadata": {},
   "source": [
    "### Sauvegarde après nettoyage"
   ]
  },
  {
   "cell_type": "code",
   "execution_count": null,
   "metadata": {},
   "outputs": [],
   "source": [
    "# Ne garder que les lignes sans aucun NA\n",
    "df_sans_na = surveys_df.###()\n",
    "###"
   ]
  },
  {
   "cell_type": "code",
   "execution_count": null,
   "metadata": {},
   "outputs": [],
   "source": [
    "df_sans_na.###('surveys_sans_NA.###', ###)"
   ]
  },
  {
   "cell_type": "code",
   "execution_count": null,
   "metadata": {},
   "outputs": [],
   "source": []
  }
 ],
 "metadata": {
  "anaconda-cloud": {},
  "kernelspec": {
   "display_name": "Python 3",
   "language": "python",
   "name": "python3"
  },
  "language_info": {
   "codemirror_mode": {
    "name": "ipython",
    "version": 3
   },
   "file_extension": ".py",
   "mimetype": "text/x-python",
   "name": "python",
   "nbconvert_exporter": "python",
   "pygments_lexer": "ipython3",
   "version": "3.7.4"
  }
 },
 "nbformat": 4,
 "nbformat_minor": 1
}
