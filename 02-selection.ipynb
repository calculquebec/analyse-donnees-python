{
 "cells": [
  {
   "cell_type": "markdown",
   "metadata": {},
   "source": [
    "# Analyse et visualisation de données avec Python\n",
    "## Sélectionner des rangées et des colonnes\n",
    "Questions\n",
    "* Comment accéder à des données spécifiques dans un dataframe?\n",
    "* Comment gérer les valeurs non définies ou nulles?\n",
    "* Comment sauvegarder un dataframe?\n",
    "\n",
    "Objectives\n",
    "* Utiliser les tranches pour sélectionner un intervalle de données.\n",
    "* Utiliser les étiquettes de rangées et les noms de colonnes pour délimiter une tranche.\n",
    "* Réassigner des valeurs à une sélection dans un dataframe.\n",
    "* Créer une copie d'un dataframe.\n",
    "* Effectuer une sélection en utilisant un critère contenant un opérateur : `=`, `!=`, `>`, `<`, `>=`, `<=`.\n",
    "* Manipuler les données avec des masques de valeurs booléennes.\n",
    "* Transformer ou éliminer les valeurs non définies ou nulles.\n",
    "* Écrire les données manipulées dans un fichier CSV."
   ]
  },
  {
   "cell_type": "markdown",
   "metadata": {},
   "source": [
    "## Charger nos données"
   ]
  },
  {
   "cell_type": "code",
   "execution_count": null,
   "metadata": {},
   "outputs": [],
   "source": [
    "# Charger le module pandas\n",
    "import pandas as pd\n",
    "\n",
    "# Charger les données\n",
    "surveys_df = pd.read_csv(\"data/surveys.csv\")"
   ]
  },
  {
   "cell_type": "markdown",
   "metadata": {},
   "source": [
    "## *Indexing* et *Slicing* dans Python\n",
    "### Sélectionner des données en utilisant des noms de colonne"
   ]
  },
  {
   "cell_type": "code",
   "execution_count": null,
   "metadata": {},
   "outputs": [],
   "source": [
    "# Assigner la colonne des identifiants d'espèces\n",
    "surveys_df['species_id']"
   ]
  },
  {
   "cell_type": "code",
   "execution_count": null,
   "metadata": {},
   "outputs": [],
   "source": [
    "# Obtenir les dimensions de la colonne\n",
    "id_especes.shape"
   ]
  },
  {
   "cell_type": "code",
   "execution_count": null,
   "metadata": {},
   "outputs": [],
   "source": [
    "# Sélectionner plusieurs colonnes à l'aide d'une liste\n",
    "colonnes = ['year', 'month', 'day']\n",
    "surveys_df[colonnes]"
   ]
  },
  {
   "cell_type": "markdown",
   "metadata": {},
   "source": [
    "### Faire une sélection selon des rangées et des colonnes\n",
    "On peut sélectionner un sous-ensemble de rangées et de colonnes avec l'attribut `loc` : c'est principalement basé sur les index de rangée et de colonne."
   ]
  },
  {
   "cell_type": "code",
   "execution_count": null,
   "metadata": {},
   "outputs": [],
   "source": [
    "# Qu'est-ce que cela donne?\n",
    "surveys_df.loc[0, ['species_id', 'plot_id', 'weight']]"
   ]
  },
  {
   "cell_type": "code",
   "execution_count": null,
   "metadata": {},
   "outputs": [],
   "source": [
    "# Sélectionner toutes les colonnes pour les rangées 0 et 10\n",
    "surveys_df.loc[[0, 10], :]"
   ]
  },
  {
   "cell_type": "code",
   "execution_count": null,
   "metadata": {},
   "outputs": [],
   "source": [
    "# Qu'arrive-t-il si on exécute le code ci-dessous?\n",
    "try:\n",
    "    print(surveys_df.loc[[0, 10, 35549], :])\n",
    "except BaseException as erreur:\n",
    "    print(f'Le problème : {erreur}')"
   ]
  },
  {
   "cell_type": "markdown",
   "metadata": {},
   "source": [
    "### Exercice - Un intervalle\n",
    "Qu'est-ce qui arrive si on exécute :"
   ]
  },
  {
   "cell_type": "code",
   "execution_count": null,
   "metadata": {},
   "outputs": [],
   "source": [
    "try:\n",
    "    print(surveys_df.loc[0:4, 1:4])  # 'month':'plot_id'\n",
    "except BaseException as erreur:\n",
    "    print(f'Le problème : {erreur}')"
   ]
  },
  {
   "cell_type": "markdown",
   "metadata": {},
   "source": [
    "## Sélection par des critères"
   ]
  },
  {
   "cell_type": "code",
   "execution_count": null,
   "metadata": {},
   "outputs": [],
   "source": [
    "# Sélectionner les enregistrements pour l'année 2002\n",
    "surveys_df['year'] == 2002"
   ]
  },
  {
   "cell_type": "code",
   "execution_count": null,
   "metadata": {},
   "outputs": [],
   "source": [
    "# Sélectionner les enregistrements des autres années\n",
    "surveys_df[surveys_df['year'] != 2002]"
   ]
  },
  {
   "cell_type": "code",
   "execution_count": null,
   "metadata": {},
   "outputs": [],
   "source": [
    "# Avec deux critères\n",
    "cond_annees = (surveys_df['year'] >= 2001)\n",
    "cond_poids = (surveys_df['weight'] <= 8)\n",
    "surveys_df[cond_annees & cond_poids]"
   ]
  },
  {
   "cell_type": "markdown",
   "metadata": {},
   "source": [
    "Voici les opérateurs de condition les plus courants :\n",
    "\n",
    "* Égal, pas égal : `==`, `!=`\n",
    "* Plus grand que, plus petit que : `>`, `<`\n",
    "* Plus grand ou égal, plus petit ou égal : `>=`, `<=`\n",
    "* Opérateurs par élément ET et OU : `&` et `|`"
   ]
  },
  {
   "cell_type": "markdown",
   "metadata": {},
   "source": [
    "### Exercices - Sélections par la présence\n",
    "`1`. Vous pouvez utiliser la méthode `isin()` pour aller chercher les enregistrements dont les valeurs d'une colonne correspondent à l'une des valeurs fournies dans une liste. Par exemple :\n",
    "```\n",
    "surveys_df[surveys_df['nom_colonne'].isin([valeur1, valeur2, ...])]\n",
    "```\n",
    "Utilisez la méthode `isin()` pour trouver tous les différents sites (`plot_id`) ayant certaines espèces (`AS`, `CQ`, `OX` et `UL`) dans le DataFrame."
   ]
  },
  {
   "cell_type": "code",
   "execution_count": null,
   "metadata": {},
   "outputs": [],
   "source": [
    "# Masque booléen selon le code de l'espèce\n",
    "cond_especes = surveys_df['species_id']\n",
    "\n",
    "# Lister les différents sites\n",
    "surveys_df[cond_especes]['plot_id']"
   ]
  },
  {
   "cell_type": "markdown",
   "metadata": {},
   "source": [
    "`2`. Créez un graphique de barres empilées (ou *stacked bar-plot*)\n",
    "montrant la moyenne des poids selon le site (`plot_id`),\n",
    "mais avec les résultats des femelles et des mâles superposés.\n",
    "Pour la préparation initiale des données :\n",
    "* Créez une sélection contenant seulement les enregistrements\n",
    "ayant une valeur de `sex` (soit `F` ou `M`) et ayant un poids supérieur à 0\n",
    "* Pour le graphique final, vous devez limiter les données\n",
    "aux colonnes de poids, de site et de sexe"
   ]
  },
  {
   "cell_type": "code",
   "execution_count": null,
   "metadata": {},
   "outputs": [],
   "source": [
    "# Sélection des enregistrements et des colonnes nécessaires\n",
    "cond_sexe = surveys_df['sex']\n",
    "cond_poids = (surveys_df['weight'] )\n",
    "colonnes = ['weight', 'plot_id', 'sex']\n",
    "\n",
    "selection = surveys_df\n",
    "selection.tail()"
   ]
  },
  {
   "cell_type": "code",
   "execution_count": null,
   "metadata": {},
   "outputs": [],
   "source": [
    "# Grouper selon les sites et les sexes, calculer les moyennes\n",
    "colonnes = ['plot_id', 'sex']\n",
    "moy_par_site_sexe = selection\n",
    "moy_par_site_sexe.tail()"
   ]
  },
  {
   "cell_type": "code",
   "execution_count": null,
   "metadata": {},
   "outputs": [],
   "source": [
    "# Transformer les catégories de sexe en noms de colonne\n",
    "table_site_sexe = moy_par_site_sexe.unstack()\n",
    "# table_site_sexe.columns = table_site_sexe.columns.droplevel()\n",
    "table_site_sexe.tail()"
   ]
  },
  {
   "cell_type": "code",
   "execution_count": null,
   "metadata": {},
   "outputs": [],
   "source": [
    "# Créer le stacked bar plot\n",
    "table_site_sexe"
   ]
  },
  {
   "cell_type": "markdown",
   "metadata": {},
   "source": [
    "`3`. L'opérateur `~` peut être utilisé pour retourner l'opposé d'une sélection. C'est l'équivalent de **n'est pas**. Écrivez une requête sélectionnant tous les enregistrements ne contenant ni `F`, ni `M`."
   ]
  },
  {
   "cell_type": "code",
   "execution_count": null,
   "metadata": {},
   "outputs": [],
   "source": [
    "surveys_df"
   ]
  },
  {
   "cell_type": "markdown",
   "metadata": {},
   "source": [
    "## Sélection et nettoyage des valeurs non définies"
   ]
  },
  {
   "cell_type": "code",
   "execution_count": null,
   "metadata": {},
   "outputs": [],
   "source": [
    "# Pour chaque valeur, déterminer si non définie\n",
    "surveys_df.isnull()"
   ]
  },
  {
   "cell_type": "code",
   "execution_count": null,
   "metadata": {},
   "outputs": [],
   "source": [
    "# Sélectionner les enregistrements ayant au moins une valeur NaN\n",
    "masque_nan = surveys_df.isnull().any(axis=1)\n",
    "surveys_df[masque_nan]"
   ]
  },
  {
   "cell_type": "code",
   "execution_count": null,
   "metadata": {},
   "outputs": [],
   "source": [
    "# Qu'est-ce que le code suivant va retourner?\n",
    "masque_nan = surveys_df['weight'].isnull()\n",
    "une_selection = surveys_df[masque_nan]\n",
    "une_selection.groupby('species_id')['record_id'].count()"
   ]
  },
  {
   "cell_type": "markdown",
   "metadata": {},
   "source": [
    "### Recréer des données manquantes"
   ]
  },
  {
   "cell_type": "code",
   "execution_count": null,
   "metadata": {},
   "outputs": [],
   "source": [
    "# Le \"avant\" - nombre et moyenne\n",
    "print(surveys_df['weight'].count(), surveys_df['weight'].mean())"
   ]
  },
  {
   "cell_type": "code",
   "execution_count": null,
   "metadata": {},
   "outputs": [],
   "source": [
    "# Créer une copie pour ne pas modifier l'objet original\n",
    "copie_surveys = surveys_df.copy()"
   ]
  },
  {
   "cell_type": "code",
   "execution_count": null,
   "metadata": {},
   "outputs": [],
   "source": [
    "# Pour une valeur moyenne stable\n",
    "moyennePoids = copie_surveys['weight'].mean()\n",
    "copie_surveys['weight'] = copie_surveys['weight'].fillna(moyennePoids)"
   ]
  },
  {
   "cell_type": "code",
   "execution_count": null,
   "metadata": {},
   "outputs": [],
   "source": [
    "# Le \"après\" - nombre et moyenne\n",
    "print(copie_surveys['weight'].count(), copie_surveys['weight'].mean())"
   ]
  },
  {
   "cell_type": "markdown",
   "metadata": {},
   "source": [
    "### Sauvegarde après nettoyage"
   ]
  },
  {
   "cell_type": "code",
   "execution_count": null,
   "metadata": {},
   "outputs": [],
   "source": [
    "# Ne garder que les lignes sans aucun NA\n",
    "df_sans_na = surveys_df.dropna()\n",
    "df_sans_na"
   ]
  },
  {
   "cell_type": "code",
   "execution_count": null,
   "metadata": {},
   "outputs": [],
   "source": [
    "# Sauvegarder le dataframe filtré\n",
    "fichier_csv = 'surveys_sans_NA.csv'\n",
    "df_sans_na.to_csv(fichier_csv, index=False)"
   ]
  },
  {
   "cell_type": "markdown",
   "metadata": {},
   "source": [
    "## Résumé technique\n",
    "* **Sélection**\n",
    "  * `df[]` :\n",
    "    * Avec une liste : sélection de colonnes\n",
    "    * Avec un vecteur de valeurs booléennes : sélection de rangées\n",
    "  * `df.loc[rangees, colonnes]` :\n",
    "    * Avec une liste : pour des rangées ou colonnes\n",
    "    * Intervalle avec `:` : pour des rangées ou colonnes\n",
    "      * Les deux limites sont incluses\n",
    "    * Avec un vecteur de valeurs booléennes : sélection de rangées\n",
    "    * Permet l'assignation d'une valeur selon la sélection\n",
    "  * `colonne.isin([valeur1, valeur2, ...])`\n",
    "* **Opérateurs** sur les valeurs d'une colonne :\n",
    "  * De comparaison : `<`, `<=`, `==`, `!=`, `>=`, `>`\n",
    "  * Booléens : `~`, `|`, `&`\n",
    "* **Nettoyage**\n",
    "  * `df.copy()`\n",
    "  * `isna()`, `isnull()` (le second est un alias du premier)\n",
    "  * `notna()`, `notnull()`  (le second est un alias du premier)\n",
    "  * `colonne.fillna(valeur, inplace=True)`\n",
    "* **Sauvegarde**\n",
    "  * `df.to_csv(nom_csv, index=False)`"
   ]
  },
  {
   "cell_type": "code",
   "execution_count": null,
   "metadata": {},
   "outputs": [],
   "source": []
  }
 ],
 "metadata": {
  "anaconda-cloud": {},
  "kernelspec": {
   "display_name": "Python 3 (ipykernel)",
   "language": "python",
   "name": "python3"
  },
  "language_info": {
   "codemirror_mode": {
    "name": "ipython",
    "version": 3
   },
   "file_extension": ".py",
   "mimetype": "text/x-python",
   "name": "python",
   "nbconvert_exporter": "python",
   "pygments_lexer": "ipython3",
   "version": "3.10.5"
  }
 },
 "nbformat": 4,
 "nbformat_minor": 4
}
