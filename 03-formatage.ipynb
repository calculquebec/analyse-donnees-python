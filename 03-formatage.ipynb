{
 "cells": [
  {
   "cell_type": "markdown",
   "id": "a950b321-88cf-435d-a0b7-fcadc1b60c52",
   "metadata": {},
   "source": [
    "# Analyse et visualisation de données avec Python\n",
    "## Formatage des données\n",
    "Questions\n",
    "* asdf\n",
    "\n",
    "Objectifs\n",
    "* asdf"
   ]
  },
  {
   "cell_type": "markdown",
   "id": "6c4467ef-81a7-4590-8f65-15f7bbecbdfc",
   "metadata": {},
   "source": [
    "## Charger nos données"
   ]
  },
  {
   "cell_type": "code",
   "execution_count": null,
   "id": "efe856c7-f8a1-47a5-9602-e582f0dec6f4",
   "metadata": {},
   "outputs": [],
   "source": [
    "# Charger le module pandas\n",
    "import pandas as pd\n",
    "\n",
    "# Charger les données\n",
    "surveys_df = pd.read_csv(\"../data/surveys.csv\")"
   ]
  },
  {
   "cell_type": "markdown",
   "id": "b7d2ddc2-b7c6-4717-8762-e976288cc446",
   "metadata": {},
   "source": [
    "## Types de données\n",
    "### Vérifier le type de données pour chaque colonne"
   ]
  },
  {
   "cell_type": "code",
   "execution_count": null,
   "id": "315c4096-65e3-4590-b172-3532e38b4a4d",
   "metadata": {},
   "outputs": [],
   "source": [
    "# Obtenir le type de données pour chaque colonne\n",
    "surveys_df.dtypes"
   ]
  },
  {
   "cell_type": "code",
   "execution_count": null,
   "id": "354050a2-7051-4a65-86e7-72b117c28856",
   "metadata": {},
   "outputs": [],
   "source": [
    "# Le type de données pour la colonne des mois\n",
    "surveys_df['month'].dtype"
   ]
  },
  {
   "cell_type": "markdown",
   "id": "6274bed8-3018-4390-92a7-72e571cc0ca5",
   "metadata": {},
   "source": [
    "Types Python | Types Pandas | Description\n",
    ":-----------:|:------------:|:-----------\n",
    "`str`        | `object`     | Type générique, aussi utilisé en cas de multiples types\n",
    "`int`        | `int64`      | Nombres entiers représentés avec 64 bits\n",
    "`float`      | `float64`    | Nombres réels représentés avec 64 bits, ou non-définis (NaN)\n",
    " N/A         | `datetime64` | Dates et heures, avec une précision allant jusqu'à la nanoseconde"
   ]
  },
  {
   "cell_type": "markdown",
   "id": "ef2a5100-1723-4284-abf7-7dd93a2af0f4",
   "metadata": {},
   "source": [
    "### Impacts sur les statistiques descriptives"
   ]
  },
  {
   "cell_type": "code",
   "execution_count": null,
   "id": "6f38a443-1268-48e7-9cb5-ab1f0afd9d73",
   "metadata": {},
   "outputs": [],
   "source": [
    "# Statistiques descriptives sur les valeurs numériques\n",
    "surveys_df.describe()"
   ]
  },
  {
   "cell_type": "code",
   "execution_count": null,
   "id": "d9e8d5e2-0cea-4865-a0be-e5476bc23abb",
   "metadata": {},
   "outputs": [],
   "source": [
    "# Convertir les numéros de mois en catégories\n",
    "surveys_df['month'] = surveys_df['month'].astype('str')\n",
    "surveys_df['month'].dtype"
   ]
  },
  {
   "cell_type": "code",
   "execution_count": null,
   "id": "0c66f5ba-ca6e-4078-ac29-ff8d76cb46de",
   "metadata": {},
   "outputs": [],
   "source": [
    "# Statistiques descriptives sur des catégories\n",
    "surveys_df['month'].describe()"
   ]
  },
  {
   "cell_type": "code",
   "execution_count": null,
   "id": "1e05ac7f-9e60-436e-a797-eae69b7a57a1",
   "metadata": {},
   "outputs": [],
   "source": [
    "# Lister les différents mois\n",
    "surveys_df['month'].unique()"
   ]
  },
  {
   "cell_type": "code",
   "execution_count": null,
   "id": "02888643-2875-4520-88fc-e7356c5a1446",
   "metadata": {},
   "outputs": [],
   "source": [
    "# Lister les différentes années\n",
    "surveys_df['year'].unique()"
   ]
  },
  {
   "cell_type": "markdown",
   "id": "8dac99fd-78bc-4758-ad8d-8a1fbb244067",
   "metadata": {},
   "source": [
    "### Exercices - Types et statistiques descriptives"
   ]
  },
  {
   "cell_type": "markdown",
   "id": "823aeeb7-60de-493e-be65-75ebb7b01d08",
   "metadata": {},
   "source": [
    "`1`. Convertir les valeurs de `weight` en entiers `int64` produira une erreur. Pourquoi?"
   ]
  },
  {
   "cell_type": "code",
   "execution_count": null,
   "id": "978b68b7-4045-4e37-b4f3-73f25801f9b3",
   "metadata": {},
   "outputs": [],
   "source": [
    "try:\n",
    "    surveys_df['weight'].astype('int64')\n",
    "except BaseException as erreur:\n",
    "    print(f'La raison : {erreur}')"
   ]
  },
  {
   "cell_type": "markdown",
   "id": "d133b88b-0605-4d1e-8505-43655a00d8a6",
   "metadata": {},
   "source": [
    "`2`. Essayez de convertir la colonne `plot_id` au type Python `float`."
   ]
  },
  {
   "cell_type": "code",
   "execution_count": null,
   "id": "9369602e-866a-49f9-adeb-f37b23573f55",
   "metadata": {},
   "outputs": [],
   "source": [
    "surveys_df['plot_id']\n",
    "surveys_df['plot_id'].dtype"
   ]
  },
  {
   "cell_type": "markdown",
   "id": "d2ec8407-9f5f-4d3f-b37f-cfe980809a57",
   "metadata": {},
   "source": [
    "`3`. Créez une liste des différents identifiants de site (`plot_id`) que l'on peut trouver dans `surveys_df`.\n",
    "* Sauvegardez le résultat dans `numeros_site`.\n",
    "* Combien y a-t-il de sites différents dans les données?"
   ]
  },
  {
   "cell_type": "code",
   "execution_count": null,
   "id": "a153759a-81a1-413b-b089-40e6a72645fc",
   "metadata": {},
   "outputs": [],
   "source": [
    "numeros_site = surveys_df\n",
    "numeros_site"
   ]
  },
  {
   "cell_type": "markdown",
   "id": "0c78c903-e216-4101-aa5d-d88369d5dd34",
   "metadata": {},
   "source": [
    "`4`. Quelle est la différence entre `len(numeros_site)` et `surveys_df['plot_id'].nunique()`?"
   ]
  },
  {
   "cell_type": "code",
   "execution_count": null,
   "id": "b4a0d5cf-ded4-4555-9fb8-bf0aba124083",
   "metadata": {},
   "outputs": [],
   "source": [
    "# print(len(numeros_site))\n",
    "# print(surveys_df['plot_id'].nunique())"
   ]
  },
  {
   "cell_type": "markdown",
   "id": "44166511-3221-4e97-929d-a8755ea37027",
   "metadata": {},
   "source": [
    "## Résumé technique\n",
    "* Pour un **DataFrame** :\n",
    "  * **Attributs** : `dtypes`\n",
    "* Pour une **colonne** :\n",
    "  * **Attributs** : `dtype`\n",
    "  * **Méthodes** : `astype()`"
   ]
  },
  {
   "cell_type": "code",
   "execution_count": null,
   "id": "c170a8b7-ddff-4213-806b-33895f16ae8d",
   "metadata": {},
   "outputs": [],
   "source": []
  }
 ],
 "metadata": {
  "kernelspec": {
   "display_name": "Python 3 (ipykernel)",
   "language": "python",
   "name": "python3"
  },
  "language_info": {
   "codemirror_mode": {
    "name": "ipython",
    "version": 3
   },
   "file_extension": ".py",
   "mimetype": "text/x-python",
   "name": "python",
   "nbconvert_exporter": "python",
   "pygments_lexer": "ipython3",
   "version": "3.11.7"
  }
 },
 "nbformat": 4,
 "nbformat_minor": 5
}
