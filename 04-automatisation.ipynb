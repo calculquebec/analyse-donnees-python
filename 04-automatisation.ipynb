{
 "cells": [
  {
   "cell_type": "markdown",
   "metadata": {},
   "source": [
    "# Analyse et visualisation de données avec Python\n",
    "## Automatisation du traitement des données\n",
    "Questions\n",
    "* Comment automatiser le traitement des données dans Python?\n",
    "* Comment structurer le traitement avec des fonctions?\n",
    "\n",
    "Objectifs\n",
    "* Utiliser des boucles `for` pour automatiser l'analyse de données.\n",
    "* Générer des fichiers avec des noms uniques.\n",
    "* Construire du code réutilisable en Python.\n",
    "* Écrire des fonctions avec des conditions (`if`, `then`, `else`)."
   ]
  },
  {
   "cell_type": "markdown",
   "metadata": {},
   "source": [
    "## Charger nos données"
   ]
  },
  {
   "cell_type": "code",
   "execution_count": null,
   "metadata": {},
   "outputs": [],
   "source": [
    "# Charger le module pandas\n",
    "import pandas as pd\n",
    "\n",
    "# Charger les données\n",
    "surveys_df = pd.read_csv(\"../data/surveys.csv\")\n",
    "species_df = pd.read_csv(\"../data/species.csv\")"
   ]
  },
  {
   "cell_type": "markdown",
   "metadata": {},
   "source": [
    "## Automatiser l'analyse de données avec des boucles `for`"
   ]
  },
  {
   "cell_type": "code",
   "execution_count": null,
   "metadata": {},
   "outputs": [],
   "source": [
    "import os"
   ]
  },
  {
   "cell_type": "code",
   "execution_count": null,
   "metadata": {},
   "outputs": [],
   "source": [
    "dossier_annees = \"fichiers_par_annee\"\n",
    "os.###(dossier_annees)"
   ]
  },
  {
   "cell_type": "code",
   "execution_count": null,
   "metadata": {
    "scrolled": true
   },
   "outputs": [],
   "source": [
    "os.###('.')"
   ]
  },
  {
   "cell_type": "code",
   "execution_count": null,
   "metadata": {},
   "outputs": [],
   "source": [
    "surveys_df['year']###\n",
    "    # Créer un nom de fichier unique pour chaque année\n",
    "    # nom_fichier = os.path.join(dossier_annees, \"surveys_\" + str(###) + \".csv\")\n",
    "    # print(nom_fichier)\n",
    "\n",
    "    # Sélectionner les données complètes de l'année en cours\n",
    "    # surveys_### = surveys_df[surveys_df['year'] == ###]\n",
    "    # surveys_annee.###(nom_fichier, index=###)\n",
    "\n",
    "# os.listdir(dossier_annees)"
   ]
  },
  {
   "cell_type": "markdown",
   "metadata": {
    "collapsed": true
   },
   "source": [
    "### Exercice - Création de fichiers différents\n",
    "Au lieu de diviser les données par année, nous voudrions les diviser par nom complet d'espèce. Il faut donc au préalable joindre les deux dataframes."
   ]
  },
  {
   "cell_type": "code",
   "execution_count": null,
   "metadata": {},
   "outputs": [],
   "source": [
    "dossier_### = \"fichiers_especes\"\n",
    "os.###(dossier_especes)  # Créer le dossier"
   ]
  },
  {
   "cell_type": "code",
   "execution_count": null,
   "metadata": {},
   "outputs": [],
   "source": [
    "merged_left = pd.merge(left=surveys_df, right=species_df, how='###', on=\"species###\")\n",
    "\n",
    "for espece in merged_left['###'].unique():\n",
    "    # Créer un nom de fichier unique pour chaque espèce\n",
    "    nom_fichier = os.path.join(###, \"surveys_\" + str(###) + \".csv\")\n",
    "    print(nom_fichier)\n",
    "\n",
    "    # Sélectionner les données complètes de l'espèce en cours\n",
    "    merged_left_espece = merged_left[merged_left### == ###].dropna()\n",
    "    merged_left_espece.###(nom_fichier, index=###)\n",
    "\n",
    "# os.###(dossier_especes)"
   ]
  },
  {
   "cell_type": "markdown",
   "metadata": {},
   "source": [
    "## Développer du code modulaire et réutilisable avec des fonctions\n",
    "* On veut créer le dossier automatiquement, mais en testant sont existence avant.\n",
    "* Utiliser `None` par défaut pour `annee_debut` et `annee_fin`.\n",
    "* On veut que la 2e fonction retourne les fichiers créés."
   ]
  },
  {
   "cell_type": "code",
   "execution_count": null,
   "metadata": {},
   "outputs": [],
   "source": [
    "### ecrire_csv_une_annee(donnees, dossier_cible, prefixe, cette_annee):\n",
    "    \"\"\"\n",
    "    Écrire un fichier CSV avec les données d'une année. Retourne le nom de fichier.\n",
    "\n",
    "    donnees --- le DataFrame\n",
    "    dossier_cible --- dossier dans lequel sauvegarder le fichier\n",
    "    prefixe --- préfixe au nom de fichier CSV\n",
    "    cette_annee --- année à sélectionner\n",
    "    \"\"\"\n",
    "\n",
    "    # Créer un nom de fichier unique pour chaque année\n",
    "    nom_fichier = os.path.join(dossier_cible, ### + str(###) + \".csv\")\n",
    "\n",
    "    # Sélectionner les données complètes de l'année en cours\n",
    "    surveys_annee = ###[donnees['year'] == ###]\n",
    "    surveys_annee.###(nom_fichier, index=False)\n",
    "\n",
    "    ### ###"
   ]
  },
  {
   "cell_type": "code",
   "execution_count": null,
   "metadata": {},
   "outputs": [],
   "source": [
    "def ecrire_csv_annees(donnees, dossier_cible, prefixe,\n",
    "                      ### = None, ### = None):\n",
    "    \"\"\"\n",
    "    Écrire des fichiers CSV avec les données de plusieurs années.\n",
    "\n",
    "    donnees --- le DataFrame\n",
    "    dossier_cible --- dossier dans lequel sauvegarder le fichier\n",
    "    prefixe --- préfixe au nom de fichier CSV\n",
    "    annee_debut --- première année --- défaut: None - depuis le tout début\n",
    "    annee_fin --- dernière année --- défaut: None - jusqu'à la toute fin\n",
    "    \"\"\"\n",
    "\n",
    "    ### dossier_cible ### os.listdir('.'):\n",
    "        print('Le dossier \"{}\" existe'.format(dossier_cible))\n",
    "    ###:\n",
    "        os.###(dossier_cible)\n",
    "        print('Nouveau dossier: \"{}\"'.format(dossier_cible))\n",
    "\n",
    "    if ### annee_debut:\n",
    "        annee_debut = ###(donnees['year'])\n",
    "\n",
    "    if not annee_fin:\n",
    "        annee_fin = ###(donnees['year'])\n",
    "\n",
    "    noms_de_fichier = ###\n",
    "\n",
    "    # \"annee_fin\" est la dernière année à traiter, donc il faut annee_fin+1\n",
    "    for annee in ###(annee_debut, annee_fin ###):\n",
    "        nom_fichier = ecrire_csv_###(donnees, dossier_cible, prefixe, ###)\n",
    "        noms_de_fichier.###(nom_fichier)\n",
    "\n",
    "    ###"
   ]
  },
  {
   "cell_type": "code",
   "execution_count": null,
   "metadata": {},
   "outputs": [],
   "source": [
    "ecrire_csv_annees(surveys_df, \"final\", \"resultats_\", ###, ###)"
   ]
  },
  {
   "cell_type": "code",
   "execution_count": null,
   "metadata": {},
   "outputs": [],
   "source": [
    "os.listdir(\"final\")"
   ]
  },
  {
   "cell_type": "code",
   "execution_count": null,
   "metadata": {},
   "outputs": [],
   "source": [
    "ecrire_csv_annees(surveys_df, \"final\", \"resultats_\")"
   ]
  },
  {
   "cell_type": "code",
   "execution_count": null,
   "metadata": {},
   "outputs": [],
   "source": []
  }
 ],
 "metadata": {
  "anaconda-cloud": {},
  "kernelspec": {
   "display_name": "Python 3",
   "language": "python",
   "name": "python3"
  },
  "language_info": {
   "codemirror_mode": {
    "name": "ipython",
    "version": 3
   },
   "file_extension": ".py",
   "mimetype": "text/x-python",
   "name": "python",
   "nbconvert_exporter": "python",
   "pygments_lexer": "ipython3",
   "version": "3.7.4"
  }
 },
 "nbformat": 4,
 "nbformat_minor": 1
}
