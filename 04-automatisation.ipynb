{
 "cells": [
  {
   "cell_type": "markdown",
   "metadata": {},
   "source": [
    "# Analyse et visualisation de données avec Python\n",
    "## Automatisation du traitement des données\n",
    "Questions\n",
    "* Comment automatiser le traitement des données dans Python?\n",
    "* Comment structurer le traitement avec des fonctions?\n",
    "\n",
    "Objectifs\n",
    "* Utiliser des boucles `for` pour automatiser l'analyse de données.\n",
    "* Générer des fichiers avec des noms uniques.\n",
    "* Construire du code réutilisable en Python.\n",
    "* Écrire des fonctions avec des conditions (`if`, `then`, `else`)."
   ]
  },
  {
   "cell_type": "markdown",
   "metadata": {},
   "source": [
    "## Charger nos données"
   ]
  },
  {
   "cell_type": "code",
   "execution_count": null,
   "metadata": {},
   "outputs": [],
   "source": [
    "# Charger le module pandas\n",
    "import pandas as pd\n",
    "\n",
    "# Charger les données\n",
    "surveys_df = pd.read_csv(\"data/surveys.csv\")\n",
    "species_df = pd.read_csv(\"data/species.csv\")"
   ]
  },
  {
   "cell_type": "markdown",
   "metadata": {},
   "source": [
    "## Automatiser l'analyse de données avec des boucles `for`"
   ]
  },
  {
   "cell_type": "code",
   "execution_count": null,
   "metadata": {},
   "outputs": [],
   "source": []
  },
  {
   "cell_type": "code",
   "execution_count": null,
   "metadata": {},
   "outputs": [],
   "source": [
    "dossier_annees = \"fichiers_par_annee\"\n",
    "dossier_annees"
   ]
  },
  {
   "cell_type": "code",
   "execution_count": null,
   "metadata": {},
   "outputs": [],
   "source": []
  },
  {
   "cell_type": "code",
   "execution_count": null,
   "metadata": {},
   "outputs": [],
   "source": [
    "surveys_df['year']\n",
    "    # Créer un nom de fichier unique pour chaque année\n",
    "    # nom_fichier = os.path.join(dossier_annees, f\"surveys_{annee}.csv\")\n",
    "    # print(nom_fichier)\n",
    "\n",
    "    # Sauvegarder les données complètes de l'année en cours\n",
    "    # surveys_annee = surveys_df[surveys_df['year'] == ].dropna()\n",
    "    # surveys_annee.to_csv(, index=False)\n",
    "\n",
    "# os.listdir(dossier_annees)"
   ]
  },
  {
   "cell_type": "markdown",
   "metadata": {},
   "source": [
    "### Exercice - Création de fichiers différents\n",
    "Au lieu de diviser les données par année, nous voudrions les diviser par nom complet d'espèce. Il faut donc au préalable joindre les deux dataframes."
   ]
  },
  {
   "cell_type": "code",
   "execution_count": null,
   "metadata": {},
   "outputs": [],
   "source": [
    "dossier_especes = \"fichiers_especes\"\n",
    "dossier_especes  # Créer le dossier"
   ]
  },
  {
   "cell_type": "code",
   "execution_count": null,
   "metadata": {},
   "outputs": [],
   "source": [
    "merged_left = pd.merge(left=surveys_df, right=species_df,\n",
    "                       how=, on=)\n",
    "merged_left.head()"
   ]
  },
  {
   "cell_type": "code",
   "execution_count": null,
   "metadata": {},
   "outputs": [],
   "source": [
    "for espece in :\n",
    "    # Créer un nom de fichier unique pour chaque espèce\n",
    "    nom_fichier = os.path.join(, f\"surveys_{espece}.csv\")\n",
    "    print(nom_fichier)\n",
    "\n",
    "    # Sélectionner les données complètes de l'espèce en cours\n",
    "    merged_left_espece = merged_left[ == espece].dropna()\n",
    "    merged_left_espece.to_csv(nom_fichier, index=False)"
   ]
  },
  {
   "cell_type": "markdown",
   "metadata": {},
   "source": [
    "## Développer du code modulaire et réutilisable avec des fonctions\n",
    "Dans cet exemple, on veut créer un système de fonctions pour générer un fichier par année selon un intervalle donné :\n",
    "* Spécifier le nom de dossier en argument, de même que le préfixe de chaque fichier.\n",
    "* Dans la fonction principale :\n",
    "  * Utiliser `None` par défaut pour `annee_debut` et `annee_fin`.\n",
    "  * Créer le dossier automatiquement, mais en testant son existence avant.\n",
    "  * Boucler sur toutes les années de l'intervalle validé.\n",
    "  * Retourner le nom des fichiers créés.\n",
    "* Dans la fonction secondaire :\n",
    "  * Créer le fichier pour une année\n",
    "  * Retourner le nom du fichier."
   ]
  },
  {
   "cell_type": "code",
   "execution_count": null,
   "metadata": {},
   "outputs": [],
   "source": [
    "# def ecrire_csv_une_annee(donnees, dossier_cible, prefixe, cette_annee):\n",
    "    \"\"\"\n",
    "    Écrire un fichier CSV avec les données d'une année. Retourne le nom de fichier.\n",
    "\n",
    "    donnees --- le DataFrame\n",
    "    dossier_cible --- dossier dans lequel sauvegarder le fichier\n",
    "    prefixe --- préfixe au nom de fichier CSV\n",
    "    cette_annee --- année à sélectionner\n",
    "    \"\"\"\n",
    "\n",
    "    # Créer un nom de fichier unique pour chaque année\n",
    "    nom_fichier = os.path.join(dossier_cible, f\"{}{}.csv\")\n",
    "\n",
    "    # Sauvegarder les données complètes de l'année en cours\n",
    "    surveys_annee = donnees[donnees['year'] == ].dropna()\n",
    "    # surveys_annee.to_csv(nom_fichier, index=False)\n",
    "\n",
    "    nom_fichier"
   ]
  },
  {
   "cell_type": "code",
   "execution_count": null,
   "metadata": {},
   "outputs": [],
   "source": [
    "def ecrire_csv_annees(donnees, dossier_cible, prefixe,\n",
    "                       = None,  = None):\n",
    "    \"\"\"\n",
    "    Écrire des fichiers CSV avec les données de plusieurs années.\n",
    "\n",
    "    donnees --- le DataFrame\n",
    "    dossier_cible --- dossier dans lequel sauvegarder le fichier\n",
    "    prefixe --- préfixe au nom de fichier CSV\n",
    "    annee_debut --- première année --- défaut: None - depuis le tout début\n",
    "    annee_fin --- dernière année --- défaut: None - jusqu'à la toute fin\n",
    "    \"\"\"\n",
    "\n",
    "    dossier_cible  os.listdir('.')\n",
    "        print(f'Le dossier \"{dossier_cible}\" existe')\n",
    "    \n",
    "        dossier_cible\n",
    "        print(f'Nouveau dossier: \"{dossier_cible}\"')\n",
    "\n",
    "    if\n",
    "        annee_debut = donnees['year']\n",
    "\n",
    "    if not annee_fin:\n",
    "        annee_fin = donnees['year']\n",
    "\n",
    "    noms_de_fichier =\n",
    "\n",
    "    # \"annee_fin\" est la dernière année à traiter, donc il faut annee_fin + 1\n",
    "    for annee in range(annee_debut, annee_fin + 1):\n",
    "        nom_fichier = (donnees, dossier_cible, prefixe, )\n",
    "        noms_de_fichier\n",
    "\n",
    "    noms_de_fichier"
   ]
  },
  {
   "cell_type": "code",
   "execution_count": null,
   "metadata": {},
   "outputs": [],
   "source": [
    "ecrire_csv_annees(surveys_df, \"final\", \"resultats_\", 1995, 1998)"
   ]
  },
  {
   "cell_type": "code",
   "execution_count": null,
   "metadata": {},
   "outputs": [],
   "source": [
    "os.listdir(\"final\")"
   ]
  },
  {
   "cell_type": "code",
   "execution_count": null,
   "metadata": {},
   "outputs": [],
   "source": [
    "ecrire_csv_annees(surveys_df, \"final\", \"resultats_\")"
   ]
  },
  {
   "cell_type": "code",
   "execution_count": null,
   "metadata": {},
   "outputs": [],
   "source": []
  }
 ],
 "metadata": {
  "anaconda-cloud": {},
  "kernelspec": {
   "display_name": "Python 3 (ipykernel)",
   "language": "python",
   "name": "python3"
  },
  "language_info": {
   "codemirror_mode": {
    "name": "ipython",
    "version": 3
   },
   "file_extension": ".py",
   "mimetype": "text/x-python",
   "name": "python",
   "nbconvert_exporter": "python",
   "pygments_lexer": "ipython3",
   "version": "3.8.10"
  }
 },
 "nbformat": 4,
 "nbformat_minor": 4
}
