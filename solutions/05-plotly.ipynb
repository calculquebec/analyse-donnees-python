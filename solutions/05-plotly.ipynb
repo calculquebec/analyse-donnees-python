{
 "cells": [
  {
   "cell_type": "markdown",
   "metadata": {},
   "source": [
    "# Analyse et visualisation de données avec Python\n",
    "## Créer des graphiques avec Plotly\n",
    "Questions\n",
    "* Comment faire davantage de visualisation en Python?\n",
    "* Comment rendre les graphiques interactifs?\n",
    "\n",
    "Objectifs\n",
    "* Créer un objet `plotly`.\n",
    "* Configurer certains options globales.\n",
    "* Modifier l'apparence du graphique, comme les couleurs.\n",
    "* Éditer le nom des axes.\n",
    "* Créer des graphiques plus élaborés, étape par étape.\n",
    "* Créer différents types de graphiques.\n",
    "* Générer plusieurs sous-graphiques par figure."
   ]
  },
  {
   "cell_type": "code",
   "execution_count": null,
   "metadata": {},
   "outputs": [],
   "source": [
    "import pandas as pd\n",
    "\n",
    "# Charger et nettoyer les données\n",
    "surveys_complet = pd.read_csv('../data/surveys.csv')\n",
    "surveys_complet = surveys_complet.dropna()\n",
    "surveys_complet"
   ]
  },
  {
   "cell_type": "markdown",
   "metadata": {},
   "source": [
    "## Pourquoi `plotly`? Pourquoi pas `matplotlib`?\n",
    "Bien que [`matplotlib`](https://matplotlib.org/stable/gallery/index)\n",
    "soit un module de visualisation largement répandu, très flexible et\n",
    "puissant, son utilisation est parfois compliquée, en particulier\n",
    "pour des graphiques plus avancés ou _modernes_.\n",
    "\n",
    "Dans ce chapitre, nous allons utiliser le module `express` de la\n",
    "bibliothèque `plotly`, ce qui permet de créer des graphiques de type\n",
    "`plotly.graph_objects.Figure`. Ces graphiques sont **interactifs**,\n",
    "hautement informatifs et s'intègrenet bien avec Pandas. Il est même\n",
    "possible de sauvegarder une figure sous la forme d'une page HTML autonome."
   ]
  },
  {
   "cell_type": "code",
   "execution_count": null,
   "metadata": {},
   "outputs": [],
   "source": [
    "import plotly.express as px"
   ]
  },
  {
   "cell_type": "markdown",
   "metadata": {},
   "source": [
    "## Générer des graphiques avec `plotly`"
   ]
  },
  {
   "cell_type": "markdown",
   "metadata": {},
   "source": [
    "* La première étape consiste à appeler la fonction qui correspond au\n",
    "  type de graphique que nous voulons créer. Par exemple :\n",
    "  * [`px.scatter()`](https://plotly.com/python/line-and-scatter/)\n",
    "  * [`px.line()`](https://plotly.com/python/line-charts/)\n",
    "  * [`px.bar()`](https://plotly.com/python/bar-charts/)\n",
    "  * [`px.pie()`](https://plotly.com/python/pie-charts/)\n",
    "  * Voir aussi [*Plotly Express in Python*](https://plotly.com/python/plotly-express/) pour d'autres fonctions"
   ]
  },
  {
   "cell_type": "code",
   "execution_count": null,
   "metadata": {},
   "outputs": [],
   "source": [
    "help(px.scatter)"
   ]
  },
  {
   "cell_type": "markdown",
   "metadata": {},
   "source": [
    "* À l'appel de la fonction, on fournit tout d'abord le DataFrame en argument\n",
    "* On assigne ensuite des noms de variable (ou de colonne) du DataFrame\n",
    "  à divers éléments du graphique. Les principaux paramètres sont :\n",
    "  * `x`, `y`, `color`, `symbol`, `size`"
   ]
  },
  {
   "cell_type": "code",
   "execution_count": null,
   "metadata": {},
   "outputs": [],
   "source": [
    "px.scatter(surveys_complet, x='hindfoot_length', y='weight')"
   ]
  },
  {
   "cell_type": "markdown",
   "metadata": {},
   "source": [
    "* Après la création du graphiques, c'est possible de le sauvegarder\n",
    "  dans le format de notre choix : `png`, `jpg` ou `jpeg`, `webp`, `svg` et `pdf`"
   ]
  },
  {
   "cell_type": "code",
   "execution_count": null,
   "metadata": {},
   "outputs": [],
   "source": [
    "figure = px.scatter(surveys_complet, x='hindfoot_length', y='weight')\n",
    "figure.write_image(\"scatterplot.png\")"
   ]
  },
  {
   "cell_type": "code",
   "execution_count": null,
   "metadata": {},
   "outputs": [],
   "source": [
    "figure.write_html(\"scatterplot.html\")"
   ]
  },
  {
   "cell_type": "markdown",
   "metadata": {},
   "source": [
    "### Exercice - Des barres ou un histogramme?\n",
    "`1`. Créez un [\"bar chart\"](https://plotly.com/python/bar-charts/)\n",
    "montrant le décompte du nombre d'enregistrements par `plot_id` (site).\n",
    "Indices: `groupby()`, `count()` et `reset_index()`"
   ]
  },
  {
   "cell_type": "code",
   "execution_count": null,
   "metadata": {},
   "outputs": [],
   "source": [
    "decompte = surveys_complet.groupby(['plot_id', 'sex'])['record_id'].count().reset_index()\n",
    "decompte.tail()"
   ]
  },
  {
   "cell_type": "code",
   "execution_count": null,
   "metadata": {},
   "outputs": [],
   "source": [
    "px.bar(decompte, x='plot_id', y='record_id', color='sex')"
   ]
  },
  {
   "cell_type": "markdown",
   "metadata": {},
   "source": [
    "`2`. À partir de `surveys_complet`, créez un\n",
    "[histogramme](https://plotly.com/python/histograms/) pour reproduire\n",
    "le résultat ci-dessus.\n",
    "Note : les barres seront collées et le nom de l'axe Y sera `count`.\n",
    "Ça peut se modifier, au besoin."
   ]
  },
  {
   "cell_type": "code",
   "execution_count": null,
   "metadata": {},
   "outputs": [],
   "source": [
    "# S'assurer que le DataFrame aura une femelle en premier\n",
    "tri_selon_sex = surveys_complet.sort_values('sex')\n",
    "\n",
    "px.histogram(tri_selon_sex, x='plot_id', color='sex')"
   ]
  },
  {
   "cell_type": "markdown",
   "metadata": {
    "tags": []
   },
   "source": [
    "## Construire un graphique par itérations\n",
    "* Habituellement, `data`, `aes` et `geom-*` sont les éléments de base de tout graphique.\n",
    "* Ensuite, on commence à modifier le graphique pour en extraire davantage d'information. Par exemple, avec de la transparence (`alpha`) :"
   ]
  },
  {
   "cell_type": "code",
   "execution_count": null,
   "metadata": {},
   "outputs": [],
   "source": [
    "(p9.ggplot(data=surveys_complet,\n",
    "           mapping=p9.aes(x='hindfoot_length', y='weight'))\n",
    "    + p9.geom_point(alpha=0.05)\n",
    ")"
   ]
  },
  {
   "cell_type": "markdown",
   "metadata": {},
   "source": [
    "* Une couleur pour chaque type de d'espèce; il faut \"mapper\" la variable `species_id` à l'`aes` `color` :"
   ]
  },
  {
   "cell_type": "code",
   "execution_count": null,
   "metadata": {},
   "outputs": [],
   "source": [
    "(p9.ggplot(data=surveys_complet,\n",
    "           mapping=p9.aes(x='hindfoot_length', y='weight', color='species_id'))\n",
    "    + p9.geom_point(alpha=0.05)\n",
    "    + p9.guides(colour=p9.guide_legend(override_aes={\"alpha\": 1.0}))\n",
    ")"
   ]
  },
  {
   "cell_type": "markdown",
   "metadata": {},
   "source": [
    "* Modifier le nom des axes :"
   ]
  },
  {
   "cell_type": "code",
   "execution_count": null,
   "metadata": {},
   "outputs": [],
   "source": [
    "(p9.ggplot(data=surveys_complet,\n",
    "           mapping=p9.aes(x='hindfoot_length', y='weight', color='species_id'))\n",
    "    + p9.geom_point(alpha=0.05)\n",
    "    + p9.guides(colour=p9.guide_legend(override_aes={\"alpha\": 1.0}))\n",
    "    + p9.xlab(\"Longueur de patte (mm)\")\n",
    "    + p9.ylab(\"Poids (g)\")\n",
    "    + p9.ggtitle(\"Poids selon la longueur de patte\")\n",
    ")"
   ]
  },
  {
   "cell_type": "markdown",
   "metadata": {},
   "source": [
    "* Utiliser un axe semi-log :"
   ]
  },
  {
   "cell_type": "code",
   "execution_count": null,
   "metadata": {},
   "outputs": [],
   "source": [
    "(p9.ggplot(data=surveys_complet,\n",
    "           mapping=p9.aes(x='hindfoot_length', y='weight', color='species_id'))\n",
    "    + p9.geom_point(alpha=0.05)\n",
    "    + p9.guides(colour=p9.guide_legend(override_aes={\"alpha\": 1.0}))\n",
    "    + p9.xlab(\"Longueur de patte (mm)\")\n",
    "    + p9.ylab(\"Poids (g)\")\n",
    "    + p9.ggtitle(\"Poids selon la longueur de patte\")\n",
    "    + p9.scale_y_log10()\n",
    ")"
   ]
  },
  {
   "cell_type": "markdown",
   "metadata": {},
   "source": [
    "* Changer le thème (`theme_*`) ou des éléments spécifiques du thème :\n",
    "  * pour avoir un arrière-plan en noir et blanc, on utiliserait le\n",
    "    thème prédéfini `theme_bw()`;\n",
    "  * pour modifier la taille du texte, on peut créer un thème `theme()`\n",
    "    et modifier une de ses propriétés."
   ]
  },
  {
   "cell_type": "code",
   "execution_count": null,
   "metadata": {},
   "outputs": [],
   "source": [
    "(p9.ggplot(data=surveys_complet,\n",
    "           mapping=p9.aes(x='hindfoot_length', y='weight', color='species_id'))\n",
    "    + p9.geom_point(alpha=0.05)\n",
    "    + p9.guides(colour=p9.guide_legend(override_aes={\"alpha\": 1.0}))\n",
    "    + p9.xlab(\"Longueur de patte (mm)\")\n",
    "    + p9.ylab(\"Poids (g)\")\n",
    "    + p9.ggtitle(\"Poids selon la longueur de patte\")\n",
    "    + p9.scale_y_log10()\n",
    "    + p9.theme_bw()\n",
    "    + p9.theme(legend_position=\"top\")  # bottom, left, right\n",
    ")"
   ]
  },
  {
   "cell_type": "markdown",
   "metadata": {},
   "source": [
    "### Exercice - Modifier le `bar`-plot\n",
    "Adaptez le `bar`-plot de l'exercice précédent pour associer la variable `sex` au paramètre de couleur `fill`. Spécifiez ensuite une liste de couleurs (`\"blue\"` et `\"orange\"`) via la fonction `scale_fill_manual()` (voir la [référence de l'API](https://plotnine.readthedocs.io/en/stable/api.html#color-and-fill-scales) pour plus d'information) :"
   ]
  },
  {
   "cell_type": "code",
   "execution_count": null,
   "metadata": {},
   "outputs": [],
   "source": [
    "(p9.ggplot(data=surveys_complet,\n",
    "           mapping=p9.aes(x='plot_id', fill='sex'))\n",
    "    + p9.geom_bar()\n",
    "    + p9.scale_fill_manual([\"blue\", \"orange\"])\n",
    ")"
   ]
  },
  {
   "cell_type": "markdown",
   "metadata": {},
   "source": [
    "## Visualiser des distributions\n",
    "* Un box-plot peut être utilisé :"
   ]
  },
  {
   "cell_type": "code",
   "execution_count": null,
   "metadata": {},
   "outputs": [],
   "source": [
    "(p9.ggplot(data=surveys_complet,\n",
    "           mapping=p9.aes(x='species_id',\n",
    "                          y='weight'))\n",
    "    + p9.geom_boxplot()\n",
    "    + p9.scale_y_log10()\n",
    ")"
   ]
  },
  {
   "cell_type": "markdown",
   "metadata": {},
   "source": [
    "* On peut ajouter un nuage de points verts derrière le box-plot :"
   ]
  },
  {
   "cell_type": "code",
   "execution_count": null,
   "metadata": {},
   "outputs": [],
   "source": [
    "(p9.ggplot(data=surveys_complet,\n",
    "           mapping=p9.aes(x='species_id',\n",
    "                          y='weight'))\n",
    "    + p9.geom_jitter(alpha=0.1, color=\"green\")\n",
    "    + p9.geom_boxplot(alpha=0)\n",
    "    + p9.scale_y_log10()\n",
    ")"
   ]
  },
  {
   "cell_type": "markdown",
   "metadata": {},
   "source": [
    "### Exercice - Distributions\n",
    "* Affichez un **violin-plot** transparent par-dessus les points et forcez la couleur de ligne `\"grey\"`.\n",
    "* Pour l'axe des `x`, on veut que les différentes valeurs numériques de `plot_id` soient considérées comme des catégories. Pour ce faire, on utilisera `'factor(plot_id)'`.\n",
    "* Faites en sorte que la couleur des points soit en fonction de l'identifiant d'espèce `'species_id'`."
   ]
  },
  {
   "cell_type": "code",
   "execution_count": null,
   "metadata": {},
   "outputs": [],
   "source": [
    "(p9.ggplot(data=surveys_complet,\n",
    "           mapping=p9.aes(x='factor(plot_id)',\n",
    "                          y='weight',\n",
    "                          color='species_id'))\n",
    "    + p9.geom_jitter(alpha=0.3)\n",
    "    + p9.geom_violin(alpha=0, color=\"grey\")\n",
    "    + p9.scale_y_log10()\n",
    ")"
   ]
  },
  {
   "cell_type": "markdown",
   "metadata": {},
   "source": [
    "## Visualiser des données selon le temps\n",
    "* Calculez le nombre d'enregistrements par type d'espèces pour chaque année.\n",
    "* Réinitialisez l'index ; `year` et `species_id` deviendront des colonnes."
   ]
  },
  {
   "cell_type": "code",
   "execution_count": null,
   "metadata": {},
   "outputs": [],
   "source": [
    "yearly_counts = surveys_complet.groupby(['year', 'species_id'])['species_id'].count()\n",
    "yearly_counts = yearly_counts.reset_index(name='counts')\n",
    "yearly_counts"
   ]
  },
  {
   "cell_type": "markdown",
   "metadata": {},
   "source": [
    "* La visualisation peut ensuite se faire avec un \"line-plot\" (ou `geom_line`) avec les années en `x` et les décomptes en `y`.\n",
    "* Afin d'avoir une ligne par espèce, il faut spécifier l'option couleur selon l'identifiant d'espèce."
   ]
  },
  {
   "cell_type": "code",
   "execution_count": null,
   "metadata": {},
   "outputs": [],
   "source": [
    "(p9.ggplot(data=yearly_counts,\n",
    "           mapping=p9.aes(x='year',\n",
    "                          y='counts',\n",
    "                          color='species_id'))\n",
    "    + p9.geom_line()\n",
    ")"
   ]
  },
  {
   "cell_type": "markdown",
   "metadata": {},
   "source": [
    "## Création de facettes\n",
    "* `plotnine` a une technique spéciale appelée *création de facettes* permettant de diviser un graphique en plusieurs sous-graphiques selon une variable de type catégorie."
   ]
  },
  {
   "cell_type": "code",
   "execution_count": null,
   "metadata": {},
   "outputs": [],
   "source": [
    "(p9.ggplot(data=surveys_complet,\n",
    "           mapping=p9.aes(x='hindfoot_length',\n",
    "                          y='weight',\n",
    "                          color='species_id'))\n",
    "    + p9.geom_point(alpha=0.1)\n",
    "    + p9.facet_wrap('sex')\n",
    ")"
   ]
  },
  {
   "cell_type": "markdown",
   "metadata": {},
   "source": [
    "* Avec `facet_wrap()`, nul besoin de convertir en `factor`:"
   ]
  },
  {
   "cell_type": "code",
   "execution_count": null,
   "metadata": {},
   "outputs": [],
   "source": [
    "(p9.ggplot(data=surveys_complet,\n",
    "           mapping=p9.aes(x='hindfoot_length',\n",
    "                          y='weight',\n",
    "                          color='species_id'))\n",
    "    + p9.geom_point(alpha=0.1)\n",
    "    + p9.facet_wrap('plot_id')\n",
    ")"
   ]
  },
  {
   "cell_type": "markdown",
   "metadata": {},
   "source": [
    "* La fonction `facet_grid()` permet de spécifier l'arrangement d'une grille de graphiques avec la notation `rangées ~ colonnes` de graphiques."
   ]
  },
  {
   "cell_type": "code",
   "execution_count": null,
   "metadata": {},
   "outputs": [],
   "source": [
    "# Garder uniquement quelques années\n",
    "survey_2000 = surveys_complet[surveys_complet[\"year\"].isin([2000, 2001, 2002])]\n",
    "\n",
    "(p9.ggplot(data=survey_2000,\n",
    "           mapping=p9.aes(x='hindfoot_length',\n",
    "                          y='weight',\n",
    "                          color='species_id'))\n",
    "    + p9.geom_point(alpha=0.1)\n",
    "    + p9.facet_grid('sex ~ year')\n",
    ")"
   ]
  },
  {
   "cell_type": "markdown",
   "metadata": {},
   "source": [
    "### Exercice - Facettes\n",
    "* Créez deux facettes selon le `sex`\n",
    "* Chaque facette aura :\n",
    "  * Les années en axe des x\n",
    "  * Le poids moyen en axe des y\n",
    "  * Une courbe par espèce"
   ]
  },
  {
   "cell_type": "code",
   "execution_count": null,
   "metadata": {},
   "outputs": [],
   "source": [
    "yearly_weight = surveys_complet.groupby(['year',\n",
    "                                          'species_id',\n",
    "                                          'sex'])['weight'].mean().reset_index()\n",
    "(p9.ggplot(data=yearly_weight,\n",
    "           mapping=p9.aes(x='year',\n",
    "                          y='weight',\n",
    "                          color='species_id'))\n",
    "    + p9.geom_line()\n",
    "    + p9.facet_wrap('sex')\n",
    ")"
   ]
  },
  {
   "cell_type": "markdown",
   "metadata": {},
   "source": [
    "## Ajustements supplémentaires\n",
    "* La fonction `theme()` retourne un objet permettant d'orienter verticalement le texte sur l'axe des `x` :"
   ]
  },
  {
   "cell_type": "code",
   "execution_count": null,
   "metadata": {},
   "outputs": [],
   "source": [
    "mon_theme = p9.theme(\n",
    "    axis_text_x=p9.element_text(angle=90),\n",
    "    text=p9.element_text(size=10))\n",
    "\n",
    "(p9.ggplot(data=surveys_complet,\n",
    "           mapping=p9.aes(x='factor(year)'))\n",
    "    + p9.geom_bar()\n",
    "    + p9.xlab(\"Year\")\n",
    "    + mon_theme\n",
    ")"
   ]
  },
  {
   "cell_type": "markdown",
   "metadata": {},
   "source": [
    "## Résumé technique\n",
    "* **Module Plotnine**\n",
    "  * `import plotnine as p9`\n",
    "* **Création d'un graphique vierge** avec Plotnine\n",
    "  * `p9.ggplot(data=df)`\n",
    "* **Assigner des variables** à des éléments du graphique\n",
    "  * `p9.ggplot(data=df, mapping=p9.aes(...))`\n",
    "    * Exemple : `p9.aes(x='var1', y='var2', color='var3')`\n",
    "  * Différentes variables :\n",
    "    * Axes : `x`, `y`, `='factor(var)'`\n",
    "    * Couleurs : `alpha`, `color`, `colour`, `fill`\n",
    "    * Formes : `linetype`, `shape`, `size`\n",
    "* **Ajout d'éléments géométriques** à afficher\n",
    "  * `p9.geom_point(alpha=0.1, color=\"green\")`\n",
    "  * `p9.geom_line()`\n",
    "  * `p9.geom_bar()`, `p9.geom_jitter()`\n",
    "  * `p9.geom_boxplot()`, `p9.geom_violin()`\n",
    "* **Configuration des axes, des étiquettes et du thème**\n",
    "  * `p9.scale_x_log10()` et `p9.scale_y_log10()`\n",
    "  * `p9.xlab(\"Axe en X\")` et `p9.ylab(\"Axe en Y\")`\n",
    "  * `p9.ggtitle(\"Longueur de patte selon le poids\")`\n",
    "  * `p9.theme_bw()`\n",
    "  * `p9.theme()`\n",
    "    * `legend_position=` : `top`, `bottom`, `left`, `right`\n",
    "    * `axis_text_x=p9.element_text(angle=90)`\n",
    "    * `text=p9.element_text(size=10)`\n",
    "* **Graphiques multiples**\n",
    "  * `p9.facet_wrap('varN')`\n",
    "  * `p9.facet_grid('rangées ~ colonnes')`"
   ]
  },
  {
   "cell_type": "code",
   "execution_count": null,
   "metadata": {},
   "outputs": [],
   "source": []
  }
 ],
 "metadata": {
  "anaconda-cloud": {},
  "kernelspec": {
   "display_name": "Python 3 (ipykernel)",
   "language": "python",
   "name": "python3"
  },
  "language_info": {
   "codemirror_mode": {
    "name": "ipython",
    "version": 3
   },
   "file_extension": ".py",
   "mimetype": "text/x-python",
   "name": "python",
   "nbconvert_exporter": "python",
   "pygments_lexer": "ipython3",
   "version": "3.10.0"
  }
 },
 "nbformat": 4,
 "nbformat_minor": 4
}
