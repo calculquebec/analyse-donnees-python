{
 "cells": [
  {
   "cell_type": "markdown",
   "metadata": {},
   "source": [
    "# Analyse et visualisation de données avec Python\n",
    "## Combiner des DataFrames avec Pandas\n",
    "Questions\n",
    "* Peut-on travaillers avec plusieurs sources de données?\n",
    "* Comment combiner les données de deux DataFrames?\n",
    "\n",
    "Objectifs\n",
    "* Combiner les données de plusieurs fichiers en utilisant `concat` et `merge`.\n",
    "* Combiner deux DataFrames utilisant un identifiant commun."
   ]
  },
  {
   "cell_type": "markdown",
   "metadata": {},
   "source": [
    "## Charger nos données"
   ]
  },
  {
   "cell_type": "code",
   "execution_count": null,
   "metadata": {},
   "outputs": [],
   "source": [
    "# Charger le module pandas\n",
    "import pandas as pd\n",
    "\n",
    "# Charger les données\n",
    "surveys_df = pd.read_csv(\"../data/surveys.csv\")"
   ]
  },
  {
   "cell_type": "markdown",
   "metadata": {},
   "source": [
    "## Concaténer des DataFrames"
   ]
  },
  {
   "cell_type": "code",
   "execution_count": null,
   "metadata": {},
   "outputs": [],
   "source": [
    "# Sélectionner les 10 premiers enregistrements\n",
    "premiers10 = surveys_df.head(10)\n",
    "premiers10"
   ]
  },
  {
   "cell_type": "code",
   "execution_count": null,
   "metadata": {},
   "outputs": [],
   "source": [
    "# Sélectionner les 10 derniers enregistrements\n",
    "derniers10 = surveys_df.tail(10)\n",
    "derniers10"
   ]
  },
  {
   "cell_type": "code",
   "execution_count": null,
   "metadata": {},
   "outputs": [],
   "source": [
    "# Concaténer les dataframes verticalement\n",
    "liste_df = [premiers10, derniers10]\n",
    "vertical = pd.concat(liste_df, axis='index')\n",
    "vertical"
   ]
  },
  {
   "cell_type": "code",
   "execution_count": null,
   "metadata": {},
   "outputs": [],
   "source": [
    "# Réinitaliser l'index du dataframe\n",
    "# L'option drop=True évite l'ajout d'une colonne avec l'ancien index\n",
    "vertical = vertical.reset_index(drop=True)\n",
    "vertical"
   ]
  },
  {
   "cell_type": "markdown",
   "metadata": {},
   "source": [
    "### Écrire le résultat dans un fichier CSV"
   ]
  },
  {
   "cell_type": "code",
   "execution_count": null,
   "metadata": {},
   "outputs": [],
   "source": [
    "# Omettre l'index\n",
    "fichier_csv = 'surveys_debut_fin.csv'\n",
    "vertical.to_csv(fichier_csv, index=False)"
   ]
  },
  {
   "cell_type": "code",
   "execution_count": null,
   "metadata": {},
   "outputs": [],
   "source": [
    "# Charger le nouveau fichier CSV\n",
    "debut_fin = pd.read_csv(fichier_csv)\n",
    "debut_fin"
   ]
  },
  {
   "cell_type": "markdown",
   "metadata": {},
   "source": [
    "## Exercice - Concaténer des DataFrames\n",
    "* Dans `surveys_df`, sélectionnez individuellement les enregistrements des années 2001 et 2002\n",
    "* Concaténez les deux dataframes verticalement\n",
    "* Calculez le poids moyen selon l'année et le sexe\n",
    "* Sauvegardez le tableau des moyennes dans un fichier CSV et le recharger"
   ]
  },
  {
   "cell_type": "code",
   "execution_count": null,
   "metadata": {},
   "outputs": [],
   "source": [
    "# Obtenir les données pour chaque année\n",
    "annee2001 = surveys_df[surveys_df['year'] == 2001]\n",
    "annee2002 = surveys_df[surveys_df['year'] == 2002]\n",
    "\n",
    "# Concaténer verticalement\n",
    "liste_df = [annee2001, annee2002]\n",
    "deux_annees = pd.concat(liste_df, axis='index')"
   ]
  },
  {
   "cell_type": "code",
   "execution_count": null,
   "metadata": {},
   "outputs": [],
   "source": [
    "# Calculer le poids moyen par année et par sexe\n",
    "poids_annee = deux_annees.groupby(['year', 'sex'])['weight'].mean()\n",
    "poids_annee = poids_annee.unstack()\n",
    "poids_annee"
   ]
  },
  {
   "cell_type": "code",
   "execution_count": null,
   "metadata": {},
   "outputs": [],
   "source": [
    "# Écrire dans un fichier - garder l'index 'year' cette fois-ci\n",
    "fichier_csv = 'poids_par_annee.csv'\n",
    "poids_annee.to_csv(fichier_csv, index=True)\n",
    "\n",
    "# Relire les données, fournir le nom de l'index\n",
    "pd.read_csv(fichier_csv, index_col='year')"
   ]
  },
  {
   "cell_type": "markdown",
   "metadata": {},
   "source": [
    "## Joindre deux DataFrames"
   ]
  },
  {
   "cell_type": "code",
   "execution_count": null,
   "metadata": {},
   "outputs": [],
   "source": [
    "# Importer un sous-ensemble des espèces pour cet exemple\n",
    "trois_especes = pd.read_csv('../data/speciesSubset.csv')\n",
    "trois_especes"
   ]
  },
  {
   "cell_type": "markdown",
   "metadata": {},
   "source": [
    "### Identifier les clés de jonction"
   ]
  },
  {
   "cell_type": "code",
   "execution_count": null,
   "metadata": {},
   "outputs": [],
   "source": [
    "# Afficher les colonnes\n",
    "premiers10.columns"
   ]
  },
  {
   "cell_type": "code",
   "execution_count": null,
   "metadata": {},
   "outputs": [],
   "source": [
    "# Afficher les autres colonnes\n",
    "trois_especes.columns"
   ]
  },
  {
   "cell_type": "markdown",
   "metadata": {},
   "source": [
    "### Une intersection ou \"inner join\""
   ]
  },
  {
   "cell_type": "markdown",
   "metadata": {},
   "source": [
    "![Inner join of tables A and B](https://datacarpentry.org/python-ecology-lesson/fig/inner-join.png)"
   ]
  },
  {
   "cell_type": "code",
   "execution_count": null,
   "metadata": {},
   "outputs": [],
   "source": [
    "# Calculer l'intersection de premiers10 et trois_especes\n",
    "cle = 'species_id'\n",
    "intersection = pd.merge(left=premiers10, right=trois_especes,\n",
    "                        left_on=cle, right_on=cle)\n",
    "# Quelle est la taille de la jonction?\n",
    "intersection.shape"
   ]
  },
  {
   "cell_type": "code",
   "execution_count": null,
   "metadata": {},
   "outputs": [],
   "source": [
    "intersection"
   ]
  },
  {
   "cell_type": "markdown",
   "metadata": {},
   "source": [
    "### Jonction de gauche"
   ]
  },
  {
   "cell_type": "markdown",
   "metadata": {},
   "source": [
    "![Left join of tables A and B](https://datacarpentry.org/python-ecology-lesson/fig/left-join.png)"
   ]
  },
  {
   "cell_type": "code",
   "execution_count": null,
   "metadata": {},
   "outputs": [],
   "source": [
    "jonc_gauche = pd.merge(left=premiers10, right=trois_especes,\n",
    "                       on=cle, how='left')\n",
    "# Quelle est la taille de la jonction?\n",
    "jonc_gauche.shape"
   ]
  },
  {
   "cell_type": "code",
   "execution_count": null,
   "metadata": {},
   "outputs": [],
   "source": [
    "jonc_gauche"
   ]
  },
  {
   "cell_type": "markdown",
   "metadata": {},
   "source": [
    "### Les autres types de jonction\n",
    "* `how='right'` : toutes les rangées du second DataFrame sont gardées\n",
    "* `how='outer'` : équivalent d'une union, toutes les rangées sont gardées"
   ]
  },
  {
   "cell_type": "markdown",
   "metadata": {},
   "source": [
    "## Exercice - Joindre toutes les données\n",
    "`1`. Créez un nouveau DataFrame tel que tous les enregistrements de `surveys.csv` sont gardés dans une jonction impliquant les informations correspondantes de `species.csv`."
   ]
  },
  {
   "cell_type": "code",
   "execution_count": null,
   "metadata": {},
   "outputs": [],
   "source": [
    "species_df = pd.read_csv('../data/species.csv')\n",
    "cle = 'species_id'\n",
    "\n",
    "jonc_gauche = pd.merge(left=surveys_df, right=species_df, on=cle, how='left')\n",
    "jonc_gauche.shape"
   ]
  },
  {
   "cell_type": "markdown",
   "metadata": {},
   "source": [
    "`2`. Calculez et créez un graphique (*bar-plot*) montrant le nombre d'enregistrements (soit le nombre de `record_id`) par type de `taxa` pour chaque site (`plot_id`)."
   ]
  },
  {
   "cell_type": "code",
   "execution_count": null,
   "metadata": {},
   "outputs": [],
   "source": [
    "colonnes = ['plot_id', 'taxa']\n",
    "par_site_taxa = jonc_gauche.groupby(colonnes)\n",
    "nb_par_site_taxa = par_site_taxa['record_id'].count().unstack()\n",
    "nb_par_site_taxa.tail()"
   ]
  },
  {
   "cell_type": "code",
   "execution_count": null,
   "metadata": {},
   "outputs": [],
   "source": [
    "nb_par_site_taxa.plot(kind=\"bar\", stacked=True)"
   ]
  },
  {
   "cell_type": "markdown",
   "metadata": {},
   "source": [
    "`3`. Calculez et créez un graphique (bar-plot) montrant le nombre de différents `taxa` par type de sexe pour chaque site (`plot_id`)."
   ]
  },
  {
   "cell_type": "code",
   "execution_count": null,
   "metadata": {},
   "outputs": [],
   "source": [
    "# Nettoyage des données\n",
    "jonc_gauche['sex'] = jonc_gauche['sex'].fillna('F|M')\n",
    "jonc_gauche.loc[~jonc_gauche['sex'].isin(['F', 'F|M', 'M']), 'sex'] = 'F|M'"
   ]
  },
  {
   "cell_type": "code",
   "execution_count": null,
   "metadata": {},
   "outputs": [],
   "source": [
    "ntaxa_sex_site = jonc_gauche.groupby(['plot_id',\n",
    "                                      'sex'])['taxa'].nunique().reset_index(level=1)\n",
    "ntaxa_sex_site.tail()"
   ]
  },
  {
   "cell_type": "code",
   "execution_count": null,
   "metadata": {},
   "outputs": [],
   "source": [
    "# Utiliser pivot_table() au lieu de unstack()\n",
    "ntaxa_sex_site = ntaxa_sex_site.pivot_table(values='taxa', columns='sex',\n",
    "                                            index=ntaxa_sex_site.index)\n",
    "ntaxa_sex_site.tail()"
   ]
  },
  {
   "cell_type": "code",
   "execution_count": null,
   "metadata": {},
   "outputs": [],
   "source": [
    "ntaxa_sex_site.plot(kind=\"bar\", stacked=True)"
   ]
  },
  {
   "cell_type": "markdown",
   "metadata": {},
   "source": [
    "## Résumé technique\n",
    "* **Concaténer** des DataFrames avec `pandas.concat()`\n",
    "  * Requiert une liste de DataFrames\n",
    "  * Verticalement si `axis='index'` (par défaut)\n",
    "  * Horizontalement si `axis='columns'`\n",
    "  * Réinitialiser l'index au besoin : `reset_index(drop=True)`\n",
    "* **Joindre** des DataFrmaes avec `pandas.merge()`\n",
    "  * `left=`, `right=` : les deux DataFrames à joindre\n",
    "  * `left_on=`, `right_on=` : les clés de jonction de chaque DataFrame\n",
    "  * `on=` : clés de jonction communes aux deux DataFrames\n",
    "  * `how=` : `'inner'` (défaut), `'left'`, `'right'`, `'outer'`\n",
    "* **Table de pivot** : `pivot_table()`\n",
    "  * `values=colX`\n",
    "  * `index=[col_ind]`\n",
    "  * `columns=[categorie1, categorie2]`\n",
    "  * `aggfunc=numpy.mean` (défaut: moyenne)"
   ]
  },
  {
   "cell_type": "code",
   "execution_count": null,
   "metadata": {},
   "outputs": [],
   "source": []
  }
 ],
 "metadata": {
  "anaconda-cloud": {},
  "kernelspec": {
   "display_name": "Python 3 (ipykernel)",
   "language": "python",
   "name": "python3"
  },
  "language_info": {
   "codemirror_mode": {
    "name": "ipython",
    "version": 3
   },
   "file_extension": ".py",
   "mimetype": "text/x-python",
   "name": "python",
   "nbconvert_exporter": "python",
   "pygments_lexer": "ipython3",
   "version": "3.11.7"
  }
 },
 "nbformat": 4,
 "nbformat_minor": 4
}
