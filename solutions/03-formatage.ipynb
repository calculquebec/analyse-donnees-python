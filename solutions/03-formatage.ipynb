{
 "cells": [
  {
   "cell_type": "markdown",
   "id": "a950b321-88cf-435d-a0b7-fcadc1b60c52",
   "metadata": {},
   "source": [
    "# Analyse et visualisation de données avec Python\n",
    "## Formatage des données\n",
    "Questions\n",
    "* asdf\n",
    "\n",
    "Objectifs\n",
    "* asdf"
   ]
  },
  {
   "cell_type": "markdown",
   "id": "f507ad3a-945d-47e0-a048-7ae0b566961a",
   "metadata": {},
   "source": [
    "123"
   ]
  },
  {
   "cell_type": "markdown",
   "id": "44166511-3221-4e97-929d-a8755ea37027",
   "metadata": {},
   "source": [
    "## Résumé technique\n",
    "* asdf"
   ]
  },
  {
   "cell_type": "code",
   "execution_count": null,
   "id": "c170a8b7-ddff-4213-806b-33895f16ae8d",
   "metadata": {},
   "outputs": [],
   "source": []
  }
 ],
 "metadata": {
  "kernelspec": {
   "display_name": "Python 3 (ipykernel)",
   "language": "python",
   "name": "python3"
  },
  "language_info": {
   "codemirror_mode": {
    "name": "ipython",
    "version": 3
   },
   "file_extension": ".py",
   "mimetype": "text/x-python",
   "name": "python",
   "nbconvert_exporter": "python",
   "pygments_lexer": "ipython3",
   "version": "3.11.7"
  }
 },
 "nbformat": 4,
 "nbformat_minor": 5
}
