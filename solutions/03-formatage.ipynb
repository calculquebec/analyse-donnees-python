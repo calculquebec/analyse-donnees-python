{
 "cells": [
  {
   "cell_type": "markdown",
   "id": "a950b321-88cf-435d-a0b7-fcadc1b60c52",
   "metadata": {},
   "source": [
    "# Analyse et visualisation de données avec Python\n",
    "## Formatage des données\n",
    "Questions\n",
    "* Quels sont les différents types de données dans Pandas?\n",
    "* Quel est l'impact des types sur les statistiques descriptives?\n",
    "* Comment gérer les valeurs non définies ou nulles?\n",
    "* Comment sauvegarder un dataframe?\n",
    "\n",
    "Objectifs\n",
    "* Manipuler les types de données\n",
    "* Créer une copie d'un dataframe.\n",
    "* Transformer ou éliminer les valeurs non définies ou nulles.\n",
    "* Écrire les données manipulées dans un fichier CSV."
   ]
  },
  {
   "cell_type": "markdown",
   "id": "165d74fd-b332-4298-ae43-ab192688bb34",
   "metadata": {},
   "source": [
    "## Charger nos données"
   ]
  },
  {
   "cell_type": "code",
   "execution_count": null,
   "id": "9dcf2b26-55ec-4181-b724-face371bd18a",
   "metadata": {},
   "outputs": [],
   "source": [
    "# Charger le module pandas\n",
    "import pandas as pd\n",
    "\n",
    "# Charger les données\n",
    "surveys_df = pd.read_csv(\"../data/surveys.csv\")"
   ]
  },
  {
   "cell_type": "markdown",
   "id": "222e4ad1-4b9b-4211-b0dd-293a3eeb224c",
   "metadata": {},
   "source": [
    "## Types de données\n",
    "### Vérifier le type de données pour chaque colonne"
   ]
  },
  {
   "cell_type": "code",
   "execution_count": null,
   "id": "a6ecef39-b1cd-4a4f-8c18-813281c4cff5",
   "metadata": {},
   "outputs": [],
   "source": [
    "# Obtenir le type de données pour chaque colonne\n",
    "surveys_df.dtypes"
   ]
  },
  {
   "cell_type": "code",
   "execution_count": null,
   "id": "6fc01205-fc79-48e4-be21-fb549863f03c",
   "metadata": {},
   "outputs": [],
   "source": [
    "# Le type de données pour la colonne des mois\n",
    "surveys_df['month'].dtype"
   ]
  },
  {
   "cell_type": "markdown",
   "id": "7a53a9f1-4a05-4a62-a94f-d99f89b94ef5",
   "metadata": {},
   "source": [
    "Types Python | Types Pandas | Description\n",
    ":-----------:|:------------:|:-----------\n",
    "`str`        | `object`     | Type générique, aussi utilisé en cas de multiples types\n",
    "`int`        | `int64`      | Nombres entiers représentés avec 64 bits\n",
    "`float`      | `float64`    | Nombres réels représentés avec 64 bits, ou non-définis (NaN)\n",
    " N/A         | `datetime64` | Dates et heures, avec une précision allant jusqu'à la nanoseconde"
   ]
  },
  {
   "cell_type": "markdown",
   "id": "56c8c58c-9b6d-4c8c-9f7f-41eb36a869f1",
   "metadata": {},
   "source": [
    "### Impacts sur les statistiques descriptives"
   ]
  },
  {
   "cell_type": "code",
   "execution_count": null,
   "id": "0d0c7296-d09b-44a2-80d0-7037df2e4acb",
   "metadata": {},
   "outputs": [],
   "source": [
    "# Statistiques descriptives sur les valeurs numériques\n",
    "surveys_df.describe()"
   ]
  },
  {
   "cell_type": "code",
   "execution_count": null,
   "id": "778dd8ef-7962-40e4-92d1-c27645ee5817",
   "metadata": {},
   "outputs": [],
   "source": [
    "# Convertir les numéros de mois en catégories\n",
    "surveys_df['month'] = surveys_df['month'].astype('str')\n",
    "surveys_df['month'].dtype"
   ]
  },
  {
   "cell_type": "code",
   "execution_count": null,
   "id": "940fd239-56f2-478c-9e5f-91e8cd4074f5",
   "metadata": {},
   "outputs": [],
   "source": [
    "# Statistiques descriptives sur des catégories\n",
    "surveys_df['month'].describe()"
   ]
  },
  {
   "cell_type": "code",
   "execution_count": null,
   "id": "289b5f65-fb0e-42e2-bb2e-0873a36b66be",
   "metadata": {},
   "outputs": [],
   "source": [
    "# Lister les différents mois\n",
    "surveys_df['month'].unique()"
   ]
  },
  {
   "cell_type": "code",
   "execution_count": null,
   "id": "f91ed8a6-7ca1-4eb3-986c-2b8096ef64bb",
   "metadata": {},
   "outputs": [],
   "source": [
    "# Lister les différentes années\n",
    "surveys_df['year'].unique()"
   ]
  },
  {
   "cell_type": "markdown",
   "id": "b6741a3b-770b-4e60-9b6f-fac29fc59aa0",
   "metadata": {},
   "source": [
    "### Exercices - Types et statistiques descriptives"
   ]
  },
  {
   "cell_type": "markdown",
   "id": "7a76d67f-0b8d-4d9d-a18d-1f5d6732deab",
   "metadata": {},
   "source": [
    "`1`. Convertir les valeurs de `weight` en entiers `int64` produira une erreur. Pourquoi?"
   ]
  },
  {
   "cell_type": "code",
   "execution_count": null,
   "id": "c559b588-69b9-4487-8a2e-25b6e459abc3",
   "metadata": {},
   "outputs": [],
   "source": [
    "try:\n",
    "    surveys_df['weight'].astype('int64')\n",
    "except BaseException as erreur:\n",
    "    print(f'La raison : {erreur}')"
   ]
  },
  {
   "cell_type": "markdown",
   "id": "48b76071-17a5-40be-848e-647be5a2ef8d",
   "metadata": {},
   "source": [
    "`2`. Essayez de convertir la colonne `plot_id` au type Python `float`."
   ]
  },
  {
   "cell_type": "code",
   "execution_count": null,
   "id": "45d10229-1fc6-46ee-b92b-fa12774a77d3",
   "metadata": {},
   "outputs": [],
   "source": [
    "surveys_df['plot_id'] = surveys_df['plot_id'].astype('float')\n",
    "surveys_df['plot_id'].dtype"
   ]
  },
  {
   "cell_type": "markdown",
   "id": "4c028349-976d-4888-bee1-7cad730249d5",
   "metadata": {},
   "source": [
    "## Sélection et nettoyage des valeurs non définies"
   ]
  },
  {
   "cell_type": "code",
   "execution_count": null,
   "id": "9e22521f-6d0d-4f78-8066-d54269f9ae8a",
   "metadata": {},
   "outputs": [],
   "source": [
    "# Pour chaque valeur, déterminer si non définie\n",
    "surveys_df.isnull()"
   ]
  },
  {
   "cell_type": "code",
   "execution_count": null,
   "id": "823a4538-fccb-4814-ba56-aff683dcfd6b",
   "metadata": {},
   "outputs": [],
   "source": [
    "# Sélectionner les enregistrements ayant au moins une valeur NaN\n",
    "masque_nan = surveys_df.isnull().any(axis=1)\n",
    "surveys_df[masque_nan]"
   ]
  },
  {
   "cell_type": "code",
   "execution_count": null,
   "id": "0cb2aded-2610-40c9-9145-bb1fbe04f68a",
   "metadata": {},
   "outputs": [],
   "source": [
    "# Qu'est-ce que le code suivant va retourner?\n",
    "masque_nan = surveys_df['weight'].isnull()\n",
    "une_selection = surveys_df[masque_nan]\n",
    "une_selection.groupby('species_id')['record_id'].count()"
   ]
  },
  {
   "cell_type": "markdown",
   "id": "fb11fce0-5d61-4ae1-9248-d988c1da5004",
   "metadata": {},
   "source": [
    "### Recréer des données manquantes"
   ]
  },
  {
   "cell_type": "code",
   "execution_count": null,
   "id": "7af97ad1-9b08-4659-9b01-d5db1ccffcb8",
   "metadata": {},
   "outputs": [],
   "source": [
    "# Le \"avant\" - nombre et moyenne\n",
    "print(surveys_df['weight'].count(), surveys_df['weight'].mean())"
   ]
  },
  {
   "cell_type": "code",
   "execution_count": null,
   "id": "f4ea8784-aa1e-440a-b3ca-b790f29db24b",
   "metadata": {},
   "outputs": [],
   "source": [
    "# Créer une copie pour ne pas modifier l'objet original\n",
    "copie_surveys = surveys_df.copy()"
   ]
  },
  {
   "cell_type": "code",
   "execution_count": null,
   "id": "6e529b15-a7cf-41c7-a30c-63d2c722d798",
   "metadata": {},
   "outputs": [],
   "source": [
    "# Pour une valeur moyenne stable\n",
    "moyennePoids = copie_surveys['weight'].mean()\n",
    "copie_surveys['weight'] = copie_surveys['weight'].fillna(moyennePoids)"
   ]
  },
  {
   "cell_type": "code",
   "execution_count": null,
   "id": "1d863871-8f86-4f5e-ab7a-9a08a9ed758d",
   "metadata": {},
   "outputs": [],
   "source": [
    "# Le \"après\" - nombre et moyenne\n",
    "print(copie_surveys['weight'].count(), copie_surveys['weight'].mean())"
   ]
  },
  {
   "cell_type": "markdown",
   "id": "e88ffc8c-2ce8-4ae0-a8a2-5732c0c199f7",
   "metadata": {},
   "source": [
    "### Exercices - Types et statistiques descriptives\n",
    "\n",
    "À partir de `copie_surveys`,\n",
    "convertissez les valeurs de `weight` en entiers `int64`.\n",
    "Nous verrons ensuite le changement sur la moyenne."
   ]
  },
  {
   "cell_type": "code",
   "execution_count": null,
   "id": "ffb33d5a-7eb8-4ec1-86d4-953a38d3cea7",
   "metadata": {},
   "outputs": [],
   "source": [
    "copie_surveys['weight'] = copie_surveys['weight'].astype('int64')\n",
    "copie_surveys['weight'].mean()"
   ]
  },
  {
   "cell_type": "markdown",
   "id": "74d5defe-6fdc-4fa2-ab7d-c435224d4b47",
   "metadata": {},
   "source": [
    "### Sauvegarde après nettoyage"
   ]
  },
  {
   "cell_type": "code",
   "execution_count": null,
   "id": "b450cd66-0cda-4d76-a683-aa383e61adec",
   "metadata": {},
   "outputs": [],
   "source": [
    "# Ne garder que les lignes sans aucun NA\n",
    "df_sans_na = surveys_df.dropna()\n",
    "df_sans_na"
   ]
  },
  {
   "cell_type": "code",
   "execution_count": null,
   "id": "674a6d27-7f22-402b-bc95-64356af21eaa",
   "metadata": {},
   "outputs": [],
   "source": [
    "# Sauvegarder le dataframe filtré\n",
    "fichier_csv = 'surveys_sans_NA.csv'\n",
    "df_sans_na.to_csv(fichier_csv, index=False)"
   ]
  },
  {
   "cell_type": "markdown",
   "id": "44166511-3221-4e97-929d-a8755ea37027",
   "metadata": {},
   "source": [
    "## Résumé technique\n",
    "* **Gestion des types**\n",
    "    * Pour un **DataFrame** :\n",
    "        * Attributs : `dtypes`\n",
    "    * Pour une **série** (colonne) :\n",
    "        * Attributs : `dtype`\n",
    "        * Méthodes : `astype()`\n",
    "* **Nettoyage**\n",
    "    * `df.copy()`\n",
    "    * `isna()`, `isnull()` (le second est un alias du premier)\n",
    "    * `notna()`, `notnull()`  (le second est un alias du premier)\n",
    "    * `colonne.fillna(valeur, inplace=True)`\n",
    "* **Sauvegarde**\n",
    "    * `df.to_csv(nom_csv, index=False)`"
   ]
  },
  {
   "cell_type": "code",
   "execution_count": null,
   "id": "c170a8b7-ddff-4213-806b-33895f16ae8d",
   "metadata": {},
   "outputs": [],
   "source": []
  }
 ],
 "metadata": {
  "kernelspec": {
   "display_name": "Python 3 (ipykernel)",
   "language": "python",
   "name": "python3"
  },
  "language_info": {
   "codemirror_mode": {
    "name": "ipython",
    "version": 3
   },
   "file_extension": ".py",
   "mimetype": "text/x-python",
   "name": "python",
   "nbconvert_exporter": "python",
   "pygments_lexer": "ipython3",
   "version": "3.11.7"
  }
 },
 "nbformat": 4,
 "nbformat_minor": 5
}
