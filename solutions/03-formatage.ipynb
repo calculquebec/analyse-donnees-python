{
 "cells": [
  {
   "cell_type": "markdown",
   "id": "a950b321-88cf-435d-a0b7-fcadc1b60c52",
   "metadata": {},
   "source": [
    "# Analyse et visualisation de données avec Python\n",
    "## Formatage des données\n",
    "Questions\n",
    "* asdf\n",
    "\n",
    "Objectifs\n",
    "* asdf"
   ]
  },
  {
   "cell_type": "markdown",
   "id": "165d74fd-b332-4298-ae43-ab192688bb34",
   "metadata": {},
   "source": [
    "## Charger nos données"
   ]
  },
  {
   "cell_type": "code",
   "execution_count": null,
   "id": "9dcf2b26-55ec-4181-b724-face371bd18a",
   "metadata": {},
   "outputs": [],
   "source": [
    "# Charger le module pandas\n",
    "import pandas as pd\n",
    "\n",
    "# Charger les données\n",
    "surveys_df = pd.read_csv(\"../data/surveys.csv\")"
   ]
  },
  {
   "cell_type": "markdown",
   "id": "222e4ad1-4b9b-4211-b0dd-293a3eeb224c",
   "metadata": {},
   "source": [
    "## Types de données\n",
    "### Vérifier le type de données pour chaque colonne"
   ]
  },
  {
   "cell_type": "code",
   "execution_count": null,
   "id": "a6ecef39-b1cd-4a4f-8c18-813281c4cff5",
   "metadata": {},
   "outputs": [],
   "source": [
    "# Obtenir le type de données pour chaque colonne\n",
    "surveys_df.dtypes"
   ]
  },
  {
   "cell_type": "code",
   "execution_count": null,
   "id": "6fc01205-fc79-48e4-be21-fb549863f03c",
   "metadata": {},
   "outputs": [],
   "source": [
    "# Le type de données pour la colonne des mois\n",
    "surveys_df['month'].dtype"
   ]
  },
  {
   "cell_type": "markdown",
   "id": "7a53a9f1-4a05-4a62-a94f-d99f89b94ef5",
   "metadata": {},
   "source": [
    "Types Python | Types Pandas | Description\n",
    ":-----------:|:------------:|:-----------\n",
    "`str`        | `object`     | Type générique, aussi utilisé en cas de multiples types\n",
    "`int`        | `int64`      | Nombres entiers représentés avec 64 bits\n",
    "`float`      | `float64`    | Nombres réels représentés avec 64 bits, ou non-définis (NaN)\n",
    " N/A         | `datetime64` | Dates et heures, avec une précision allant jusqu'à la nanoseconde"
   ]
  },
  {
   "cell_type": "markdown",
   "id": "56c8c58c-9b6d-4c8c-9f7f-41eb36a869f1",
   "metadata": {},
   "source": [
    "### Impacts sur les statistiques descriptives"
   ]
  },
  {
   "cell_type": "code",
   "execution_count": null,
   "id": "0d0c7296-d09b-44a2-80d0-7037df2e4acb",
   "metadata": {},
   "outputs": [],
   "source": [
    "# Statistiques descriptives sur les valeurs numériques\n",
    "surveys_df.describe()"
   ]
  },
  {
   "cell_type": "code",
   "execution_count": null,
   "id": "778dd8ef-7962-40e4-92d1-c27645ee5817",
   "metadata": {},
   "outputs": [],
   "source": [
    "# Convertir les numéros de mois en catégories\n",
    "surveys_df['month'] = surveys_df['month'].astype('str')\n",
    "surveys_df['month'].dtype"
   ]
  },
  {
   "cell_type": "code",
   "execution_count": null,
   "id": "940fd239-56f2-478c-9e5f-91e8cd4074f5",
   "metadata": {},
   "outputs": [],
   "source": [
    "# Statistiques descriptives sur des catégories\n",
    "surveys_df['month'].describe()"
   ]
  },
  {
   "cell_type": "code",
   "execution_count": null,
   "id": "289b5f65-fb0e-42e2-bb2e-0873a36b66be",
   "metadata": {},
   "outputs": [],
   "source": [
    "# Lister les différents mois\n",
    "surveys_df['month'].unique()"
   ]
  },
  {
   "cell_type": "code",
   "execution_count": null,
   "id": "f91ed8a6-7ca1-4eb3-986c-2b8096ef64bb",
   "metadata": {},
   "outputs": [],
   "source": [
    "# Lister les différentes années\n",
    "surveys_df['year'].unique()"
   ]
  },
  {
   "cell_type": "markdown",
   "id": "b6741a3b-770b-4e60-9b6f-fac29fc59aa0",
   "metadata": {},
   "source": [
    "### Exercices - Types et statistiques descriptives"
   ]
  },
  {
   "cell_type": "markdown",
   "id": "7a76d67f-0b8d-4d9d-a18d-1f5d6732deab",
   "metadata": {},
   "source": [
    "`1`. Convertir les valeurs de `weight` en entiers `int64` produira une erreur. Pourquoi?"
   ]
  },
  {
   "cell_type": "code",
   "execution_count": null,
   "id": "c559b588-69b9-4487-8a2e-25b6e459abc3",
   "metadata": {},
   "outputs": [],
   "source": [
    "try:\n",
    "    surveys_df['weight'].astype('int64')\n",
    "except BaseException as erreur:\n",
    "    print(f'La raison : {erreur}')"
   ]
  },
  {
   "cell_type": "markdown",
   "id": "48b76071-17a5-40be-848e-647be5a2ef8d",
   "metadata": {},
   "source": [
    "`2`. Essayez de convertir la colonne `plot_id` au type Python `float`."
   ]
  },
  {
   "cell_type": "code",
   "execution_count": null,
   "id": "45d10229-1fc6-46ee-b92b-fa12774a77d3",
   "metadata": {},
   "outputs": [],
   "source": [
    "surveys_df['plot_id'] = surveys_df['plot_id'].astype('float')\n",
    "surveys_df['plot_id'].dtype"
   ]
  },
  {
   "cell_type": "markdown",
   "id": "67fb5b26-0cab-42ea-9062-bc1a731b1ae7",
   "metadata": {},
   "source": [
    "`3`. Créez une liste des différents identifiants de site (`plot_id`) que l'on peut trouver dans `surveys_df`.\n",
    "* Sauvegardez le résultat dans `numeros_site`.\n",
    "* Combien y a-t-il de sites différents dans les données?"
   ]
  },
  {
   "cell_type": "code",
   "execution_count": null,
   "id": "f1febb01-8d4b-4b9a-8dbd-9359ee8890f4",
   "metadata": {},
   "outputs": [],
   "source": [
    "numeros_site = surveys_df['plot_id'].unique()\n",
    "numeros_site.shape[0]"
   ]
  },
  {
   "cell_type": "markdown",
   "id": "a370a7a2-bb23-4c7c-af0e-206f430bce23",
   "metadata": {},
   "source": [
    "`4`. Quelle est la différence entre `len(numeros_site)` et `surveys_df['plot_id'].nunique()`?"
   ]
  },
  {
   "cell_type": "code",
   "execution_count": null,
   "id": "f68c6554-d6a5-4f1c-864f-f5e77de37f97",
   "metadata": {},
   "outputs": [],
   "source": [
    "print(len(numeros_site))\n",
    "print(surveys_df['plot_id'].nunique())"
   ]
  },
  {
   "cell_type": "markdown",
   "id": "44166511-3221-4e97-929d-a8755ea37027",
   "metadata": {},
   "source": [
    "## Résumé technique\n",
    "* Pour un **DataFrame** :\n",
    "  * **Attributs** : `dtypes`\n",
    "* Pour une **colonne** :\n",
    "  * **Attributs** : `dtype`\n",
    "  * **Méthodes** : `astype()`"
   ]
  },
  {
   "cell_type": "code",
   "execution_count": null,
   "id": "c170a8b7-ddff-4213-806b-33895f16ae8d",
   "metadata": {},
   "outputs": [],
   "source": []
  }
 ],
 "metadata": {
  "kernelspec": {
   "display_name": "Python 3 (ipykernel)",
   "language": "python",
   "name": "python3"
  },
  "language_info": {
   "codemirror_mode": {
    "name": "ipython",
    "version": 3
   },
   "file_extension": ".py",
   "mimetype": "text/x-python",
   "name": "python",
   "nbconvert_exporter": "python",
   "pygments_lexer": "ipython3",
   "version": "3.11.7"
  }
 },
 "nbformat": 4,
 "nbformat_minor": 5
}
