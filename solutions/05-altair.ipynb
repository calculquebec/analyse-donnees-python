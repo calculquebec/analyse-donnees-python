{
 "cells": [
  {
   "cell_type": "markdown",
   "metadata": {},
   "source": [
    "# Analyse et visualisation de données avec Python\n",
    "## Créer des graphiques avec Altair\n",
    "Questions\n",
    "* Comment faire davantage de visualisation en Python?\n",
    "* Comment faire des graphiques modernes et interactifs?\n",
    "* Qu'est-ce que la \"grammaire des graphiques\"?\n",
    "\n",
    "Objectifs\n",
    "* Créer un objet `alt.Chart`.\n",
    "* Créer différents types de graphiques.\n",
    "* Modifier l'apparence du graphique:\n",
    "  * Configurer les couleurs.\n",
    "  * Éditer le titre et le nom des axes.\n",
    "* Diviser une figure en facettes.\n",
    "* Sauvegarder une figure en image et en version interactive."
   ]
  },
  {
   "cell_type": "code",
   "execution_count": null,
   "metadata": {},
   "outputs": [],
   "source": [
    "import numpy as np\n",
    "import pandas as pd\n",
    "\n",
    "# Charger et nettoyer les données\n",
    "surveys_complet = pd.read_csv('../data/surveys.csv')\n",
    "surveys_complet = surveys_complet.dropna()\n",
    "surveys_complet"
   ]
  },
  {
   "cell_type": "markdown",
   "metadata": {},
   "source": [
    "## Pourquoi `altair`? Pourquoi pas `matplotlib`?\n",
    "Bien que `matplotlib` soit un module de visualisation largement\n",
    "répandu, très flexible et puissant, son utilisation est parfois\n",
    "compliquée.\n",
    "\n",
    "Pour ce chapitre, nous allons utiliser le module `altair` qui\n",
    "[facilite la création de graphiques hautement informatifs](https://altair-viz.github.io/index.html)\n",
    "tout en s'intégrant bien avec Pandas. Le fonctionnement de `altair`\n",
    "se base sur la grammaire des graphiques interactifs de\n",
    "[Vega-Lite](https://vega.github.io/vega-lite/)."
   ]
  },
  {
   "cell_type": "code",
   "execution_count": null,
   "metadata": {},
   "outputs": [],
   "source": [
    "import altair as alt"
   ]
  },
  {
   "cell_type": "markdown",
   "metadata": {},
   "source": [
    "Étant donné que les graphiques générés par Altair ne sont pas que des\n",
    "images statiques, l'information générée est parfois très lourde et\n",
    "elle s'accumule dans le notebook s'il y a plusieurs graphiques.\n",
    "Néanmoins, pour contourner la limite de 5000 rangées dans le DataFrame\n",
    "de données, on peut désactiver cette limite, à nos risques."
   ]
  },
  {
   "cell_type": "code",
   "execution_count": null,
   "metadata": {},
   "outputs": [],
   "source": [
    "alt.data_transformers.disable_max_rows()"
   ]
  },
  {
   "cell_type": "markdown",
   "metadata": {},
   "source": [
    "## Générer des graphiques avec `altair`\n",
    "Les graphiques `altair` sont construits étape par étape à partir\n",
    "d'un objet de type `Chart`:\n",
    "* **Création du graphique** - La première méthode obligatoire débute\n",
    "  par `mark_`. Par exemple, `mark_point()`.\n",
    "  À ce stade, c'est normal que tout soit concentré en un point."
   ]
  },
  {
   "cell_type": "code",
   "execution_count": null,
   "metadata": {},
   "outputs": [],
   "source": [
    "# Création de l'objet Chart et choix du type de graphique\n",
    "alt.Chart(surveys_complet).mark_point()"
   ]
  },
  {
   "cell_type": "markdown",
   "metadata": {},
   "source": [
    "* **Encodage des canaux** - La prochaine étape consiste à\n",
    "  [encoder](https://altair-viz.github.io/user_guide/encoding.html)\n",
    "  des canaux liant certaines variables du DataFrame à divers éléments\n",
    "  du graphiques. Les principaux paramètres de `encode()` sont :\n",
    "  `x`, `y`, `color`, `shape` et `size`."
   ]
  },
  {
   "cell_type": "code",
   "execution_count": null,
   "metadata": {},
   "outputs": [],
   "source": [
    "# Définition des axes ; les points prennent leur position\n",
    "alt.Chart(surveys_complet).mark_point().encode(\n",
    "    x=alt.X('hindfoot_length'),\n",
    "    y=alt.Y('weight'),\n",
    ")"
   ]
  },
  {
   "cell_type": "markdown",
   "metadata": {},
   "source": [
    "* **Navigation interactive** - On peut ensuite rendre le graphique\n",
    "  interactif, ce qui permet de naviguer dans le graphique à l'aide\n",
    "  de la souris."
   ]
  },
  {
   "cell_type": "code",
   "execution_count": null,
   "metadata": {},
   "outputs": [],
   "source": [
    "# Permettre les interactions avec la souris\n",
    "alt.Chart(surveys_complet).mark_point().encode(\n",
    "    x=alt.X('hindfoot_length'),\n",
    "    y=alt.Y('weight'),\n",
    ").interactive()"
   ]
  },
  {
   "cell_type": "code",
   "execution_count": null,
   "metadata": {},
   "outputs": [],
   "source": [
    "# Ajouter du bruit aux longueurs et aux poids\n",
    "N = len(surveys_complet)\n",
    "surveys_complet['longueur_bruitee'] = (\n",
    "    surveys_complet['hindfoot_length'] + np.random.uniform(-0.5, 0.5, N)\n",
    ")\n",
    "surveys_complet['poids_bruite'] = (\n",
    "    surveys_complet['weight'] + np.random.uniform(-0.5, 0.5, N)\n",
    ")"
   ]
  },
  {
   "cell_type": "markdown",
   "metadata": {},
   "source": [
    "* **Affichage interactif des valeurs** - Encoder le canal `tooltip`\n",
    "  avec une liste de variables à afficher au passage de la souris."
   ]
  },
  {
   "cell_type": "code",
   "execution_count": null,
   "metadata": {},
   "outputs": [],
   "source": [
    "# Permettre de voir les valeurs associées aux points\n",
    "graphique = alt.Chart(surveys_complet).mark_point().encode(\n",
    "    x=alt.X('longueur_bruitee'),\n",
    "    y=alt.Y('poids_bruite'),\n",
    "    tooltip=['plot_id', 'species_id', 'hindfoot_length', 'weight'],\n",
    ")\n",
    "graphique"
   ]
  },
  {
   "cell_type": "markdown",
   "metadata": {},
   "source": [
    "* **Sauvegarde du graphique** - C'est possible de le sauvegarder dans le format de notre choix."
   ]
  },
  {
   "cell_type": "code",
   "execution_count": null,
   "metadata": {},
   "outputs": [],
   "source": [
    "graphique.save(\"poids_longueur.html\")"
   ]
  },
  {
   "cell_type": "code",
   "execution_count": null,
   "metadata": {},
   "outputs": [],
   "source": [
    "try:\n",
    "    graphique.save(\"poids_longueur.png\")\n",
    "except BaseException as err:\n",
    "    print('Erreur:', err)\n",
    "    print('-> Il vaut mieux utiliser le bouton (...)')"
   ]
  },
  {
   "cell_type": "markdown",
   "metadata": {},
   "source": [
    "### Exercice - Créer un histogramme\n",
    "À partir du DataFrame `surveys_complet`, faites afficher le\n",
    "décompte du nombre d'enregistrements pour chaque `plot_id`. Instructions :\n",
    "* Utilisez\n",
    "  [`mark_bar()`](https://altair-viz.github.io/gallery/simple_bar_chart.html)\n",
    "  pour générer\n",
    "  [l'histogramme](https://altair-viz.github.io/gallery/simple_histogram.html)\n",
    "* Sur l'axe horizontal, spécifiez la variable `'plot_id'` et le\n",
    "  [type `'ordinal'`](https://altair-viz.github.io/user_guide/encoding.html#encoding-data-types)\n",
    "* Sur l'axe vertical, spécifiez `'count()'` comme variable pour que\n",
    "  Altair fasse automatiquement le décompte, ce qui évite de passer\n",
    "  par la méthode `groupby()` du DataFrame"
   ]
  },
  {
   "cell_type": "code",
   "execution_count": null,
   "metadata": {},
   "outputs": [],
   "source": [
    "alt.Chart(surveys_complet).mark_bar().encode(\n",
    "    x=alt.X('plot_id', type='ordinal'),\n",
    "    y=alt.Y('count()'),\n",
    ")"
   ]
  },
  {
   "cell_type": "markdown",
   "metadata": {
    "tags": []
   },
   "source": [
    "## Construire un graphique par étapes\n",
    "Rappel : les éléments de base de tout graphique Altair sont\n",
    "le `Chart()` avec le DataFrame, un type de graphique `mark_*()`\n",
    "et des variables utilisées dans `encode()`.\n",
    "\n",
    "* Ensuite, on commence à modifier le graphique pour en extraire\n",
    "  davantage d'information. Par exemple, avec de la transparence :"
   ]
  },
  {
   "cell_type": "code",
   "execution_count": null,
   "metadata": {},
   "outputs": [],
   "source": [
    "alt.Chart(surveys_complet).mark_point().encode(\n",
    "    x=alt.X('longueur_bruitee'),\n",
    "    y=alt.Y('poids_bruite'),\n",
    ").configure_mark(\n",
    "    opacity=0.05,\n",
    ")"
   ]
  },
  {
   "cell_type": "markdown",
   "metadata": {},
   "source": [
    "* Pour avoir une couleur différente pour chaque type de d'espèce,\n",
    "  il faut lier la variable `species_id` au canal `color` :"
   ]
  },
  {
   "cell_type": "code",
   "execution_count": null,
   "metadata": {},
   "outputs": [],
   "source": [
    "alt.Chart(surveys_complet).mark_point().encode(\n",
    "    x=alt.X('longueur_bruitee'),\n",
    "    y=alt.Y('poids_bruite'),\n",
    "    color=alt.Color('species_id'),\n",
    ").configure_mark(\n",
    "    opacity=0.05,\n",
    ")"
   ]
  },
  {
   "cell_type": "markdown",
   "metadata": {},
   "source": [
    "* Étant donné la similarité de certaines couleurs, on peut ensuite\n",
    "  activer les `tooltip` avec les identifiants de `species_id` :"
   ]
  },
  {
   "cell_type": "code",
   "execution_count": null,
   "metadata": {},
   "outputs": [],
   "source": [
    "alt.Chart(surveys_complet).mark_point().encode(\n",
    "    x=alt.X('longueur_bruitee'),\n",
    "    y=alt.Y('poids_bruite'),\n",
    "    color=alt.Color('species_id'),\n",
    "    tooltip=['species_id'],\n",
    ").configure_mark(\n",
    "    opacity=0.05,\n",
    ")"
   ]
  },
  {
   "cell_type": "markdown",
   "metadata": {},
   "source": [
    "* Utiliser une échelle verticale semi-log :"
   ]
  },
  {
   "cell_type": "code",
   "execution_count": null,
   "metadata": {},
   "outputs": [],
   "source": [
    "alt.Chart(surveys_complet).mark_point().encode(\n",
    "    x=alt.X('longueur_bruitee'),\n",
    "    y=alt.Y('poids_bruite', scale=alt.Scale(type='log', base=2)),\n",
    "    color=alt.Color('species_id'),\n",
    "    tooltip=['species_id'],\n",
    ").configure_mark(\n",
    "    opacity=0.05,\n",
    ").properties(\n",
    "    height=384,\n",
    ")"
   ]
  },
  {
   "cell_type": "markdown",
   "metadata": {},
   "source": [
    "* Modifier le nom des axes :"
   ]
  },
  {
   "cell_type": "code",
   "execution_count": null,
   "metadata": {},
   "outputs": [],
   "source": [
    "alt.Chart(surveys_complet).mark_point().encode(\n",
    "    x=alt.X('longueur_bruitee', title='Longueur de patte (mm)'),\n",
    "    y=alt.Y('poids_bruite', scale=alt.Scale(type='log', base=2),\n",
    "            title='Poids (g)'),\n",
    "    color=alt.Color('species_id'),\n",
    "    tooltip=['species_id'],\n",
    ").configure_mark(\n",
    "    opacity=0.05,\n",
    ").properties(\n",
    "    height=384,\n",
    "    title='Poids selon la longueur de patte',\n",
    ")"
   ]
  },
  {
   "cell_type": "markdown",
   "metadata": {},
   "source": [
    "### Exercice - Enrichir l'histogramme\n",
    "Adaptez l'histogramme de l'exercice précédent en associant la variable\n",
    "`sex` à une échelle de couleurs spécifique :\n",
    "* Un objet `alt.Scale()` permet d'associer les valeurs de domaine\n",
    "  `'F'` et `'M'` aux couleurs HTML `'#fe3a1e'` et `'#03a1e0'`. Voir\n",
    "  [un exemple ici](https://altair-viz.github.io/user_guide/customization.html#color-domain-and-range)\n",
    "* L'encodage du canal `color` doit donc se faire avec la variable\n",
    "  `'sex'` et l'échelle de couleurs `alt.Scale()`\n",
    "* Activez le canal `tooltip` avec `'count()'` pour avoir le décompte\n",
    "  par sexe"
   ]
  },
  {
   "cell_type": "code",
   "execution_count": null,
   "metadata": {},
   "outputs": [],
   "source": [
    "# Définir notre échelle de couleurs\n",
    "couleurs = alt.Scale(domain=['F', 'M'], range=['#fe3a1e', '#03a1e0'])\n",
    "\n",
    "alt.Chart(surveys_complet).mark_bar(size=12).encode(\n",
    "    x=alt.X('plot_id', type='ordinal'),\n",
    "    y=alt.Y('count()'),\n",
    "    color=alt.Color('sex', scale=couleurs),\n",
    "    tooltip=['count()'],\n",
    ")"
   ]
  },
  {
   "cell_type": "markdown",
   "metadata": {},
   "source": [
    "## Visualiser des distributions\n",
    "* Un box-plot peut être utilisé :"
   ]
  },
  {
   "cell_type": "code",
   "execution_count": null,
   "metadata": {},
   "outputs": [],
   "source": [
    "alt.Chart(surveys_complet).mark_boxplot().encode(\n",
    "    x=alt.X('species_id'),\n",
    "    y=alt.Y('poids_bruite', scale=alt.Scale(type='log', base=2),\n",
    "            title='Poids (g)'),\n",
    "    color=alt.Color('species_id', legend=None),\n",
    ")"
   ]
  },
  {
   "cell_type": "markdown",
   "metadata": {},
   "source": [
    "* Des facettes étroites pour afficher plusieurs nuages de points :"
   ]
  },
  {
   "cell_type": "code",
   "execution_count": null,
   "metadata": {},
   "outputs": [],
   "source": [
    "alt.Chart(surveys_complet).mark_circle(size=4).encode(\n",
    "    x=alt.X('bruit', type='quantitative', axis=None, title=None),\n",
    "    y=alt.Y('poids_bruite', scale=alt.Scale(type='log', base=2),\n",
    "            title='Poids (g)'),\n",
    "    color=alt.Color('species_id', legend=None),\n",
    "    column=alt.Column('species_id', title='Poids selon les espèces'),\n",
    ").transform_calculate(\n",
    "    bruit='random()-0.5'\n",
    ").configure_mark(\n",
    "    opacity=0.25,\n",
    ").configure_facet(\n",
    "    spacing=0,\n",
    ").configure_view(\n",
    "    stroke=None,\n",
    "    width=20,\n",
    ")"
   ]
  },
  {
   "cell_type": "markdown",
   "metadata": {},
   "source": [
    "### Exercice - Distributions\n",
    "* Affichez un **violin-plot** transparent par-dessus les points et forcez la couleur de ligne `\"grey\"`.\n",
    "* Pour l'axe des `x`, on veut que les différentes valeurs numériques de `plot_id` soient considérées comme des catégories. Pour ce faire, on utilisera `'factor(plot_id)'`.\n",
    "* Faites en sorte que la couleur des points soit en fonction de l'identifiant d'espèce `'species_id'`."
   ]
  },
  {
   "cell_type": "code",
   "execution_count": null,
   "metadata": {},
   "outputs": [],
   "source": [
    "(p9.ggplot(data=surveys_complet,\n",
    "           mapping=p9.aes(x='factor(plot_id)',\n",
    "                          y='weight',\n",
    "                          color='species_id'))\n",
    "    + p9.geom_jitter(alpha=0.3)\n",
    "    + p9.geom_violin(alpha=0, color=\"grey\")\n",
    "    + p9.scale_y_log10()\n",
    ")"
   ]
  },
  {
   "cell_type": "markdown",
   "metadata": {},
   "source": [
    "## Visualiser des données selon le temps\n",
    "* Calculez le nombre d'enregistrements par type d'espèces pour chaque année.\n",
    "* Réinitialisez l'index ; `year` et `species_id` deviendront des colonnes."
   ]
  },
  {
   "cell_type": "code",
   "execution_count": null,
   "metadata": {},
   "outputs": [],
   "source": [
    "yearly_counts = surveys_complet.groupby(['year', 'species_id'])['species_id'].count()\n",
    "yearly_counts = yearly_counts.reset_index(name='counts')\n",
    "yearly_counts"
   ]
  },
  {
   "cell_type": "markdown",
   "metadata": {},
   "source": [
    "* La visualisation peut ensuite se faire avec un \"line-plot\" (ou `geom_line`) avec les années en `x` et les décomptes en `y`.\n",
    "* Afin d'avoir une ligne par espèce, il faut spécifier l'option couleur selon l'identifiant d'espèce."
   ]
  },
  {
   "cell_type": "code",
   "execution_count": null,
   "metadata": {},
   "outputs": [],
   "source": [
    "(p9.ggplot(data=yearly_counts,\n",
    "           mapping=p9.aes(x='year',\n",
    "                          y='counts',\n",
    "                          color='species_id'))\n",
    "    + p9.geom_line()\n",
    ")"
   ]
  },
  {
   "cell_type": "markdown",
   "metadata": {},
   "source": [
    "## Création de facettes\n",
    "* `plotnine` a une technique spéciale appelée *création de facettes* permettant de diviser un graphique en plusieurs sous-graphiques selon une variable de type catégorie."
   ]
  },
  {
   "cell_type": "code",
   "execution_count": null,
   "metadata": {},
   "outputs": [],
   "source": [
    "(p9.ggplot(data=surveys_complet,\n",
    "           mapping=p9.aes(x='hindfoot_length',\n",
    "                          y='weight',\n",
    "                          color='species_id'))\n",
    "    + p9.geom_point(alpha=0.1)\n",
    "    + p9.facet_wrap('sex')\n",
    ")"
   ]
  },
  {
   "cell_type": "markdown",
   "metadata": {},
   "source": [
    "* Avec `facet_wrap()`, nul besoin de convertir en `factor`:"
   ]
  },
  {
   "cell_type": "code",
   "execution_count": null,
   "metadata": {},
   "outputs": [],
   "source": [
    "(p9.ggplot(data=surveys_complet,\n",
    "           mapping=p9.aes(x='hindfoot_length',\n",
    "                          y='weight',\n",
    "                          color='species_id'))\n",
    "    + p9.geom_point(alpha=0.1)\n",
    "    + p9.facet_wrap('plot_id')\n",
    ")"
   ]
  },
  {
   "cell_type": "markdown",
   "metadata": {},
   "source": [
    "* La fonction `facet_grid()` permet de spécifier l'arrangement d'une grille de graphiques avec la notation `rangées ~ colonnes` de graphiques."
   ]
  },
  {
   "cell_type": "code",
   "execution_count": null,
   "metadata": {},
   "outputs": [],
   "source": [
    "# Garder uniquement quelques années\n",
    "survey_2000 = surveys_complet[surveys_complet[\"year\"].isin([2000, 2001, 2002])]\n",
    "\n",
    "(p9.ggplot(data=survey_2000,\n",
    "           mapping=p9.aes(x='hindfoot_length',\n",
    "                          y='weight',\n",
    "                          color='species_id'))\n",
    "    + p9.geom_point(alpha=0.1)\n",
    "    + p9.facet_grid('sex ~ year')\n",
    ")"
   ]
  },
  {
   "cell_type": "markdown",
   "metadata": {},
   "source": [
    "### Exercice - Facettes\n",
    "* Créez deux facettes selon le `sex`\n",
    "* Chaque facette aura :\n",
    "  * Les années en axe des x\n",
    "  * Le poids moyen en axe des y\n",
    "  * Une courbe par espèce"
   ]
  },
  {
   "cell_type": "code",
   "execution_count": null,
   "metadata": {},
   "outputs": [],
   "source": [
    "yearly_weight = surveys_complet.groupby(['year',\n",
    "                                          'species_id',\n",
    "                                          'sex'])['weight'].mean().reset_index()\n",
    "(p9.ggplot(data=yearly_weight,\n",
    "           mapping=p9.aes(x='year',\n",
    "                          y='weight',\n",
    "                          color='species_id'))\n",
    "    + p9.geom_line()\n",
    "    + p9.facet_wrap('sex')\n",
    ")"
   ]
  },
  {
   "cell_type": "markdown",
   "metadata": {},
   "source": [
    "## Ajustements supplémentaires\n",
    "* La fonction `theme()` retourne un objet permettant d'orienter verticalement le texte sur l'axe des `x` :"
   ]
  },
  {
   "cell_type": "code",
   "execution_count": null,
   "metadata": {},
   "outputs": [],
   "source": [
    "mon_theme = p9.theme(\n",
    "    axis_text_x=p9.element_text(angle=90),\n",
    "    text=p9.element_text(size=10))\n",
    "\n",
    "(p9.ggplot(data=surveys_complet,\n",
    "           mapping=p9.aes(x='factor(year)'))\n",
    "    + p9.geom_bar()\n",
    "    + p9.xlab(\"Year\")\n",
    "    + mon_theme\n",
    ")"
   ]
  },
  {
   "cell_type": "markdown",
   "metadata": {},
   "source": [
    "## Résumé technique\n",
    "* **Module Plotnine**\n",
    "  * `import plotnine as p9`\n",
    "* **Création d'un graphique vierge** avec Plotnine\n",
    "  * `p9.ggplot(data=df)`\n",
    "* **Assigner des variables** à des éléments du graphique\n",
    "  * `p9.ggplot(data=df, mapping=p9.aes(...))`\n",
    "    * Exemple : `p9.aes(x='var1', y='var2', color='var3')`\n",
    "  * Différentes variables :\n",
    "    * Axes : `x`, `y`, `='factor(var)'`\n",
    "    * Couleurs : `alpha`, `color`, `colour`, `fill`\n",
    "    * Formes : `linetype`, `shape`, `size`\n",
    "* **Ajout d'éléments géométriques** à afficher\n",
    "  * `p9.geom_point(alpha=0.1, color=\"green\")`\n",
    "  * `p9.geom_line()`\n",
    "  * `p9.geom_bar()`, `p9.geom_jitter()`\n",
    "  * `p9.geom_boxplot()`, `p9.geom_violin()`\n",
    "* **Configuration des axes, des étiquettes et du thème**\n",
    "  * `p9.scale_x_log10()` et `p9.scale_y_log10()`\n",
    "  * `p9.xlab(\"Axe en X\")` et `p9.ylab(\"Axe en Y\")`\n",
    "  * `p9.ggtitle(\"Longueur de patte selon le poids\")`\n",
    "  * `p9.theme_bw()`\n",
    "  * `p9.theme()`\n",
    "    * `legend_position=` : `top`, `bottom`, `left`, `right`\n",
    "    * `axis_text_x=p9.element_text(angle=90)`\n",
    "    * `text=p9.element_text(size=10)`\n",
    "* **Graphiques multiples**\n",
    "  * `p9.facet_wrap('varN')`\n",
    "  * `p9.facet_grid('rangées ~ colonnes')`"
   ]
  },
  {
   "cell_type": "code",
   "execution_count": null,
   "metadata": {},
   "outputs": [],
   "source": []
  }
 ],
 "metadata": {
  "anaconda-cloud": {},
  "kernelspec": {
   "display_name": "Python 3 (ipykernel)",
   "language": "python",
   "name": "python3"
  },
  "language_info": {
   "codemirror_mode": {
    "name": "ipython",
    "version": 3
   },
   "file_extension": ".py",
   "mimetype": "text/x-python",
   "name": "python",
   "nbconvert_exporter": "python",
   "pygments_lexer": "ipython3",
   "version": "3.10.0"
  }
 },
 "nbformat": 4,
 "nbformat_minor": 4
}
