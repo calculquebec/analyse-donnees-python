{
 "cells": [
  {
   "cell_type": "markdown",
   "metadata": {},
   "source": [
    "# Analyse et visualisation de données avec Python\n",
    "## Automatisation du traitement des données\n",
    "Questions\n",
    "* Comment automatiser le traitement des données dans Python?\n",
    "* Comment structurer le traitement avec des fonctions?\n",
    "\n",
    "Objectifs\n",
    "* Utiliser des boucles `for` pour automatiser l'analyse de données.\n",
    "* Générer des fichiers avec des noms uniques.\n",
    "* Construire du code réutilisable en Python.\n",
    "* Écrire des fonctions avec des conditions (`if`, `then`, `else`)."
   ]
  },
  {
   "cell_type": "markdown",
   "metadata": {},
   "source": [
    "## Charger nos données"
   ]
  },
  {
   "cell_type": "code",
   "execution_count": null,
   "metadata": {},
   "outputs": [],
   "source": [
    "# Charger le module pandas\n",
    "import pandas as pd\n",
    "\n",
    "# Charger les données\n",
    "surveys_df = pd.read_csv(\"../data/surveys.csv\")\n",
    "species_df = pd.read_csv(\"../data/species.csv\")"
   ]
  },
  {
   "cell_type": "markdown",
   "metadata": {},
   "source": [
    "## Automatiser l'analyse de données avec des boucles `for`"
   ]
  },
  {
   "cell_type": "code",
   "execution_count": null,
   "metadata": {},
   "outputs": [],
   "source": [
    "import os"
   ]
  },
  {
   "cell_type": "code",
   "execution_count": null,
   "metadata": {},
   "outputs": [],
   "source": [
    "dossier_annees = \"fichiers_par_annee\"\n",
    "os.mkdir(dossier_annees)"
   ]
  },
  {
   "cell_type": "code",
   "execution_count": null,
   "metadata": {
    "scrolled": true
   },
   "outputs": [],
   "source": [
    "os.listdir('.')"
   ]
  },
  {
   "cell_type": "code",
   "execution_count": null,
   "metadata": {},
   "outputs": [],
   "source": [
    "for annee in surveys_df['year'].unique():\n",
    "    # Créer un nom de fichier unique pour chaque année\n",
    "    nom_fichier = os.path.join(dossier_annees, \"surveys_\" + str(annee) + \".csv\")\n",
    "    print(nom_fichier)\n",
    "\n",
    "    # Sélectionner les données complètes de l'année en cours\n",
    "    surveys_annee = surveys_df[surveys_df['year'] == annee]\n",
    "    surveys_annee.to_csv(nom_fichier, index=False)\n",
    "\n",
    "os.listdir(dossier_annees)"
   ]
  },
  {
   "cell_type": "markdown",
   "metadata": {
    "collapsed": true
   },
   "source": [
    "### Exercice - Création de fichiers différents\n",
    "Au lieu de diviser les données par année, nous voudrions les diviser par nom complet d'espèce. Il faut donc au préalable joindre les deux dataframes."
   ]
  },
  {
   "cell_type": "code",
   "execution_count": null,
   "metadata": {},
   "outputs": [],
   "source": [
    "dossier_especes = \"fichiers_especes\"\n",
    "os.mkdir(dossier_especes)  # Créer le dossier"
   ]
  },
  {
   "cell_type": "code",
   "execution_count": null,
   "metadata": {},
   "outputs": [],
   "source": [
    "merged_left = pd.merge(left=surveys_df, right=species_df, how='left', on=\"species_id\")\n",
    "\n",
    "for espece in merged_left['species'].unique():\n",
    "    # Créer un nom de fichier unique pour chaque espèce\n",
    "    nom_fichier = os.path.join(dossier_especes, \"surveys_\" + str(espece) + \".csv\")\n",
    "    print(nom_fichier)\n",
    "\n",
    "    # Sélectionner les données complètes de l'espèce en cours\n",
    "    merged_left_espece = merged_left[merged_left['species'] == espece].dropna()\n",
    "    merged_left_espece.to_csv(nom_fichier, index=False)\n",
    "\n",
    "os.listdir(dossier_especes)"
   ]
  },
  {
   "cell_type": "markdown",
   "metadata": {},
   "source": [
    "## Développer du code modulaire et réutilisable avec des fonctions\n",
    "* On veut créer le dossier automatiquement, mais en testant sont existence avant.\n",
    "* Utiliser `None` par défaut pour `annee_debut` et `annee_fin`.\n",
    "* On veut que la 2e fonction retourne les fichiers créés."
   ]
  },
  {
   "cell_type": "code",
   "execution_count": null,
   "metadata": {},
   "outputs": [],
   "source": [
    "def ecrire_csv_une_annee(donnees, dossier_cible, prefixe, cette_annee):\n",
    "    \"\"\"\n",
    "    Écrire un fichier CSV avec les données d'une année. Retourne le nom de fichier.\n",
    "\n",
    "    donnees --- le DataFrame\n",
    "    dossier_cible --- dossier dans lequel sauvegarder le fichier\n",
    "    prefixe --- préfixe au nom de fichier CSV\n",
    "    cette_annee --- année à sélectionner\n",
    "    \"\"\"\n",
    "\n",
    "    # Créer un nom de fichier unique pour chaque année\n",
    "    nom_fichier = os.path.join(dossier_cible, prefixe + str(cette_annee) + \".csv\")\n",
    "\n",
    "    # Sélectionner les données complètes de l'année en cours\n",
    "    surveys_annee = donnees[donnees['year'] == cette_annee]\n",
    "    surveys_annee.to_csv(nom_fichier, index=False)\n",
    "\n",
    "    return nom_fichier"
   ]
  },
  {
   "cell_type": "code",
   "execution_count": null,
   "metadata": {},
   "outputs": [],
   "source": [
    "def ecrire_csv_annees(donnees, dossier_cible, prefixe,\n",
    "                      annee_debut = None, annee_fin = None):\n",
    "    \"\"\"\n",
    "    Écrire des fichiers CSV avec les données de plusieurs années.\n",
    "\n",
    "    donnees --- le DataFrame\n",
    "    dossier_cible --- dossier dans lequel sauvegarder le fichier\n",
    "    prefixe --- préfixe au nom de fichier CSV\n",
    "    annee_debut --- première année --- défaut: None - depuis le tout début\n",
    "    annee_fin --- dernière année --- défaut: None - jusqu'à la toute fin\n",
    "    \"\"\"\n",
    "\n",
    "    if dossier_cible in os.listdir('.'):\n",
    "        print('Le dossier \"{}\" existe'.format(dossier_cible))\n",
    "    else:\n",
    "        os.mkdir(dossier_cible)\n",
    "        print('Nouveau dossier: \"{}\"'.format(dossier_cible))\n",
    "\n",
    "    if not annee_debut:\n",
    "        annee_debut = min(donnees['year'])\n",
    "\n",
    "    if not annee_fin:\n",
    "        annee_fin = max(donnees['year'])\n",
    "\n",
    "    noms_de_fichier = []\n",
    "\n",
    "    # \"annee_fin\" est la dernière année à traiter, donc il faut annee_fin+1\n",
    "    for annee in range(annee_debut, annee_fin + 1):\n",
    "        nom_fichier = ecrire_csv_une_annee(donnees, dossier_cible, prefixe, annee)\n",
    "        noms_de_fichier.append(nom_fichier)\n",
    "\n",
    "    return noms_de_fichier"
   ]
  },
  {
   "cell_type": "code",
   "execution_count": null,
   "metadata": {},
   "outputs": [],
   "source": [
    "ecrire_csv_annees(surveys_df, \"final\", \"resultats_\", 1995, 1998)"
   ]
  },
  {
   "cell_type": "code",
   "execution_count": null,
   "metadata": {},
   "outputs": [],
   "source": [
    "os.listdir(\"final\")"
   ]
  },
  {
   "cell_type": "code",
   "execution_count": null,
   "metadata": {},
   "outputs": [],
   "source": [
    "ecrire_csv_annees(surveys_df, \"final\", \"resultats_\")"
   ]
  },
  {
   "cell_type": "code",
   "execution_count": null,
   "metadata": {},
   "outputs": [],
   "source": []
  }
 ],
 "metadata": {
  "anaconda-cloud": {},
  "kernelspec": {
   "display_name": "Python 3",
   "language": "python",
   "name": "python3"
  },
  "language_info": {
   "codemirror_mode": {
    "name": "ipython",
    "version": 3
   },
   "file_extension": ".py",
   "mimetype": "text/x-python",
   "name": "python",
   "nbconvert_exporter": "python",
   "pygments_lexer": "ipython3",
   "version": "3.7.4"
  }
 },
 "nbformat": 4,
 "nbformat_minor": 1
}
