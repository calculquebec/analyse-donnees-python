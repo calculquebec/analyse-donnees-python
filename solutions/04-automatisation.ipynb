{
 "cells": [
  {
   "cell_type": "markdown",
   "metadata": {},
   "source": [
    "# Analyse et visualisation de données avec Python\n",
    "## Automatisation du traitement des données\n",
    "Questions\n",
    "* Comment automatiser le traitement des données dans Python?\n",
    "* Comment structurer le traitement avec des fonctions?\n",
    "\n",
    "Objectifs\n",
    "* Utiliser des boucles `for` pour automatiser l'analyse de données.\n",
    "* Générer des fichiers avec des noms uniques.\n",
    "* Construire du code réutilisable en Python.\n",
    "* Écrire des fonctions avec des conditions (`if`, `then`, `else`)."
   ]
  },
  {
   "cell_type": "markdown",
   "metadata": {},
   "source": [
    "## Charger nos données"
   ]
  },
  {
   "cell_type": "code",
   "execution_count": null,
   "metadata": {},
   "outputs": [],
   "source": [
    "# Charger le module pandas\n",
    "import pandas as pd\n",
    "\n",
    "# Charger les données\n",
    "surveys_df = pd.read_csv(\"../data/surveys.csv\")\n",
    "species_df = pd.read_csv(\"../data/species.csv\")"
   ]
  },
  {
   "cell_type": "markdown",
   "metadata": {},
   "source": [
    "## Automatiser l'analyse de données avec des boucles `for`"
   ]
  },
  {
   "cell_type": "code",
   "execution_count": null,
   "metadata": {},
   "outputs": [],
   "source": [
    "import os"
   ]
  },
  {
   "cell_type": "code",
   "execution_count": null,
   "metadata": {},
   "outputs": [],
   "source": [
    "dossier_annees = \"fichiers_par_annee\"\n",
    "os.mkdir(dossier_annees)"
   ]
  },
  {
   "cell_type": "code",
   "execution_count": null,
   "metadata": {},
   "outputs": [],
   "source": [
    "os.listdir('.')"
   ]
  },
  {
   "cell_type": "code",
   "execution_count": null,
   "metadata": {},
   "outputs": [],
   "source": [
    "for annee in surveys_df['year'].unique():\n",
    "    # Créer un nom de fichier unique pour chaque année\n",
    "    nom_fichier = os.path.join(dossier_annees, f\"surveys_{annee}.csv\")\n",
    "    print(nom_fichier)\n",
    "\n",
    "    # Sauvegarder les données complètes de l'année en cours\n",
    "    surveys_annee = surveys_df[surveys_df['year'] == annee].dropna()\n",
    "    surveys_annee.to_csv(nom_fichier, index=False)\n",
    "\n",
    "os.listdir(dossier_annees)"
   ]
  },
  {
   "cell_type": "markdown",
   "metadata": {},
   "source": [
    "### Exercice - Création de fichiers différents\n",
    "Au lieu de diviser les données par année, nous voudrions les diviser\n",
    "par nom complet d'espèce.\n",
    "Il faut donc au préalable joindre les deux dataframes :\n",
    "* On veut le détail des espèces à droite dans le DataFrame final\n",
    "* La jonction doit garder toutes les entrées de `surveys_df`; les\n",
    "  espèces inconnues auront donc un nom `NaN`"
   ]
  },
  {
   "cell_type": "code",
   "execution_count": null,
   "metadata": {},
   "outputs": [],
   "source": [
    "dossier_especes = \"fichiers_especes\"\n",
    "os.mkdir(dossier_especes)  # Créer le dossier"
   ]
  },
  {
   "cell_type": "code",
   "execution_count": null,
   "metadata": {},
   "outputs": [],
   "source": [
    "jonc_gauche = pd.merge(left=surveys_df, right=species_df,\n",
    "                       how='left', on='species_id')\n",
    "jonc_gauche"
   ]
  },
  {
   "cell_type": "code",
   "execution_count": null,
   "metadata": {},
   "outputs": [],
   "source": [
    "for espece in jonc_gauche['species'].unique():\n",
    "    # Créer un nom de fichier unique pour chaque espèce\n",
    "    nom_fichier = os.path.join(dossier_especes, f\"surveys_{espece}.csv\")\n",
    "    print(nom_fichier)\n",
    "\n",
    "    # Sélectionner les données de l'espèce en cours\n",
    "    jonc_gauche_espece = jonc_gauche[jonc_gauche['species'] == espece]\n",
    "    jonc_gauche_espece.to_csv(nom_fichier, index=False)"
   ]
  },
  {
   "cell_type": "markdown",
   "metadata": {},
   "source": [
    "## Développer du code modulaire et réutilisable avec des fonctions\n",
    "Dans cet exemple, on doit tout d'abord créer une fonction qui servira\n",
    "à sauvegarder les données d'une seule année. En argument, il faudra\n",
    "spécifier :\n",
    "* Le nom d'un dossier existant\n",
    "* Le préfixe du nom de fichier CSV\n",
    "* L'année à sélectionner"
   ]
  },
  {
   "cell_type": "code",
   "execution_count": null,
   "metadata": {},
   "outputs": [],
   "source": [
    "def sauvegarder_annee(donnees, dossier_cible, prefixe, cette_annee):\n",
    "    \"\"\"\n",
    "    Écrire un fichier CSV avec les données d'une seule année.\n",
    "\n",
    "    donnees --- le DataFrame avec une colonne 'year'\n",
    "    dossier_cible --- dossier dans lequel sauvegarder le fichier\n",
    "    prefixe --- préfixe au nom de fichier CSV\n",
    "    cette_annee --- année à sélectionner\n",
    "    \"\"\"\n",
    "\n",
    "    # Créer un nom de fichier unique pour chaque année\n",
    "    nom_fichier = os.path.join(dossier_cible, f\"{prefixe}{cette_annee}.csv\")\n",
    "\n",
    "    # Sauvegarder les données complètes de l'année en cours\n",
    "    surveys_annee = donnees[donnees['year'] == cette_annee].dropna()\n",
    "    surveys_annee.to_csv(nom_fichier, index=False)"
   ]
  },
  {
   "cell_type": "code",
   "execution_count": null,
   "metadata": {},
   "outputs": [],
   "source": [
    "os.mkdir(\"test\")"
   ]
  },
  {
   "cell_type": "code",
   "execution_count": null,
   "metadata": {},
   "outputs": [],
   "source": [
    "sauvegarder_annee(surveys_df, \"test\", \"préfixe_\", 1999)"
   ]
  },
  {
   "cell_type": "markdown",
   "metadata": {},
   "source": [
    "On souhaite ensuite créer une fonction principale qui utilise la\n",
    "fonction précédente et qui gère les arguments en entrée :\n",
    "* Créer le dossier automatiquement, mais en testant son existence avant\n",
    "* Les arguments `annee_debut` et `annee_fin` ont `None` par défaut\n",
    "  * Trouver la première année si `annee_debut` est `None`\n",
    "  * Trouver la dernière année si `annee_fin` est `None`\n",
    "* Boucler sur toutes les années de l'intervalle validé"
   ]
  },
  {
   "cell_type": "code",
   "execution_count": null,
   "metadata": {},
   "outputs": [],
   "source": [
    "def les_annees_en_csv(donnees, dossier_cible, prefixe,\n",
    "                      annee_debut = None, annee_fin = None):\n",
    "    \"\"\"\n",
    "    Écrire des fichiers CSV avec les données de plusieurs années.\n",
    "\n",
    "    donnees --- le DataFrame\n",
    "    dossier_cible --- dossier dans lequel sauvegarder le fichier\n",
    "    prefixe --- préfixe au nom de fichier CSV\n",
    "    annee_debut --- première année --- défaut: None - depuis le tout début\n",
    "    annee_fin --- dernière année --- défaut: None - jusqu'à la toute fin\n",
    "    \"\"\"\n",
    "\n",
    "    if dossier_cible in os.listdir('.'):\n",
    "        print(f'Le dossier \"{dossier_cible}\" existe')\n",
    "    else:\n",
    "        os.mkdir(dossier_cible)\n",
    "        print(f'Nouveau dossier: \"{dossier_cible}\"')\n",
    "\n",
    "    if not annee_debut:\n",
    "        annee_debut = donnees['year'].min()\n",
    "\n",
    "    if not annee_fin:\n",
    "        annee_fin = donnees['year'].max()\n",
    "\n",
    "    # \"annee_fin\" est la dernière année à traiter, donc il faut annee_fin + 1\n",
    "    for annee in range(annee_debut, annee_fin + 1):\n",
    "        sauvegarder_annee(donnees, dossier_cible, prefixe, annee)"
   ]
  },
  {
   "cell_type": "code",
   "execution_count": null,
   "metadata": {},
   "outputs": [],
   "source": [
    "les_annees_en_csv(surveys_df, \"final\", \"resultats_\", 1995, 1998)"
   ]
  },
  {
   "cell_type": "code",
   "execution_count": null,
   "metadata": {},
   "outputs": [],
   "source": [
    "os.listdir(\"final\")"
   ]
  },
  {
   "cell_type": "code",
   "execution_count": null,
   "metadata": {},
   "outputs": [],
   "source": [
    "les_annees_en_csv(surveys_df, \"final\", \"resultats_\")"
   ]
  },
  {
   "cell_type": "markdown",
   "metadata": {},
   "source": [
    "## Résumé technique\n",
    "* **Utilisation d'une boucle** pour traiter plusieurs fichiers\n",
    "* **Définir des fonctions** permet d'alléger le code dans une boucle\n",
    "* **Utilisation de conditions** pour :\n",
    "  * tester les paramètres d'une fonction;\n",
    "  * prendre des décisions selon différents critères."
   ]
  },
  {
   "cell_type": "code",
   "execution_count": null,
   "metadata": {},
   "outputs": [],
   "source": []
  }
 ],
 "metadata": {
  "anaconda-cloud": {},
  "kernelspec": {
   "display_name": "Python 3 (ipykernel)",
   "language": "python",
   "name": "python3"
  },
  "language_info": {
   "codemirror_mode": {
    "name": "ipython",
    "version": 3
   },
   "file_extension": ".py",
   "mimetype": "text/x-python",
   "name": "python",
   "nbconvert_exporter": "python",
   "pygments_lexer": "ipython3",
   "version": "3.11.7"
  }
 },
 "nbformat": 4,
 "nbformat_minor": 4
}
