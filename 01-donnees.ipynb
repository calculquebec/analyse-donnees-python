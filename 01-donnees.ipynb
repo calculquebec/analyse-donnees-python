{
 "cells": [
  {
   "cell_type": "markdown",
   "metadata": {},
   "source": [
    "# Analyse et visualisation de données avec Python\n",
    "## Démarrer avec des données\n",
    "\n",
    "Questions\n",
    "* Comment importer des données dans Python?\n",
    "* Qu'est-ce que Pandas?\n",
    "* Pourquoi utiliser Pandas pour traiter des données tabulaires?\n",
    "\n",
    "Objectifs\n",
    "* Charger une bibliothèque d'analyse de données Python (Pandas).\n",
    "* Utiliser `read_csv` pour lire des données tabulaires dans Python.\n",
    "* Décrire ce qu'est un DataFrame et une série.\n",
    "* Accéder et résumer les données d'un DataFrames.\n",
    "* Effectuer des opérations mathématiques et statistiques avec un DataFrame.\n",
    "* Effectuer une première visualisation des données."
   ]
  },
  {
   "cell_type": "markdown",
   "metadata": {},
   "source": [
    "## Utiliser les DataFrames Pandas dans Python"
   ]
  },
  {
   "cell_type": "markdown",
   "metadata": {},
   "source": [
    "### Pandas dans Python\n",
    "L'une des meilleures options pour traiter des données tabulaires dans Python est d'utiliser la bibliothèque d'analyse de données Python, c'est-à-dire *Pandas*. La bibliothèque Pandas fournit des structures de données, produit des graphiques de haute qualité avec *Matplotlib* et s'intègre bien avec d'autres bibliothèques utilisant des tableaux *NumPy* (qui est une autre bibliothèque Python)."
   ]
  },
  {
   "cell_type": "code",
   "execution_count": null,
   "metadata": {},
   "outputs": [],
   "source": [
    "# Importer la bibliothèque \"pandas\"\n",
    "import pandas as pd"
   ]
  },
  {
   "cell_type": "markdown",
   "metadata": {},
   "source": [
    "## Charger un fichier CSV avec Pandas\n",
    "### Qu'est-ce qu'un DataFrame?"
   ]
  },
  {
   "cell_type": "code",
   "execution_count": null,
   "metadata": {},
   "outputs": [],
   "source": [
    "# Chargement des données du fichier \"data/surveys.csv\"\n",
    "pd.read_csv('data/surveys.csv')"
   ]
  },
  {
   "cell_type": "code",
   "execution_count": null,
   "metadata": {},
   "outputs": [],
   "source": [
    "# Afficher les quelques premiers enregistrements\n",
    "surveys_df.head()"
   ]
  },
  {
   "cell_type": "code",
   "execution_count": null,
   "metadata": {},
   "outputs": [],
   "source": [
    "# Obtenir les dimensions du DataFrame\n",
    "surveys_df.shape"
   ]
  },
  {
   "cell_type": "code",
   "execution_count": null,
   "metadata": {},
   "outputs": [],
   "source": [
    "# Obtenir la liste des noms de colonnes\n",
    "surveys_df.columns"
   ]
  },
  {
   "cell_type": "code",
   "execution_count": null,
   "metadata": {},
   "outputs": [],
   "source": [
    "# Une colonne est un objet de type Series\n",
    "surveys_df['weight'].describe()"
   ]
  },
  {
   "cell_type": "code",
   "execution_count": null,
   "metadata": {},
   "outputs": [],
   "source": [
    "# Calculer des statistiques descriptives par colonne\n",
    "print(\"Valeurs non nulles:  \", surveys_df['weight'].count())\n",
    "print(\"Moyenne des valeurs: \", surveys_df['weight'].mean())\n",
    "print(\"Deviation standard:  \", surveys_df['weight'].std())\n",
    "print(\"Valeur minimale:     \", surveys_df['weight'].min())\n",
    "print(\"Valeur maximale:     \", surveys_df['weight'].max())"
   ]
  },
  {
   "cell_type": "code",
   "execution_count": null,
   "metadata": {},
   "outputs": [],
   "source": [
    "# Créer une nouvelle colonne\n",
    "surveys_df['poids_kg'] = surveys_df['weight'] / 1000\n",
    "\n",
    "# Afficher les dernières lignes\n",
    "surveys_df.tail()"
   ]
  },
  {
   "cell_type": "markdown",
   "metadata": {},
   "source": [
    "### Exercice - DataFrame et Series\n",
    "\n",
    "1. Chargez la table des espèces animales du fichier\n",
    "   `data/species.csv` et assignez le résultat à `especes_df`."
   ]
  },
  {
   "cell_type": "code",
   "execution_count": null,
   "metadata": {},
   "outputs": [],
   "source": []
  },
  {
   "cell_type": "markdown",
   "metadata": {},
   "source": [
    "2. Utilisez la méthode `.unique()` pour obtenir\n",
    "   la liste des différents taxons (colonne `taxa`)."
   ]
  },
  {
   "cell_type": "code",
   "execution_count": null,
   "metadata": {},
   "outputs": [],
   "source": [
    "especes_df"
   ]
  },
  {
   "cell_type": "markdown",
   "metadata": {},
   "source": [
    "3. Utilisez la méthode `.nunique()` pour obtenir\n",
    "   le nombre de différents taxons.\n",
    "   Note : `nan` ne sera pas compté."
   ]
  },
  {
   "cell_type": "code",
   "execution_count": null,
   "metadata": {},
   "outputs": [],
   "source": [
    "especes_df"
   ]
  },
  {
   "cell_type": "markdown",
   "metadata": {},
   "source": [
    "## Grouper des données"
   ]
  },
  {
   "cell_type": "code",
   "execution_count": null,
   "metadata": {},
   "outputs": [],
   "source": [
    "# Grouper les données par sexe\n",
    "surveys_df.groupby('sex')"
   ]
  },
  {
   "cell_type": "code",
   "execution_count": null,
   "metadata": {},
   "outputs": [],
   "source": [
    "# Obtenir des statistiques pour toutes les variables numériques\n",
    "par_sex.describe()"
   ]
  },
  {
   "cell_type": "code",
   "execution_count": null,
   "metadata": {},
   "outputs": [],
   "source": [
    "# Obtenir uniquement la moyenne de chaque colonne\n",
    "par_sex.mean(numeric_only=True)"
   ]
  },
  {
   "cell_type": "code",
   "execution_count": null,
   "metadata": {},
   "outputs": [],
   "source": [
    "# Obtenir la taille de population de l'espèce 'AB'\n",
    "par_espece = surveys_df.groupby('species_id')\n",
    "par_espece['record_id'].count()['AB']"
   ]
  },
  {
   "cell_type": "markdown",
   "metadata": {},
   "source": [
    "### Exercice - Grouper des données\n",
    "`1`. Combien de femelles `F` et combien de mâles `M`?\n",
    "Indice : c'est possible de sélectionner une\n",
    "seule colonne après avoir groupé les données."
   ]
  },
  {
   "cell_type": "code",
   "execution_count": null,
   "metadata": {},
   "outputs": [],
   "source": [
    "par_sex"
   ]
  },
  {
   "cell_type": "markdown",
   "metadata": {},
   "source": [
    "`2`. Qu'arrive-t-il si on groupe par deux colonnes et si on recalcule les moyennes?"
   ]
  },
  {
   "cell_type": "code",
   "execution_count": null,
   "metadata": {},
   "outputs": [],
   "source": [
    "par_site_sex = surveys_df.groupby(['plot_id', 'sex'])\n",
    "par_site_sex"
   ]
  },
  {
   "cell_type": "markdown",
   "metadata": {},
   "source": [
    "`3`. Faites calculer un sommaire des statistiques descriptives\n",
    "des poids (`weight`) pour chaque site (`plot_id`)."
   ]
  },
  {
   "cell_type": "code",
   "execution_count": null,
   "metadata": {},
   "outputs": [],
   "source": [
    "par_site = surveys_df\n",
    "par_site"
   ]
  },
  {
   "cell_type": "markdown",
   "metadata": {},
   "source": [
    "## Créer des graphiques à partir de Pandas"
   ]
  },
  {
   "cell_type": "code",
   "execution_count": null,
   "metadata": {},
   "outputs": [],
   "source": [
    "par_site = surveys_df.groupby(['plot_id'])\n",
    "par_site['record_id'].count().plot(kind='bar')"
   ]
  },
  {
   "cell_type": "markdown",
   "metadata": {},
   "source": [
    "### Exercice - Créer un graphique\n",
    "Créez un graphique de type `line` montrant la médiane des poids`weight` pour chaque mois."
   ]
  },
  {
   "cell_type": "code",
   "execution_count": null,
   "metadata": {},
   "outputs": [],
   "source": [
    "par_mois = surveys_df\n",
    "medianes = par_mois\n",
    "medianes"
   ]
  },
  {
   "cell_type": "markdown",
   "metadata": {},
   "source": [
    "## Exemple résumé"
   ]
  },
  {
   "cell_type": "code",
   "execution_count": null,
   "metadata": {},
   "outputs": [],
   "source": [
    "par_site_sex = surveys_df.groupby(['plot_id', 'sex'])\n",
    "site_sex_poidsTotal = par_site_sex['weight'].sum()\n",
    "site_sex_poidsTotal.head(15)"
   ]
  },
  {
   "cell_type": "code",
   "execution_count": null,
   "metadata": {},
   "outputs": [],
   "source": [
    "# Convertir les valeurs de la catégorie la plus à droite en colonnes\n",
    "sspt = site_sex_poidsTotal.unstack()\n",
    "sspt"
   ]
  },
  {
   "cell_type": "code",
   "execution_count": null,
   "metadata": {},
   "outputs": [],
   "source": [
    "# Empiler les barres, ajouter le titre et le nom des axes\n",
    "s_plot = sspt.plot(kind='bar', stacked=True,\n",
    "                   title=\"Poids total par site et sex\")\n",
    "s_plot.set_xlabel(\"Site\")\n",
    "s_plot.set_ylabel(\"Poids (g)\")"
   ]
  },
  {
   "cell_type": "markdown",
   "metadata": {},
   "source": [
    "## Résumé technique\n",
    "* **Importer le module Pandas** : `import pandas as pd`\n",
    "* **Chargement des données** : `pd.read_csv()`\n",
    "  * Argument obligatoire : le **nom du fichier**\n",
    "  * `index_col` : pour spécifier la colonne qui sera l'index\n",
    "* Pour un **DataFrame** :\n",
    "  * **Attributs** : `shape`, `index`, `columns`\n",
    "  * **Méthodes** : `head()`, `tail()`, `describe()`\n",
    "* Pour une **colonne** :\n",
    "  * **Sélection** : `df['nom_colonne']`\n",
    "  * **Méthodes** :\n",
    "    * Statistiques descriptives :\n",
    "      `count()`, `mean()`, `median()`, `min()`, `max()`\n",
    "    * Autres : `describe()`, `nunique()`, `unique()`\n",
    "* **Grouper selon les valeurs** d'une ou plusieurs colonnes :\n",
    "  * `groupby(nom_col)`\n",
    "  * `groupby([nom_col1, nom_col2])`\n",
    "* **Réinitialiser l'index** : `reset_index()`\n",
    "  * Si `drop=True`, l'index actuel n'est pas converti en colonne(s)\n",
    "* **Transformer le DataFrame** : `unstack()`\n",
    "* **Créer un graphique à partir d'un DataFrame** :\n",
    "  * `df.plot()`, où `df` contient une ou plusieurs colonnes\n",
    "    * `kind='bar'` (défaut: linéaire)\n",
    "    * `stacked=True`\n",
    "    * `title=\"\"`\n",
    "  * `objet_plot.set_xlabel(\"\")`\n",
    "  * `objet_plot.set_ylabel(\"\")`"
   ]
  },
  {
   "cell_type": "code",
   "execution_count": null,
   "metadata": {},
   "outputs": [],
   "source": []
  }
 ],
 "metadata": {
  "anaconda-cloud": {},
  "kernelspec": {
   "display_name": "Python 3 (ipykernel)",
   "language": "python",
   "name": "python3"
  },
  "language_info": {
   "codemirror_mode": {
    "name": "ipython",
    "version": 3
   },
   "file_extension": ".py",
   "mimetype": "text/x-python",
   "name": "python",
   "nbconvert_exporter": "python",
   "pygments_lexer": "ipython3",
   "version": "3.11.7"
  }
 },
 "nbformat": 4,
 "nbformat_minor": 4
}
