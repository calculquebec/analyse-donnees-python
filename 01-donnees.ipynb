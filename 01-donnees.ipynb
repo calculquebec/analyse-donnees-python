{
 "cells": [
  {
   "cell_type": "markdown",
   "metadata": {},
   "source": [
    "# Analyse et visualisation de données avec Python\n",
    "## Démarrer avec des données\n",
    "\n",
    "Questions\n",
    "* Comment importer des données dans Python?\n",
    "* Qu'est-ce que Pandas?\n",
    "* Pourquoi utiliser Pandas pour traiter des données tabulaires?\n",
    "\n",
    "Objectifs\n",
    "* Charger une bibliothèque d'analyse de données Python (Pandas).\n",
    "* Utiliser `read_csv` pour lire des données tabulaires dans Python.\n",
    "* Décrire ce qu'est un DataFrame dans Python.\n",
    "* Accéder et résumer les données d'un DataFrames.\n",
    "* Effectuer des opérations mathématiques et statistiques avec un DataFrame.\n",
    "* Effectuer une première visualisation des données."
   ]
  },
  {
   "cell_type": "markdown",
   "metadata": {},
   "source": [
    "## Utiliser les DataFrames Pandas dans Python\n",
    "### Nos données\n",
    "Pour le présent atelier, nous utiliserons un sous-ensemble des données du *Portal Teaching* :\n",
    "* Ernst *et al*, Long-term monitoring and experimental manipulation of a Chihuahuan Desert ecosystem near Portal, Arizona, USA, http://www.esapubs.org/archive/ecol/E090/118/default.htm\n",
    "* Les données du *Portal Project Teaching Database* :\n",
    "https://figshare.com/articles/Portal_Project_Teaching_Database/1314459\n",
    "* Entre autres, le fichier **`../data/surveys.csv`** est une version simplifiée du fichier : https://ndownloader.figshare.com/files/2292172\n",
    "\n",
    "Avec ce fichier de données, nous allons étudier les caractéristiques de différentes espèces animales vues dans différents sites de la zone de recherche. Chaque enregistrement dans ce fichier CSV contient l'information d'un seul animal observé. Voici les différentes informations recueillies qui correspondent aux colonnes d'une table de données :\n",
    "\n",
    " Column           | Description\n",
    "----------------- | -----------\n",
    "`record_id`       | Identifiant unique de l'enregistrement\n",
    "`month`           | Mois de l'enregistrement\n",
    "`day`             | Jour de l'enregistrement\n",
    "`year`            | Année de l'enregistrement\n",
    "`plot_id`         | Identifiant du site\n",
    "`species_id`      | Identifiant de l'espèce, encodé avec deux lettres\n",
    "`sex`             | Sexe de l'animal (\"F\", \"M\")\n",
    "`hindfoot_length` | Longueur de l'arrière-pied (mm)\n",
    "`weight`          | Poids de l'animal (g)\n",
    "\n",
    "Les premières lignes du fichier CSV ressemblent donc à ceci :\n",
    "```\n",
    "record_id,month,day,year,plot_id,species_id,sex,hindfoot_length,weight\n",
    "1,7,16,1977,2,NL,M,32,\n",
    "2,7,16,1977,3,NL,M,33,\n",
    "3,7,16,1977,2,DM,F,37,\n",
    "4,7,16,1977,7,DM,M,36,\n",
    "5,7,16,1977,3,DM,M,35,\n",
    "6,7,16,1977,1,PF,M,14,\n",
    "7,7,16,1977,2,PE,F,,\n",
    "8,7,16,1977,1,DM,M,37,\n",
    "9,7,16,1977,1,DM,F,34,\n",
    "```"
   ]
  },
  {
   "cell_type": "markdown",
   "metadata": {},
   "source": [
    "### Pandas dans Python\n",
    "L'une des meilleures options pour traiter des données tabulaires dans Python est d'utiliser la bibliothèque d'analyse de données Python, c'est-à-dire *Pandas*. La bibliothèque Pandas fournit des structures de données, produit des graphiques de haute qualité avec *Matplotlib* et s'intègre bien avec d'autres bibliothèques utilisant des tableaux *NumPy* (qui est une autre bibliothèque Python)."
   ]
  },
  {
   "cell_type": "code",
   "execution_count": null,
   "metadata": {},
   "outputs": [],
   "source": [
    "import ### as ###"
   ]
  },
  {
   "cell_type": "markdown",
   "metadata": {},
   "source": [
    "## Charger un fichier CSV avec Pandas\n",
    "### Qu'est-ce qu'un DataFrame?"
   ]
  },
  {
   "cell_type": "code",
   "execution_count": null,
   "metadata": {},
   "outputs": [],
   "source": [
    "# On utilise ici l'alias \"pd\" pour accéder aux ressources de Pandas\n",
    "###(\"###/###/surveys.csv\")"
   ]
  },
  {
   "cell_type": "code",
   "execution_count": null,
   "metadata": {},
   "outputs": [],
   "source": [
    "### = pd.read_csv(\"../data/surveys.csv\")"
   ]
  },
  {
   "cell_type": "code",
   "execution_count": null,
   "metadata": {},
   "outputs": [],
   "source": [
    "surveys_df###  # Affiche les quelques premiers enregistrements"
   ]
  },
  {
   "cell_type": "code",
   "execution_count": null,
   "metadata": {},
   "outputs": [],
   "source": [
    "surveys_df.###\n",
    "# Dans quel format est retourné la taille du DataFrame?"
   ]
  },
  {
   "cell_type": "code",
   "execution_count": null,
   "metadata": {},
   "outputs": [],
   "source": [
    "surveys_df.###"
   ]
  },
  {
   "cell_type": "code",
   "execution_count": null,
   "metadata": {},
   "outputs": [],
   "source": [
    "# Calculer des statistiques descriptives par colonne\n",
    "print(\"Valeurs non nulles:  \", surveys_df['weight'].###())\n",
    "print(\"Moyenne des valeurs: \", surveys_df['weight'].###())\n",
    "print(\"Deviation standard:  \", surveys_df['weight'].###())\n",
    "print(\"Valeur minimale:     \", surveys_df['weight'].###())\n",
    "print(\"Valeur maximale:     \", surveys_df['weight'].###())"
   ]
  },
  {
   "cell_type": "code",
   "execution_count": null,
   "metadata": {},
   "outputs": [],
   "source": [
    "# Créer une nouvelle colonne\n",
    "surveys_df[###] = surveys_df[###] ###\n",
    "surveys_df.###"
   ]
  },
  {
   "cell_type": "markdown",
   "metadata": {},
   "source": [
    "## Types de données\n",
    "### Vérifier le type de données pour chaque colonne"
   ]
  },
  {
   "cell_type": "code",
   "execution_count": null,
   "metadata": {},
   "outputs": [],
   "source": [
    "surveys_df###"
   ]
  },
  {
   "cell_type": "code",
   "execution_count": null,
   "metadata": {},
   "outputs": [],
   "source": [
    "surveys_df['month']###"
   ]
  },
  {
   "cell_type": "markdown",
   "metadata": {},
   "source": [
    "Types Python | Types Pandas | Description\n",
    ":-----------:|:------------:|:-----------\n",
    "`str`        | `object`    | Le type le plus générique, utilisé si une colonne a un mélange de types\n",
    "`int`        | `int64`     | Entiers de 64 bits\n",
    "`float`      | `float64`   | Valeurs numériques avec décimales, ou avec des NaN\n",
    " N/A         | `datetime64`| Valeurs de temps ou de dates"
   ]
  },
  {
   "cell_type": "markdown",
   "metadata": {},
   "source": [
    "### Impacts sur les statistiques descriptives"
   ]
  },
  {
   "cell_type": "code",
   "execution_count": null,
   "metadata": {},
   "outputs": [],
   "source": [
    "# Sommaire des statistiques descriptives\n",
    "surveys_df###"
   ]
  },
  {
   "cell_type": "code",
   "execution_count": null,
   "metadata": {},
   "outputs": [],
   "source": [
    "surveys_df['month'] = surveys_df['month'].###('###')\n",
    "surveys_df['month'].###"
   ]
  },
  {
   "cell_type": "code",
   "execution_count": null,
   "metadata": {},
   "outputs": [],
   "source": [
    "surveys_df['month'].###"
   ]
  },
  {
   "cell_type": "code",
   "execution_count": null,
   "metadata": {},
   "outputs": [],
   "source": [
    "surveys_df['month'].###"
   ]
  },
  {
   "cell_type": "code",
   "execution_count": null,
   "metadata": {},
   "outputs": [],
   "source": [
    "surveys_df[###].unique()"
   ]
  },
  {
   "cell_type": "markdown",
   "metadata": {},
   "source": [
    "### Exercices - Types et statistiques descriptives"
   ]
  },
  {
   "cell_type": "markdown",
   "metadata": {},
   "source": [
    "`1`. Convertir `weight` en entiers `int64` produira une erreur. Pourquoi?"
   ]
  },
  {
   "cell_type": "code",
   "execution_count": null,
   "metadata": {},
   "outputs": [],
   "source": [
    "surveys_df['weight'].###('int64')"
   ]
  },
  {
   "cell_type": "markdown",
   "metadata": {},
   "source": [
    "`2`. Essayez de convertir la colonne `plot_id` au type Python `float`."
   ]
  },
  {
   "cell_type": "code",
   "execution_count": null,
   "metadata": {},
   "outputs": [],
   "source": [
    "surveys_df['plot_id'] ### surveys_df['###'].###(\"###\")\n",
    "surveys_df['plot_id'].dtype"
   ]
  },
  {
   "cell_type": "markdown",
   "metadata": {},
   "source": [
    "`3`. Créer une liste des différents identifiants de site (`plot_id`) que l'on peut trouver dans `surveys_df`. Sauvegarder le résultat dans `numeros_site`. Combien y a-t-il de sites différents dans les données?"
   ]
  },
  {
   "cell_type": "code",
   "execution_count": null,
   "metadata": {},
   "outputs": [],
   "source": [
    "numeros_site = surveys_df[###]###\n",
    "numeros_site.###"
   ]
  },
  {
   "cell_type": "markdown",
   "metadata": {},
   "source": [
    "`4`. Quelle est la différence entre `len(numeros_site)` et `surveys_df['plot_id'].nunique()`?"
   ]
  },
  {
   "cell_type": "code",
   "execution_count": null,
   "metadata": {},
   "outputs": [],
   "source": [
    "# print(len(numeros_site))\n",
    "# print(surveys_df['plot_id'].nunique())"
   ]
  },
  {
   "cell_type": "markdown",
   "metadata": {},
   "source": [
    "## Grouper des données"
   ]
  },
  {
   "cell_type": "code",
   "execution_count": null,
   "metadata": {},
   "outputs": [],
   "source": [
    "# Grouper les données par sexe\n",
    "### = surveys_df.###('###')"
   ]
  },
  {
   "cell_type": "code",
   "execution_count": null,
   "metadata": {},
   "outputs": [],
   "source": [
    "# Obtenir des statistiques pour toutes les variables numériques\n",
    "par_sex.###"
   ]
  },
  {
   "cell_type": "code",
   "execution_count": null,
   "metadata": {},
   "outputs": [],
   "source": [
    "# Obtenir uniquement la moyenne de chaque colonne\n",
    "par_sex.###"
   ]
  },
  {
   "cell_type": "markdown",
   "metadata": {},
   "source": [
    "### Exercice - Grouper des données\n",
    "`1`. Combien d'individus de sexe féminin `F`, et combien d'individus de sexe masculin `M`?"
   ]
  },
  {
   "cell_type": "code",
   "execution_count": null,
   "metadata": {},
   "outputs": [],
   "source": [
    "par_sex###"
   ]
  },
  {
   "cell_type": "markdown",
   "metadata": {},
   "source": [
    "`2`. Qu'arrive-t-il si on groupe par deux colonnes et si on recalcule les moyennes?"
   ]
  },
  {
   "cell_type": "code",
   "execution_count": null,
   "metadata": {},
   "outputs": [],
   "source": [
    "par_site_sex = surveys_df.groupby(['plot_id','sex'])\n",
    "par_site_sex.###()"
   ]
  },
  {
   "cell_type": "markdown",
   "metadata": {},
   "source": [
    "`3`. Faites calculer un sommaire des statistiques descriptives des poids (`weight`) pour chaque site (`plot_id`). Indice : c'est possible de sélectionner une seule colonne après avoir groupé les données."
   ]
  },
  {
   "cell_type": "code",
   "execution_count": null,
   "metadata": {},
   "outputs": [],
   "source": [
    "par_site = surveys_df.###(['###'])\n",
    "par_site['###'].###"
   ]
  },
  {
   "cell_type": "markdown",
   "metadata": {},
   "source": [
    "### Obtenir la taille de population d'une seule espèce"
   ]
  },
  {
   "cell_type": "code",
   "execution_count": null,
   "metadata": {},
   "outputs": [],
   "source": [
    "surveys_df['species_id'].###"
   ]
  },
  {
   "cell_type": "code",
   "execution_count": null,
   "metadata": {},
   "outputs": [],
   "source": [
    "surveys_df.###('species_id')['record_id']#.count()###"
   ]
  },
  {
   "cell_type": "markdown",
   "metadata": {},
   "source": [
    "## Créer des graphiques à partir de Pandas"
   ]
  },
  {
   "cell_type": "code",
   "execution_count": null,
   "metadata": {},
   "outputs": [],
   "source": [
    "par_site['record_id'].###().###(kind='bar')"
   ]
  },
  {
   "cell_type": "markdown",
   "metadata": {},
   "source": [
    "### Exercice - Créer un graphique\n",
    "Créer un graphique de type `line` montrant la médiane de `weight` par mois."
   ]
  },
  {
   "cell_type": "code",
   "execution_count": null,
   "metadata": {},
   "outputs": [],
   "source": [
    "# Pourquoi la ligne suivante sera nécessaire?\n",
    "# surveys_df['month'] = surveys_df['month'].astype('int64')\n",
    "surveys_df.###('###')['###'].###().plot(kind='###')"
   ]
  },
  {
   "cell_type": "markdown",
   "metadata": {},
   "source": [
    "## Exemple résumé"
   ]
  },
  {
   "cell_type": "code",
   "execution_count": null,
   "metadata": {},
   "outputs": [],
   "source": [
    "site_sex_poidsTotal = par_site_sex['weight'].###()\n",
    "site_sex_poidsTotal###"
   ]
  },
  {
   "cell_type": "code",
   "execution_count": null,
   "metadata": {},
   "outputs": [],
   "source": [
    "# Convertir les valeurs de la catégorie la plus à droite en colonnes\n",
    "sspt = site_sex_poidsTotal.unstack()\n",
    "sspt"
   ]
  },
  {
   "cell_type": "code",
   "execution_count": null,
   "metadata": {},
   "outputs": [],
   "source": [
    "s_plot = sspt.plot(kind='bar', ###,\n",
    "                   title=\"Poids total par site et sex\")\n",
    "s_plot.set_xlabel(\"Site\")\n",
    "s_plot.set_ylabel(\"Poids (g)\")"
   ]
  },
  {
   "cell_type": "code",
   "execution_count": null,
   "metadata": {},
   "outputs": [],
   "source": []
  }
 ],
 "metadata": {
  "anaconda-cloud": {},
  "kernelspec": {
   "display_name": "Python 3",
   "language": "python",
   "name": "python3"
  },
  "language_info": {
   "codemirror_mode": {
    "name": "ipython",
    "version": 3
   },
   "file_extension": ".py",
   "mimetype": "text/x-python",
   "name": "python",
   "nbconvert_exporter": "python",
   "pygments_lexer": "ipython3",
   "version": "3.7.4"
  }
 },
 "nbformat": 4,
 "nbformat_minor": 1
}
