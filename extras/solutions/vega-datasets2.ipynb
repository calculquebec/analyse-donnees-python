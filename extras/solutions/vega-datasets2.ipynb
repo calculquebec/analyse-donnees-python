{
 "cells": [
  {
   "cell_type": "markdown",
   "metadata": {},
   "source": [
    "# Analyse et visualisation de données avec Python\n",
    "## Collection de jeux de données Vega - Partie 2\n",
    "Cette page contient des exercices basés sur les données de la collection Vega.\n",
    "\n",
    "\n",
    "* Dépôt GitHub de [Vega Datasets](https://github.com/vega/vega-datasets).\n",
    "  * [Origine](https://github.com/vega/vega-datasets/blob/master/SOURCES.md) des différents fichiers.\n",
    "* Les exercices ci-dessous supposent que la copie locale partage le même dossier parent que `analyse-donnees-python`."
   ]
  },
  {
   "cell_type": "code",
   "execution_count": null,
   "metadata": {},
   "outputs": [],
   "source": [
    "import os\n",
    "import pandas as pd\n",
    "\n",
    "dossier_data = os.path.join(\"..\" if os.path.basename(os.getcwd()) == \"solutions\" else \".\",\n",
    "                            \"..\", \"..\", \"vega-datasets\", \"data\")\n",
    "print(dossier_data)"
   ]
  },
  {
   "cell_type": "markdown",
   "metadata": {},
   "source": [
    "## Exercice 4 - Automatisation\n",
    "Pour chaque capitale d'état aux États-Unis, trouvez l'aéroport le plus près, et ce, à l'aide des longitudes et des latitudes. Pour chaque aéroport trouvé, sauvegardez dans un fichier CSV les vols d'arrivée et de départ. Le nom de chaque fichier doit avoir le code de deux lettres de l'état dans lequel se situe l'aéroport, le nom de la capitale et le code IATA de l'aéroport, le tout séparé d'un trait d'union.\n",
    "\n",
    "Par exemple : `XY-Nom Ville-ABC.csv`\n",
    "\n",
    "Enfin, ces fichiers seront sauvegardés dans le dossier `aero_cap`."
   ]
  },
  {
   "cell_type": "markdown",
   "metadata": {},
   "source": [
    "a) Chargez les données et étudiez les différentes variables (colonnes)."
   ]
  },
  {
   "cell_type": "code",
   "execution_count": null,
   "metadata": {},
   "outputs": [],
   "source": [
    "# Charger les données\n",
    "capitales = pd.read_json(os.path.join(dossier_data, \"us-state-capitals.json\"))\n",
    "aeroports = pd.read_csv(os.path.join(dossier_data, \"airports.csv\"))\n",
    "vols      = pd.read_csv(os.path.join(dossier_data, \"flights-3m.csv\"))"
   ]
  },
  {
   "cell_type": "code",
   "execution_count": null,
   "metadata": {},
   "outputs": [],
   "source": [
    "capitales.head()"
   ]
  },
  {
   "cell_type": "code",
   "execution_count": null,
   "metadata": {},
   "outputs": [],
   "source": [
    "aeroports.head()"
   ]
  },
  {
   "cell_type": "code",
   "execution_count": null,
   "metadata": {},
   "outputs": [],
   "source": [
    "vols.head()"
   ]
  },
  {
   "cell_type": "markdown",
   "metadata": {},
   "source": [
    "b) Limitez les aéroports à ceux présents dans le DataFrame `vols`."
   ]
  },
  {
   "cell_type": "code",
   "execution_count": null,
   "metadata": {},
   "outputs": [],
   "source": [
    "# Recueillir les différents aéroports d'origine et de destination\n",
    "orig = vols['origin'].unique()\n",
    "dest = vols['destination'].unique()\n",
    "\n",
    "# Ne garder que les aéroports d'origine et de destination\n",
    "aeroports = aeroports[aeroports['iata'].isin(orig) |\n",
    "                      aeroports['iata'].isin(dest)]\n",
    "\n",
    "# Test unitaire : devrait retourner 59 aéroports\n",
    "len(aeroports)"
   ]
  },
  {
   "cell_type": "markdown",
   "metadata": {},
   "source": [
    "c) Créez le dossier `aero_cap` :\n",
    "* Créez la fonction `creer_dossier()` qui reçoit un `nom_dossier` en argument.\n",
    "* Validez que le dossier existe avant de le créer.\n",
    "* Testez la fonction `creer_dossier()` à deux reprises"
   ]
  },
  {
   "cell_type": "code",
   "execution_count": null,
   "metadata": {},
   "outputs": [],
   "source": [
    "def creer_dossier(nom_dossier):\n",
    "    \"\"\"Crée un dossier s'il n'existe pas\n",
    "    \n",
    "    nom_dossier -- Nom du dossier (str)\n",
    "    \"\"\"\n",
    "\n",
    "    if nom_dossier in os.listdir('.'):\n",
    "        print(f'Le dossier \"{nom_dossier}\" existe déjà!')\n",
    "    else:\n",
    "        os.mkdir(nom_dossier)\n",
    "        print(f'Nouveau dossier: \"{nom_dossier}\"!')"
   ]
  },
  {
   "cell_type": "code",
   "execution_count": null,
   "metadata": {},
   "outputs": [],
   "source": [
    "dossier_cible = \"aero_cap\"\n",
    "\n",
    "creer_dossier(dossier_cible)\n",
    "os.listdir('.')"
   ]
  },
  {
   "cell_type": "markdown",
   "metadata": {},
   "source": [
    "d) Créez la fonction `dist_ang2(lat1, long1, lat2, long2)` qui reçoit deux paires de coordonnées et qui calcule le carré de la distance entre ces coordonnées."
   ]
  },
  {
   "cell_type": "code",
   "execution_count": null,
   "metadata": {},
   "outputs": [],
   "source": [
    "def dist_ang2(lat1, long1, lat2, long2):\n",
    "    \"\"\"Retourne le carré de la distance angulaire\n",
    "    \n",
    "    lat1, lat2 -- Latitudes (scalaire ou vecteur)\n",
    "    long1, long2 -- Longitudes (scalaire ou vecteur)\n",
    "    \"\"\"\n",
    "    \n",
    "    # Différences calculées élément par élément\n",
    "    delta_lat = lat2 - lat1\n",
    "    delta_long = long2 - long1\n",
    "    \n",
    "    # Retourne le carré de la distance angulaire\n",
    "    return delta_lat * delta_lat + delta_long * delta_long"
   ]
  },
  {
   "cell_type": "code",
   "execution_count": null,
   "metadata": {},
   "outputs": [],
   "source": [
    "# Test unitaire : doit retourner 25 = (5-2)*(5-2)+(7-3)*(7-3)\n",
    "dist_ang2(2, 3, 5, 7)"
   ]
  },
  {
   "cell_type": "markdown",
   "metadata": {},
   "source": [
    "e) Créez la fonction `trouver_aeroport()` avec les arguments décrits dans le Docstring. Complétez la fonction en tenant compte des commentaires."
   ]
  },
  {
   "cell_type": "code",
   "execution_count": null,
   "metadata": {},
   "outputs": [],
   "source": [
    "def trouver_aeroport(aeroports, latitude, longitude):\n",
    "    \"\"\"Retourne le code IATA de l'aéroport le plus proche\n",
    "    \n",
    "    aeroports -- DataFrame des aeroports\n",
    "    latitude -- degré de latitude\n",
    "    longitude -- degré de longitude\n",
    "    \"\"\"\n",
    "    \n",
    "    # Copier les colonnes iata, latitude et longitude\n",
    "    iata_long_lat = aeroports[['iata', 'latitude', 'longitude']].copy()\n",
    "    \n",
    "    # Appeler dist_ang2() avec les coordonnées des aéroports\n",
    "    # et les coordonnées reçues en argument\n",
    "    iata_long_lat['dist_ang2'] = dist_ang2(\n",
    "        iata_long_lat['latitude'], iata_long_lat['longitude'], latitude, longitude)\n",
    "    \n",
    "    # Obtenir la distance minimale\n",
    "    dist_ang2_min = iata_long_lat['dist_ang2'].min()\n",
    "    \n",
    "    # Garder la ou les rangées de cette distance minimale\n",
    "    aero_locales = iata_long_lat[iata_long_lat['dist_ang2'] == dist_ang2_min]\n",
    "    \n",
    "    # Réinitialiser l'index et retourner le premier code IATA\n",
    "    return aero_locales.reset_index().loc[0, 'iata']"
   ]
  },
  {
   "cell_type": "code",
   "execution_count": null,
   "metadata": {},
   "outputs": [],
   "source": [
    "# Test unitaire : doit retourner 'OMA'\n",
    "trouver_aeroport(aeroports, 40, -100)"
   ]
  },
  {
   "cell_type": "markdown",
   "metadata": {},
   "source": [
    "f) Créez la fonction `trouver_code_etat()` avec les arguments décrits dans le Docstring. Complétez la fonction en tenant compte des commentaires."
   ]
  },
  {
   "cell_type": "code",
   "execution_count": null,
   "metadata": {},
   "outputs": [],
   "source": [
    "def trouver_code_etat(aeroports, code_iata):\n",
    "    \"\"\"Retourne le code d'état selon le code IATA\n",
    "    \n",
    "    aeroports -- DataFrame des aeroports\n",
    "    code_iata -- Typiquement un code de 3 lettres\n",
    "    \"\"\"\n",
    "    \n",
    "    # Copier la rangée où le code IATA correspond\n",
    "    aeroport = aeroports[aeroports['iata'] == code_iata].copy()\n",
    "    \n",
    "    # Réinitialiser l'index et retourner le premier code IATA\n",
    "    return aeroport.reset_index().loc[0, 'state']"
   ]
  },
  {
   "cell_type": "markdown",
   "metadata": {},
   "source": [
    "g) Complétez la boucle sur chaque `capitale` des états :\n",
    "* L'itérable est donnée par la méthode [`df.itertuples()`](https://pandas.pydata.org/docs/reference/api/pandas.DataFrame.itertuples.html).\n",
    "* Appelez la fonction `trouver_aeroport()` pour obtenir le code IATA.\n",
    "* Appelez la fonction `trouver_code_etat()` pour obtenir le code d'état.\n",
    "* Sélectionnez les `vols` dont l'origine **ou** la destination est le code IATA.\n",
    "* Sauvegardez cette sélection dans le fichier CSV."
   ]
  },
  {
   "cell_type": "code",
   "execution_count": null,
   "metadata": {},
   "outputs": [],
   "source": [
    "# Pour chaque capitale\n",
    "for capitale in capitales.itertuples(name=\"Capitale\", index=False):\n",
    "    # Obtenir le code IATA pour ensuite obtenir le code d'état\n",
    "    code_iata = trouver_aeroport(aeroports, capitale.lat, capitale.lon)\n",
    "    code_etat = trouver_code_etat(aeroports, code_iata)\n",
    "    \n",
    "    # Sélectionner les vols concernant l'aéroport choisi\n",
    "    vols_cap = vols[(vols['origin'] == code_iata) |\n",
    "                    (vols['destination'] == code_iata)]\n",
    "    \n",
    "    # Syntaxe du nom de fichier : \"XY-Nom Ville-ABC.csv\"\n",
    "    nom_fichier = code_etat + \"-\" + capitale.city + \"-\" + code_iata + \".csv\"\n",
    "    \n",
    "    # Sauvegarder vols_cap dans un fichier CSV dans dossier_cible\n",
    "    vols_cap.to_csv(os.path.join(dossier_cible, nom_fichier))\n",
    "\n",
    "os.listdir(dossier_cible)"
   ]
  },
  {
   "cell_type": "markdown",
   "metadata": {},
   "source": [
    "## Exercice 5 - Visualisation\n",
    "Dans cet exercice, nous voulons créer un graphique montrant l'évolution du S&P 500 au cours des mois recensés dans `sp500-2000.csv`. Plus précisément, on veut voir une courbe rouge pour les valeurs les plus basses à chaque mois et une autre courbe noire pour les valeurs hautes."
   ]
  },
  {
   "cell_type": "markdown",
   "metadata": {},
   "source": [
    "a) Importez le module Plotnine sous le nom `p9`."
   ]
  },
  {
   "cell_type": "code",
   "execution_count": null,
   "metadata": {},
   "outputs": [],
   "source": [
    "import plotnine as p9"
   ]
  },
  {
   "cell_type": "markdown",
   "metadata": {},
   "source": [
    "b) Chargez les données du S&P 500 à partir du fichier `sp500-2000.csv`."
   ]
  },
  {
   "cell_type": "code",
   "execution_count": null,
   "metadata": {},
   "outputs": [],
   "source": [
    "sp500 = pd.read_csv(os.path.join(dossier_data, \"sp500-2000.csv\"))\n",
    "sp500"
   ]
  },
  {
   "cell_type": "markdown",
   "metadata": {},
   "source": [
    "c) Créez trois colonnes `annee`, `mois` et `jour` à partir de la colonne `date`.\n",
    "* La méthode `.apply()` et la déclaration `lambda` permettent d'effectuer un traitement pour chaque valeur `d` de la colonne spécifiée (`'date'`).\n",
    "* Note : `\"AAAA-MM-JJ\".split('-')` retourne une liste `['AAAA', 'MM', 'JJ']`."
   ]
  },
  {
   "cell_type": "code",
   "execution_count": null,
   "metadata": {},
   "outputs": [],
   "source": [
    "sp500['annee'] = sp500['date'].apply(lambda d : d.split('-')[0])\n",
    "sp500['mois' ] = sp500['date'].apply(lambda d : d.split('-')[1])\n",
    "sp500['jour' ] = sp500['date'].apply(lambda d : d.split('-')[2])\n",
    "sp500"
   ]
  },
  {
   "cell_type": "markdown",
   "metadata": {},
   "source": [
    "d) Pour chaque combinaison `annee,mois`, calculez la valeur minimale des valeurs `low` et la valeur maximale des valeurs `high`. Concaténez **horizontalement** ces deux résultats ; ici, c'est une opération pertinente, car les index sont les mêmes et les colonnes sont différentes."
   ]
  },
  {
   "cell_type": "code",
   "execution_count": null,
   "metadata": {},
   "outputs": [],
   "source": [
    "par_annee_mois = sp500.groupby(['annee', 'mois'])\n",
    "minima = par_annee_mois['low' ].min()\n",
    "maxima = par_annee_mois['high'].max()\n",
    "extrema = pd.concat([minima, maxima], axis=1)\n",
    "extrema"
   ]
  },
  {
   "cell_type": "markdown",
   "metadata": {},
   "source": [
    "e) Pour ajuster le précédent résultat selon nos besoins :\n",
    "* Renommez les deux colonnes restantes pour `Basses` et `Hautes`.\n",
    "* Ramenez l'index `annee,mois` sous la forme de colonne avec `reset_index()`."
   ]
  },
  {
   "cell_type": "code",
   "execution_count": null,
   "metadata": {},
   "outputs": [],
   "source": [
    "extrema.columns = ['Basses', 'Hautes']\n",
    "extrema = extrema.reset_index()\n",
    "extrema"
   ]
  },
  {
   "cell_type": "markdown",
   "metadata": {},
   "source": [
    "f) Créez une colonne `Mois` en type `datetime64`."
   ]
  },
  {
   "cell_type": "code",
   "execution_count": null,
   "metadata": {},
   "outputs": [],
   "source": [
    "extrema['Mois'] = extrema['annee'] + \"-\" + extrema['mois'] + \"-01T00:00:00\"\n",
    "extrema['Mois'] = extrema['Mois'].astype(\"datetime64\")\n",
    "extrema"
   ]
  },
  {
   "cell_type": "markdown",
   "metadata": {},
   "source": [
    "g) Utilisez la fonction [`pd.melt()`](https://pandas.pydata.org/docs/reference/api/pandas.melt.html) de telle sorte que :\n",
    "* `id_vars` contienne une liste des colonnes à préserver (`Mois`).\n",
    "* `value_vars` contienne une liste des colonnes à transformer en catégories (`Basses` et `Hautes`), ce qui fait que leurs valeurs se retrouveront dans une même colonne.\n",
    "* `var_name` soit `Valeurs` comme nom de colonne pour les catégories `Basses` et `Hautes`.\n",
    "* `value_name` soit `Valeur`, comme dans \"valeur boursière\"."
   ]
  },
  {
   "cell_type": "code",
   "execution_count": null,
   "metadata": {},
   "outputs": [],
   "source": [
    "valeurs_finales = pd.melt(extrema, id_vars=['Mois'], value_vars=['Basses', 'Hautes'],\n",
    "                          var_name='Valeurs', value_name='Valeur')\n",
    "valeurs_finales"
   ]
  },
  {
   "cell_type": "markdown",
   "metadata": {},
   "source": [
    "h) Enfin, créez un graphique `ggplot()` avec `p9` de telle sorte que :\n",
    "* Les `Mois` soient en axe des `x`.\n",
    "* Les `Valeur` soient en axe des `y`.\n",
    "* Les `Valeurs` influencent la couleur (`color`).\n",
    "* Une courbe s'affiche pour chaque type de `Valeurs`.\n",
    "* Les couleurs `red` et `black` soit assignées via une liste dans `p9.scale_color_manual()`.\n",
    "* Un titre soit ajouté avec `ggtitle()`."
   ]
  },
  {
   "cell_type": "code",
   "execution_count": null,
   "metadata": {},
   "outputs": [],
   "source": [
    "(p9.ggplot(data=valeurs_finales,\n",
    "           mapping=p9.aes(x='Mois',\n",
    "                          y='Valeur',\n",
    "                          color='Valeurs'))\n",
    "    + p9.geom_line()\n",
    "    + p9.scale_color_manual(['red', 'black'])\n",
    "    + p9.ggtitle(\"Valeurs basses et hautes du S&P 500 selon le mois\")\n",
    ")"
   ]
  },
  {
   "cell_type": "code",
   "execution_count": null,
   "metadata": {},
   "outputs": [],
   "source": []
  }
 ],
 "metadata": {
  "kernelspec": {
   "display_name": "Python 3",
   "language": "python",
   "name": "python3"
  },
  "language_info": {
   "codemirror_mode": {
    "name": "ipython",
    "version": 3
   },
   "file_extension": ".py",
   "mimetype": "text/x-python",
   "name": "python",
   "nbconvert_exporter": "python",
   "pygments_lexer": "ipython3",
   "version": "3.7.4"
  }
 },
 "nbformat": 4,
 "nbformat_minor": 2
}
