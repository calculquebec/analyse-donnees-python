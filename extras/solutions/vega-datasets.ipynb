{
 "cells": [
  {
   "cell_type": "markdown",
   "metadata": {},
   "source": [
    "# Analyse et visualisation de données avec Python\n",
    "## Collection de jeux de données Vega\n",
    "Cette page contient des exercices basés sur les données de la collection Vega.\n",
    "\n",
    "\n",
    "* Dépôt GitHub de [Vega Datasets](https://github.com/vega/vega-datasets).\n",
    "  * [Origine](https://github.com/vega/vega-datasets/blob/master/SOURCES.md) des différents fichiers.\n",
    "* Les exercices ci-dessous supposent que la copie locale partage le même dossier parent que `analyse-donnees-python`."
   ]
  },
  {
   "cell_type": "code",
   "execution_count": null,
   "metadata": {},
   "outputs": [],
   "source": [
    "import glob\n",
    "import os\n",
    "import pandas as pd\n",
    "\n",
    "dossier_data = os.path.join(\"..\" if os.path.basename(os.getcwd()) == \"solutions\" else \".\",\n",
    "                            \"..\", \"..\", \"vega-datasets\", \"data\")\n",
    "print(dossier_data)"
   ]
  },
  {
   "cell_type": "markdown",
   "metadata": {},
   "source": [
    "### Les différents fichiers CSV"
   ]
  },
  {
   "cell_type": "code",
   "execution_count": null,
   "metadata": {},
   "outputs": [],
   "source": [
    "# Afficher uniquement les fichiers *.csv\n",
    "glob.glob(os.path.join(dossier_data, \"*.csv\"))"
   ]
  },
  {
   "cell_type": "code",
   "execution_count": null,
   "metadata": {},
   "outputs": [],
   "source": [
    "# Exemple de chargement des données\n",
    "pd.read_csv(os.path.join(dossier_data, \"airports.csv\"))"
   ]
  },
  {
   "cell_type": "markdown",
   "metadata": {},
   "source": [
    "### Les différents fichiers JSON"
   ]
  },
  {
   "cell_type": "code",
   "execution_count": null,
   "metadata": {},
   "outputs": [],
   "source": [
    "# Afficher uniquement les fichiers *.json\n",
    "glob.glob(os.path.join(dossier_data, \"*.json\"))"
   ]
  },
  {
   "cell_type": "code",
   "execution_count": null,
   "metadata": {},
   "outputs": [],
   "source": [
    "# Exemple de chargement des données\n",
    "pd.read_json(os.path.join(dossier_data, \"cars.json\"))"
   ]
  },
  {
   "cell_type": "markdown",
   "metadata": {},
   "source": [
    "## Exercice 1 - Grouper des données\n",
    "Dans le tableau ci-dessous, il y a en première colonne une sélection de fichiers de données. Pour chacun de ces fichiers, le tableau suggère trois variables à considérer pour le calcul d'une statistique descriptive. Veuillez vous référer à ce tableau pour les prochaines étapes de l'exercice.\n",
    "\n",
    " Fichier           | `variable1`   | `variable2`       | `variable3`   | Statistique\n",
    "------------------ | ------------- | ----------------- | ------------- | -----------\n",
    "`birdstrikes.csv`  | `Time of day` | `Phase of flight` | `Flight Date` | `count()`\n",
    "`cars.json`        | `Cylinders`   | `Origin`          | `Miles_per_Gallon` | `median()`\n",
    "`flights-20k.json` | `origin`      | `destination`     | `delay`       | `max()`\n",
    "`football.json`    | `division`    | `home_score`      | `away_score`  | `mean()`\n",
    "`jobs.json`        | `year`        | `sex`             | `perc`        | `sum()`\n",
    "`movies.json`      | `Creative Type` | `MPAA Rating`   | `US Gross`    | `mean()`\n",
    "`penguins.json`    | `Island`      | `Species`         | `Body Mass (g)` | `count()`\n",
    "`population.json`  | `year`        | `age`             | `people`      | `sum()`\n",
    "`weather.csv`      | `weather`     | `location`        | `wind`        | `max()`"
   ]
  },
  {
   "cell_type": "markdown",
   "metadata": {},
   "source": [
    "a) Choisissez un fichier de données et chargez les données dans un DataFrame Pandas."
   ]
  },
  {
   "cell_type": "code",
   "execution_count": null,
   "metadata": {},
   "outputs": [],
   "source": [
    "fic_ind = -1\n",
    "fic_var = [\n",
    "    {'f': \"birdstrikes.csv\",  'v1': 'Time of day', 'v2': 'Phase of flight', 'v3': 'Flight Date'},\n",
    "    {'f': \"cars.json\",        'v1': 'Cylinders',   'v2': 'Origin',     'v3': 'Miles_per_Gallon'},\n",
    "    {'f': \"flights-20k.json\", 'v1': 'origin',      'v2': 'destination',     'v3': 'delay'},\n",
    "    {'f': \"football.json\",    'v1': 'division',    'v2': 'home_score',      'v3': 'away_score'},\n",
    "    {'f': \"jobs.json\",        'v1': 'year',        'v2': 'sex',             'v3': 'perc'},\n",
    "    {'f': \"movies.json\",      'v1': 'Creative Type', 'v2': 'MPAA Rating',   'v3': 'US Gross'},\n",
    "    {'f': \"penguins.json\",    'v1': 'Island',      'v2': 'Species',         'v3': 'Sex'},\n",
    "    {'f': \"population.json\",  'v1': 'year',        'v2': 'age',             'v3': 'people'},\n",
    "    {'f': \"weather.csv\",      'v1': 'weather',     'v2': 'location',        'v3': 'wind'}]\n",
    "\n",
    "nom_fichier = fic_var[fic_ind]['f']\n",
    "print(\"Nom du fichier retenu :\", nom_fichier)"
   ]
  },
  {
   "cell_type": "code",
   "execution_count": null,
   "metadata": {},
   "outputs": [],
   "source": [
    "if \".csv\" in nom_fichier:\n",
    "    df = pd.read_csv(os.path.join(dossier_data, nom_fichier))\n",
    "elif \".json\" in nom_fichier:\n",
    "    df = pd.read_json(os.path.join(dossier_data, nom_fichier))\n",
    "df"
   ]
  },
  {
   "cell_type": "markdown",
   "metadata": {},
   "source": [
    "b) Groupez les données selon `variable1` et `variable2`."
   ]
  },
  {
   "cell_type": "code",
   "execution_count": null,
   "metadata": {},
   "outputs": [],
   "source": [
    "selon_v1v2 = df.groupby([fic_var[fic_ind]['v1'], fic_var[fic_ind]['v2']])"
   ]
  },
  {
   "cell_type": "markdown",
   "metadata": {},
   "source": [
    "c) Calculez la statistique descriptive de la variable `variable3`."
   ]
  },
  {
   "cell_type": "code",
   "execution_count": null,
   "metadata": {},
   "outputs": [],
   "source": [
    "stat_v3 = selon_v1v2[fic_var[fic_ind]['v3']].max()\n",
    "stat_v3"
   ]
  },
  {
   "cell_type": "markdown",
   "metadata": {},
   "source": [
    "d) Créez un \"bar-plot\" montrant la statistique selon les deux variables choisies. Pour plus de visibilité avec certaines données, les barres seront empilées (*stacked*)."
   ]
  },
  {
   "cell_type": "code",
   "execution_count": null,
   "metadata": {},
   "outputs": [],
   "source": [
    "stat_v3_tableau = stat_v3.unstack()\n",
    "stat_v3_tableau.plot(kind='bar', title=fic_var[fic_ind]['v3'], stacked=True)"
   ]
  },
  {
   "cell_type": "code",
   "execution_count": null,
   "metadata": {},
   "outputs": [],
   "source": []
  }
 ],
 "metadata": {
  "kernelspec": {
   "display_name": "Python 3",
   "language": "python",
   "name": "python3"
  },
  "language_info": {
   "codemirror_mode": {
    "name": "ipython",
    "version": 3
   },
   "file_extension": ".py",
   "mimetype": "text/x-python",
   "name": "python",
   "nbconvert_exporter": "python",
   "pygments_lexer": "ipython3",
   "version": "3.7.4"
  }
 },
 "nbformat": 4,
 "nbformat_minor": 2
}
