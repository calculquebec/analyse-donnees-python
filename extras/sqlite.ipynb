{
 "cells": [
  {
   "cell_type": "markdown",
   "metadata": {},
   "source": [
    "# Analyse et visualisation de données avec Python\n",
    "## Accéder à des bases de données SQLite via Pandas\n",
    "Questions\n",
    "* Si mes données sont dans une base de données SQL, puis-je les utiliser?\n",
    "* Comment sauvegarder des données de Python à une base de données SQL?\n",
    "\n",
    "Objectifs\n",
    "* Utiliser le module `sqlite3` pour interagir avec une base de données SQL.\n",
    "* Accéder aux données d'un fichier SQLite via Python.\n",
    "* Décrire les différences entre utiliser un fichier CSV et un fichier SQLite.\n",
    "* Décrire les avantages à utiliser une base de données SQL."
   ]
  },
  {
   "cell_type": "markdown",
   "metadata": {},
   "source": [
    "## CSV vs SQLite\n",
    "Stocker les données dans un fichier SQLite peut accélérer substantiellement les opérations de lecture et écriture en comparaison avec un fichier CSV. La différence en performance devient de plus en plus évidente lorsque le jeu de données grossit (voir par exemple [ce test de performance](http://sebastianraschka.com/Articles/2013_sqlite_database.html#results-and-conclusions))."
   ]
  },
  {
   "cell_type": "markdown",
   "metadata": {},
   "source": [
    "## Python et SQL\n",
    "### Le module `sqlite3`"
   ]
  },
  {
   "cell_type": "code",
   "execution_count": null,
   "metadata": {},
   "outputs": [],
   "source": [
    "import ###"
   ]
  },
  {
   "cell_type": "code",
   "execution_count": null,
   "metadata": {},
   "outputs": [],
   "source": [
    "# Créer une connexion SQL à notre fichier SQLite\n",
    "con = sqlite3.###(\"../data/portal_mammals.sqlite\")\n",
    "\n",
    "cur = con.###()\n",
    "\n",
    "# Le résultat de \"cursor.execute()\" peut être traité rangée par rangée\n",
    "for rangee in cur.###('SELECT * FROM species;'):\n",
    "    print(rangee)\n",
    "\n",
    "# Assurez-vous de fermer la connexion\n",
    "con.###()"
   ]
  },
  {
   "cell_type": "markdown",
   "metadata": {},
   "source": [
    "### Différentes requêtes"
   ]
  },
  {
   "cell_type": "code",
   "execution_count": null,
   "metadata": {},
   "outputs": [],
   "source": [
    "# Créer une connexion SQL à notre fichier SQLite\n",
    "con = sqlite3.connect(\"../data/portal_mammals.sqlite\")\n",
    "\n",
    "cur = con.cursor()"
   ]
  },
  {
   "cell_type": "code",
   "execution_count": null,
   "metadata": {},
   "outputs": [],
   "source": [
    "# Obtenir la liste de toutes les tables\n",
    "cur.###('SELECT name FROM sqlite_master WHERE type = \"table\"')\n",
    "cur.###()"
   ]
  },
  {
   "cell_type": "code",
   "execution_count": null,
   "metadata": {},
   "outputs": [],
   "source": [
    "# Obtenir les informations de la table \"plots\" (sites)\n",
    "cur.execute('PRAGMA table_info(###)')\n",
    "cur.fetchall()"
   ]
  },
  {
   "cell_type": "code",
   "execution_count": null,
   "metadata": {},
   "outputs": [],
   "source": [
    "# Obtenir les différents types de sites et leur décompte\n",
    "# Le tout sera trié selon la valeur de décompte\n",
    "cur.execute('SELECT ###,COUNT(plot_type) FROM ### ' +\n",
    "            '### plot_type ' +\n",
    "            'ORDER BY COUNT(plot_type)')\n",
    "cur.fetchall()"
   ]
  },
  {
   "cell_type": "code",
   "execution_count": null,
   "metadata": {},
   "outputs": [],
   "source": [
    "# Obtenir tous les identifiants de sites lorsque plot_type est \"Spectab exclosure\"\n",
    "cur.execute('SELECT ### FROM plots WHERE plot_type = \"Spectab exclosure\"')\n",
    "cur.fetchall()"
   ]
  },
  {
   "cell_type": "code",
   "execution_count": null,
   "metadata": {},
   "outputs": [],
   "source": [
    "# Obtenir seulement une ligne de résultat d'une requête\n",
    "cur.execute('SELECT genus,COUNT(genus) FROM surveys ' +\n",
    "            '### plots   ### plots.plot_id      = surveys.plot ' +\n",
    "            'INNER JOIN species ON species.species_id = surveys.species ' +\n",
    "            'GROUP BY genus HAVING plots.plot_type = \"Spectab exclosure\" ' +\n",
    "            'ORDER BY COUNT(genus) DESC')\n",
    "cur.fetch###()"
   ]
  },
  {
   "cell_type": "code",
   "execution_count": null,
   "metadata": {},
   "outputs": [],
   "source": [
    "# Assurez-vous de fermer la connexion\n",
    "con.close()"
   ]
  },
  {
   "cell_type": "markdown",
   "metadata": {},
   "source": [
    "### Exercice - Requêtes SQL\n",
    "Créez une requête contenant les données enregistrées entre 1998 et 2001, pour les observations de sexe \"F\" ou \"M\". Gardez les différentes combinaisons de `genus`, nom d'espèce et `plot_type`. Combien d'enregistrements avons-nous à la fin?"
   ]
  },
  {
   "cell_type": "code",
   "execution_count": null,
   "metadata": {},
   "outputs": [],
   "source": [
    "con = sqlite3.###(\"../data/portal_mammals.sqlite\")\n",
    "cur = con.###()\n",
    "\n",
    "cur.###('SELECT DISTINCT ###,species.species,### FROM surveys ' +\n",
    "            'INNER JOIN plots   ON plots.plot_id      = surveys.plot ' +\n",
    "            'INNER JOIN species ON species.species_id = surveys.species ' +\n",
    "            'WHERE (### BETWEEN ### AND ###) ' +\n",
    "            'AND (### IN (\"F\", \"M\"))')\n",
    "print(len(cur.###()))\n",
    "\n",
    "con.###()"
   ]
  },
  {
   "cell_type": "markdown",
   "metadata": {},
   "source": [
    "## Charger les données d'une table SQLite dans un DataFrame"
   ]
  },
  {
   "cell_type": "code",
   "execution_count": null,
   "metadata": {},
   "outputs": [],
   "source": [
    "import pandas as pd\n",
    "\n",
    "con = sqlite3.connect(\"../data/portal_mammals.sqlite\")\n",
    "df = pd.###(\"SELECT * from surveys\", ###)\n",
    "\n",
    "print(df.head())\n",
    "\n",
    "con.close()"
   ]
  },
  {
   "cell_type": "markdown",
   "metadata": {},
   "source": [
    "### Exercice - SQL et Pandas\n",
    "Créez un dataframe contenant le nombre total d'observations (`COUNT`) et la somme (`SUM`) des poids (`wgt`) pour chaque identifiant de site (`plot`) et pour chaque année, le tout trié par identifiant de site."
   ]
  },
  {
   "cell_type": "code",
   "execution_count": null,
   "metadata": {},
   "outputs": [],
   "source": [
    "con = sqlite3.connect(\"../data/portal_mammals.sqlite\")\n",
    "\n",
    "df = pd.###('SELECT plot,year,COUNT(###),SUM(###) FROM surveys ' +\n",
    "                       '### plot,year ORDER BY ###', con)\n",
    "\n",
    "print(df.head())\n",
    "print(df.tail())\n",
    "\n",
    "con.close()"
   ]
  },
  {
   "cell_type": "markdown",
   "metadata": {},
   "source": [
    "## Sauvegarder les données - créer de nouvelles tables"
   ]
  },
  {
   "cell_type": "code",
   "execution_count": null,
   "metadata": {},
   "outputs": [],
   "source": [
    "con = sqlite3.connect(\"../data/portal_mammals.sqlite\")\n",
    "\n",
    "# Charger les données dans un DataFrame\n",
    "surveys_df = pd.read_sql_query(\"SELECT * FROM surveys\", con)\n",
    "\n",
    "# Sélectionner les données pour l'année 2002\n",
    "surveys2002 = surveys_df[surveys_df['year'] == 2002]\n",
    "\n",
    "# Sauvegarder le nouveau DataFrame dans une nouvelle table SQL\n",
    "surveys2002.###(\"surveys###\", ###, if_exists=\"###\")\n",
    "\n",
    "con.close()"
   ]
  },
  {
   "cell_type": "code",
   "execution_count": null,
   "metadata": {},
   "outputs": [],
   "source": []
  }
 ],
 "metadata": {
  "anaconda-cloud": {},
  "kernelspec": {
   "display_name": "Python 3",
   "language": "python",
   "name": "python3"
  },
  "language_info": {
   "codemirror_mode": {
    "name": "ipython",
    "version": 3
   },
   "file_extension": ".py",
   "mimetype": "text/x-python",
   "name": "python",
   "nbconvert_exporter": "python",
   "pygments_lexer": "ipython3",
   "version": "3.7.4"
  }
 },
 "nbformat": 4,
 "nbformat_minor": 1
}
