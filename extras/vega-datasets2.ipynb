{
 "cells": [
  {
   "cell_type": "markdown",
   "metadata": {},
   "source": [
    "# Analyse et visualisation de données avec Python\n",
    "## Collection de jeux de données Vega - Partie 2\n",
    "Cette page contient des exercices basés sur les données de la collection Vega.\n",
    "\n",
    "\n",
    "* Dépôt GitHub de [Vega Datasets](https://github.com/vega/vega-datasets).\n",
    "  * [Origine](https://github.com/vega/vega-datasets/blob/master/SOURCES.md) des différents fichiers.\n",
    "* Les exercices ci-dessous supposent que la copie locale partage le même dossier parent que `analyse-donnees-python`."
   ]
  },
  {
   "cell_type": "code",
   "execution_count": null,
   "metadata": {},
   "outputs": [],
   "source": [
    "import os\n",
    "import pandas as pd\n",
    "\n",
    "dossier_data = os.path.join(\"..\" if os.path.basename(os.getcwd()) == \"solutions\" else \".\",\n",
    "                            \"..\", \"..\", \"vega-datasets\", \"data\")\n",
    "print(dossier_data)"
   ]
  },
  {
   "cell_type": "markdown",
   "metadata": {},
   "source": [
    "## Exercice 4 - Automatisation\n",
    "Pour chaque capitale d'état aux États-Unis, trouvez l'aéroport le plus près, et ce, à l'aide des longitudes et des latitudes. Pour chaque aéroport trouvé, sauvegardez dans un fichier CSV les vols d'arrivée et de départ. Le nom de chaque fichier doit avoir le code de deux lettres de l'état dans lequel se situe l'aéroport, le nom de la capitale et le code IATA de l'aéroport, le tout séparé d'un trait d'union.\n",
    "\n",
    "Par exemple : `XY-Nom Ville-ABC.csv`\n",
    "\n",
    "Enfin, ces fichiers seront sauvegardés dans le dossier `aero_cap`."
   ]
  },
  {
   "cell_type": "markdown",
   "metadata": {},
   "source": [
    "a) Chargez les données et étudiez les différentes variables (colonnes)."
   ]
  },
  {
   "cell_type": "code",
   "execution_count": null,
   "metadata": {},
   "outputs": [],
   "source": [
    "# Charger les données\n",
    "capitales = pd.###(os.path.join(dossier_data, \"us-state-capitals.json\"))\n",
    "aeroports = pd.###(os.path.join(dossier_data, \"airports.csv\"))\n",
    "vols      = pd.###(os.path.join(dossier_data, \"flights-3m.csv\"))"
   ]
  },
  {
   "cell_type": "code",
   "execution_count": null,
   "metadata": {},
   "outputs": [],
   "source": [
    "capitales.head()"
   ]
  },
  {
   "cell_type": "code",
   "execution_count": null,
   "metadata": {},
   "outputs": [],
   "source": [
    "aeroports.###"
   ]
  },
  {
   "cell_type": "code",
   "execution_count": null,
   "metadata": {},
   "outputs": [],
   "source": [
    "vols.###"
   ]
  },
  {
   "cell_type": "markdown",
   "metadata": {},
   "source": [
    "b) Limitez les aéroports à ceux présents dans le DataFrame `vols`."
   ]
  },
  {
   "cell_type": "code",
   "execution_count": null,
   "metadata": {},
   "outputs": [],
   "source": [
    "# Recueillir les différents aéroports d'origine et de destination\n",
    "orig = vols['origin']###\n",
    "dest = vols['destination']###\n",
    "\n",
    "# Ne garder que les aéroports d'origine et de destination\n",
    "aeroports = aeroports[aeroports['iata']### ###\n",
    "                      aeroports['iata']###]\n",
    "\n",
    "# Test unitaire : devrait retourner 59 aéroports\n",
    "len(aeroports)"
   ]
  },
  {
   "cell_type": "markdown",
   "metadata": {},
   "source": [
    "c) Créez le dossier `aero_cap` :\n",
    "* Créez la fonction `creer_dossier()` qui reçoit un `nom_dossier` en argument.\n",
    "* Validez que le dossier existe avant de le créer.\n",
    "* Testez la fonction `creer_dossier()` à deux reprises"
   ]
  },
  {
   "cell_type": "code",
   "execution_count": null,
   "metadata": {},
   "outputs": [],
   "source": [
    "###\n",
    "    \"\"\"Crée un dossier s'il n'existe pas\n",
    "    \n",
    "    nom_dossier -- Nom du dossier (str)\n",
    "    \"\"\"\n",
    "\n",
    "    if nom_dossier ###\n",
    "        print(f'Le dossier \"{nom_dossier}\" existe déjà!')\n",
    "    ###:\n",
    "        os.mkdir(nom_dossier)\n",
    "        print(f'Nouveau dossier: \"{nom_dossier}\"!')"
   ]
  },
  {
   "cell_type": "code",
   "execution_count": null,
   "metadata": {},
   "outputs": [],
   "source": [
    "dossier_cible = ###\n",
    "\n",
    "creer_dossier(dossier_cible)\n",
    "os.listdir('.')"
   ]
  },
  {
   "cell_type": "markdown",
   "metadata": {},
   "source": [
    "d) Créez la fonction `dist_ang2(lat1, long1, lat2, long2)` qui reçoit deux paires de coordonnées et qui calcule le carré de la distance entre ces coordonnées."
   ]
  },
  {
   "cell_type": "code",
   "execution_count": null,
   "metadata": {},
   "outputs": [],
   "source": [
    "###\n",
    "    \"\"\"Retourne le carré de la distance angulaire\n",
    "    \n",
    "    lat1, lat2 -- Latitudes (scalaire ou vecteur)\n",
    "    long1, long2 -- Longitudes (scalaire ou vecteur)\n",
    "    \"\"\"\n",
    "    \n",
    "    # Différences calculées élément par élément\n",
    "    delta_lat = lat2 - lat1\n",
    "    delta_long = ###\n",
    "    \n",
    "    # Retourne le carré de la distance angulaire\n",
    "    return delta_lat * delta_lat + ###"
   ]
  },
  {
   "cell_type": "code",
   "execution_count": null,
   "metadata": {},
   "outputs": [],
   "source": [
    "# Test unitaire : doit retourner 25 = (5-2)*(5-2)+(7-3)*(7-3)\n",
    "dist_ang2(2, 3, 5, 7)"
   ]
  },
  {
   "cell_type": "markdown",
   "metadata": {},
   "source": [
    "e) Créez la fonction `trouver_aeroport()` avec les arguments décrits dans le Docstring. Complétez la fonction en tenant compte des commentaires."
   ]
  },
  {
   "cell_type": "code",
   "execution_count": null,
   "metadata": {},
   "outputs": [],
   "source": [
    "###\n",
    "    \"\"\"Retourne le code IATA de l'aéroport le plus proche\n",
    "    \n",
    "    aeroports -- DataFrame des aeroports\n",
    "    latitude -- degré de latitude\n",
    "    longitude -- degré de longitude\n",
    "    \"\"\"\n",
    "    \n",
    "    # Copier les colonnes iata, latitude et longitude\n",
    "    iata_long_lat = aeroports[###].###()\n",
    "    \n",
    "    # Appeler dist_ang2() avec les coordonnées des aéroports\n",
    "    # et les coordonnées reçues en argument\n",
    "    iata_long_lat['dist_ang2'] = dist_ang2(\n",
    "        iata_long_lat['latitude'], iata_long_lat['###'], latitude, ###)\n",
    "    \n",
    "    # Obtenir la distance minimale\n",
    "    dist_ang2_min = iata_long_lat['dist_ang2']###\n",
    "    \n",
    "    # Garder la ou les rangées de cette distance minimale\n",
    "    aero_locales = iata_long_lat[iata_long_lat['dist_ang2'] ###]\n",
    "    \n",
    "    # Réinitialiser l'index et retourner le premier code IATA\n",
    "    return aero_locales.###().loc[###]"
   ]
  },
  {
   "cell_type": "code",
   "execution_count": null,
   "metadata": {},
   "outputs": [],
   "source": [
    "# Test unitaire : doit retourner 'OMA'\n",
    "trouver_aeroport(aeroports, 40, -100)"
   ]
  },
  {
   "cell_type": "markdown",
   "metadata": {},
   "source": [
    "f) Créez la fonction `trouver_code_etat()` avec les arguments décrits dans le Docstring. Complétez la fonction en tenant compte des commentaires."
   ]
  },
  {
   "cell_type": "code",
   "execution_count": null,
   "metadata": {},
   "outputs": [],
   "source": [
    "###\n",
    "    \"\"\"Retourne le code d'état selon le code IATA\n",
    "    \n",
    "    aeroports -- DataFrame des aeroports\n",
    "    code_iata -- Typiquement un code de 3 lettres\n",
    "    \"\"\"\n",
    "    \n",
    "    # Copier la rangée où le code IATA correspond\n",
    "    aeroport = aeroports[aeroports['iata'] ###].###()\n",
    "    \n",
    "    # Réinitialiser l'index et retourner le premier code IATA\n",
    "    return aeroport.###().loc[###]"
   ]
  },
  {
   "cell_type": "markdown",
   "metadata": {},
   "source": [
    "g) Complétez la boucle sur chaque `capitale` des états :\n",
    "* L'itérable est donnée par la méthode [`df.itertuples()`](https://pandas.pydata.org/docs/reference/api/pandas.DataFrame.itertuples.html).\n",
    "* Appelez la fonction `trouver_aeroport()` pour obtenir le code IATA.\n",
    "* Appelez la fonction `trouver_code_etat()` pour obtenir le code d'état.\n",
    "* Sélectionnez les `vols` dont l'origine **ou** la destination est le code IATA.\n",
    "* Sauvegardez cette sélection dans le fichier CSV."
   ]
  },
  {
   "cell_type": "code",
   "execution_count": null,
   "metadata": {},
   "outputs": [],
   "source": [
    "# Pour chaque capitale\n",
    "### capitales.itertuples(name=\"Capitale\", index=False):\n",
    "    # Obtenir le code IATA pour ensuite obtenir le code d'état\n",
    "    code_iata = trouver_###(aeroports, capitale.lat, capitale.lon)\n",
    "    code_etat = trouver_###(aeroports, ###)\n",
    "    \n",
    "    # Sélectionner les vols concernant l'aéroport choisi\n",
    "    vols_cap = vols[(vols['origin'] ###) ###\n",
    "                    (vols['destination'] ###)]\n",
    "    \n",
    "    # Syntaxe du nom de fichier : \"XY-Nom Ville-ABC.csv\"\n",
    "    nom_fichier = code_### + \"-\" + capitale.city + \"-\" + code_### + \".csv\"\n",
    "    \n",
    "    # Sauvegarder vols_cap dans un fichier CSV dans dossier_cible\n",
    "    ###(os.path.join(dossier_cible, nom_###))\n",
    "\n",
    "os.listdir(dossier_cible)"
   ]
  },
  {
   "cell_type": "code",
   "execution_count": null,
   "metadata": {},
   "outputs": [],
   "source": []
  }
 ],
 "metadata": {
  "kernelspec": {
   "display_name": "Python 3",
   "language": "python",
   "name": "python3"
  },
  "language_info": {
   "codemirror_mode": {
    "name": "ipython",
    "version": 3
   },
   "file_extension": ".py",
   "mimetype": "text/x-python",
   "name": "python",
   "nbconvert_exporter": "python",
   "pygments_lexer": "ipython3",
   "version": "3.7.4"
  }
 },
 "nbformat": 4,
 "nbformat_minor": 2
}
