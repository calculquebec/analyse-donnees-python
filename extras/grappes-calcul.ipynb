{
 "cells": [
  {
   "cell_type": "markdown",
   "id": "1d443203",
   "metadata": {},
   "source": [
    "# Analyse et visualisation de données avec Python\n",
    "## Analyse de données sur les grappes de calcul\n",
    "\n",
    "Questions\n",
    "* Comment effectuer des analyses de données sur une grappe de calcul?\n",
    "\n",
    "Objectifs\n",
    "* Préparer un script Python\n",
    "* Utiliser un script de tâche"
   ]
  },
  {
   "cell_type": "markdown",
   "id": "7123b4e3",
   "metadata": {},
   "source": [
    "## Processus typique\n",
    "1. Avoir un [compte Calcul Canada](https://docs.computecanada.ca/wiki/Getting_started/fr)\n",
    "1. [Importer les données](https://docs.computecanada.ca/wiki/Transferring_data/fr) sur la grappe de calcul\n",
    "  1. En conformité avec votre plan de [gestion des données de recherche](https://docs.computecanada.ca/wiki/Research_Data_Management/fr)\n",
    "1. Développement du code de l’analyse\n",
    "  1. Prototypage interactif ([session SSH](https://docs.computecanada.ca/wiki/SSH/fr) ou [JupyterHub](https://docs.computecanada.ca/wiki/JupyterHub/fr))\n",
    "  1. Création de scripts [Python](https://docs.computecanada.ca/wiki/Python/fr) (fichiers `*.py`)\n",
    "1. [Lancement de tâches](https://docs.computecanada.ca/wiki/Running_jobs/fr) de calculs intensifs\n",
    "\n",
    "Voir aussi notre atelier [*Premiers pas sur les serveurs de calcul*](https://docs.computecanada.ca/wiki/%C3%89v%C3%A9nements_pass%C3%A9s)"
   ]
  },
  {
   "cell_type": "markdown",
   "id": "5b631963",
   "metadata": {},
   "source": [
    "## Préparer un script Python\n",
    "Dans le dossier `scripts/`, on y trouve le fichier `gen-scatter.py`:\n",
    "```\n",
    "#!/usr/bin/env python\n",
    "\n",
    "import pandas as pd\n",
    "\n",
    "surveys_df = pd.read_csv(\"../data/surveys.csv\")\n",
    "\n",
    "les_axes = surveys_df.plot('weight', 'hindfoot_length', kind=\"scatter\")\n",
    "les_axes.get_figure().savefig(\"scatter.png\")\n",
    "```"
   ]
  },
  {
   "cell_type": "markdown",
   "id": "f81c898d",
   "metadata": {},
   "source": [
    "## Configuration de Python\n",
    "Au choix :\n",
    "* Utiliser les modules disponibles (note : **Plotnine est manquant**) :\n",
    "```\n",
    "module load python/3.8 scipy-stack\n",
    "```\n",
    "\n",
    "* Ou créer un environnement virtuel :\n",
    "```\n",
    "virtualenv --no-download dat201\n",
    "source dat201/bin/activate\n",
    "pip install --no-index pandas plotnine\n",
    "```"
   ]
  },
  {
   "cell_type": "markdown",
   "id": "2e1c7d73",
   "metadata": {},
   "source": [
    "## Script de tâche\n",
    "L'exécution automatique du script Python se fera lors\n",
    "d'une tâche préalablement soumise à l'ordonnanceur Slurm.\n",
    "Or, la définition d'une telle tâche peut être faite via\n",
    "un script Bash. Par exemple, `gen-scatter.sh` :\n",
    "\n",
    "```\n",
    "#!/bin/bash\n",
    "#SBATCH --account=def-someuser\n",
    "#SBATCH --mem-per-cpu=1500M\n",
    "#SBATCH --time=0:10:00\n",
    "\n",
    "source dat201/bin/activate\n",
    "python gen-scatter.py\n",
    "```\n",
    "\n",
    "1. À soumettre avec : `sbatch gen-scatter.sh`\n",
    "1. Voir l’état avec: `squeue -u $USER`"
   ]
  },
  {
   "cell_type": "markdown",
   "id": "79e1ba97",
   "metadata": {},
   "source": [
    "## Utilisation de fichiers SQLite\n",
    "* SQL : Structured Query Language\n",
    "  * Pour des bases de données relationnelles\n",
    "* SQLite : base de données dans un fichier\n",
    "  * Réduction de l’espace-disque utilisé par rapport aux fichiers CSV\n",
    "  * Réduction de l’espace-mémoire utilisé par rapport au chargement complet d’un fichier CSV\n",
    "  * Optimisation de l’accès aux données\n",
    "    * Sélection, jonction, filtrage et regroupement des données au niveau SQL plutôt que dans Pandas\n",
    "* Documentation [Calcul Canada](https://docs.computecanada.ca/wiki/SQLite/fr)\n",
    "* Tutoriel [Data Carpentry](https://datacarpentry.org/sql-ecology-lesson/)"
   ]
  },
  {
   "cell_type": "code",
   "execution_count": null,
   "id": "27288411",
   "metadata": {},
   "outputs": [],
   "source": []
  }
 ],
 "metadata": {
  "kernelspec": {
   "display_name": "Python 3 (ipykernel)",
   "language": "python",
   "name": "python3"
  },
  "language_info": {
   "codemirror_mode": {
    "name": "ipython",
    "version": 3
   },
   "file_extension": ".py",
   "mimetype": "text/x-python",
   "name": "python",
   "nbconvert_exporter": "python",
   "pygments_lexer": "ipython3",
   "version": "3.8.10"
  }
 },
 "nbformat": 4,
 "nbformat_minor": 5
}
